{
 "cells": [
  {
   "cell_type": "code",
   "execution_count": 158,
   "metadata": {
    "ExecuteTime": {
     "end_time": "2020-03-23T03:16:20.887579Z",
     "start_time": "2020-03-23T03:16:20.884129Z"
    }
   },
   "outputs": [],
   "source": [
    "import numpy as np \n",
    "import pandas as pd \n",
    "\n",
    "\n",
    "import os\n",
    "from pmdarima.arima import auto_arima\n",
    "import psycopg2 as pg\n",
    "\n",
    "import pandas.io.sql as pd_sql\n",
    "from sklearn.model_selection import train_test_split\n",
    "\n"
   ]
  },
  {
   "cell_type": "code",
   "execution_count": 159,
   "metadata": {
    "ExecuteTime": {
     "end_time": "2020-03-23T03:16:20.896336Z",
     "start_time": "2020-03-23T03:16:20.889426Z"
    }
   },
   "outputs": [],
   "source": [
    "import psycopg2 as pg\n",
    "\n",
    "connection_args = {\n",
    "    'host': 'localhost',  # We are connecting to our _local_ version of psql\n",
    "    'dbname': 'names',    # DB that we are connecting to\n",
    "    'port': 5432          # port for psql\n",
    "}\n",
    "\n",
    "# We will talk about this magic Python trick!\n",
    "connection = pg.connect(**connection_args)\n",
    "from sqlalchemy import create_engine\n",
    "engine = create_engine('postgresql://hansremy:Hryr1321@@localhost:5432/Project5')"
   ]
  },
  {
   "cell_type": "code",
   "execution_count": 160,
   "metadata": {
    "ExecuteTime": {
     "end_time": "2020-03-23T03:16:20.902636Z",
     "start_time": "2020-03-23T03:16:20.898533Z"
    }
   },
   "outputs": [],
   "source": [
    "import matplotlib.pyplot as plt\n",
    "import seaborn as sns\n",
    "sns.set()\n",
    "%matplotlib inline"
   ]
  },
  {
   "cell_type": "code",
   "execution_count": 161,
   "metadata": {
    "ExecuteTime": {
     "end_time": "2020-03-23T03:16:20.907065Z",
     "start_time": "2020-03-23T03:16:20.904614Z"
    }
   },
   "outputs": [],
   "source": [
    "from fbprophet import Prophet\n",
    "from fbprophet.diagnostics import cross_validation\n",
    "from fbprophet.diagnostics import performance_metrics"
   ]
  },
  {
   "cell_type": "code",
   "execution_count": 162,
   "metadata": {
    "ExecuteTime": {
     "end_time": "2020-03-23T03:16:20.911002Z",
     "start_time": "2020-03-23T03:16:20.908778Z"
    }
   },
   "outputs": [],
   "source": [
    "rootPathSourceData = './Data/smart-meters-in-london/'"
   ]
  },
  {
   "cell_type": "code",
   "execution_count": 163,
   "metadata": {
    "ExecuteTime": {
     "end_time": "2020-03-23T03:16:20.950429Z",
     "start_time": "2020-03-23T03:16:20.912657Z"
    }
   },
   "outputs": [],
   "source": [
    "weatherHourlyPath = rootPathSourceData + 'weather_hourly_darksky.csv'\n",
    "df_weatherHourly = pd.read_csv(weatherHourlyPath, header=0, sep=',')"
   ]
  },
  {
   "cell_type": "code",
   "execution_count": 164,
   "metadata": {
    "ExecuteTime": {
     "end_time": "2020-03-23T03:16:20.974727Z",
     "start_time": "2020-03-23T03:16:20.952675Z"
    }
   },
   "outputs": [
    {
     "data": {
      "text/html": [
       "<div>\n",
       "<style scoped>\n",
       "    .dataframe tbody tr th:only-of-type {\n",
       "        vertical-align: middle;\n",
       "    }\n",
       "\n",
       "    .dataframe tbody tr th {\n",
       "        vertical-align: top;\n",
       "    }\n",
       "\n",
       "    .dataframe thead th {\n",
       "        text-align: right;\n",
       "    }\n",
       "</style>\n",
       "<table border=\"1\" class=\"dataframe\">\n",
       "  <thead>\n",
       "    <tr style=\"text-align: right;\">\n",
       "      <th></th>\n",
       "      <th>visibility</th>\n",
       "      <th>windBearing</th>\n",
       "      <th>temperature</th>\n",
       "      <th>time</th>\n",
       "      <th>dewPoint</th>\n",
       "      <th>pressure</th>\n",
       "      <th>apparentTemperature</th>\n",
       "      <th>windSpeed</th>\n",
       "      <th>precipType</th>\n",
       "      <th>icon</th>\n",
       "      <th>humidity</th>\n",
       "      <th>summary</th>\n",
       "    </tr>\n",
       "  </thead>\n",
       "  <tbody>\n",
       "    <tr>\n",
       "      <th>0</th>\n",
       "      <td>5.97</td>\n",
       "      <td>104</td>\n",
       "      <td>10.24</td>\n",
       "      <td>2011-11-11 00:00:00</td>\n",
       "      <td>8.86</td>\n",
       "      <td>1016.76</td>\n",
       "      <td>10.24</td>\n",
       "      <td>2.77</td>\n",
       "      <td>rain</td>\n",
       "      <td>partly-cloudy-night</td>\n",
       "      <td>0.91</td>\n",
       "      <td>Partly Cloudy</td>\n",
       "    </tr>\n",
       "    <tr>\n",
       "      <th>1</th>\n",
       "      <td>4.88</td>\n",
       "      <td>99</td>\n",
       "      <td>9.76</td>\n",
       "      <td>2011-11-11 01:00:00</td>\n",
       "      <td>8.83</td>\n",
       "      <td>1016.63</td>\n",
       "      <td>8.24</td>\n",
       "      <td>2.95</td>\n",
       "      <td>rain</td>\n",
       "      <td>partly-cloudy-night</td>\n",
       "      <td>0.94</td>\n",
       "      <td>Partly Cloudy</td>\n",
       "    </tr>\n",
       "    <tr>\n",
       "      <th>2</th>\n",
       "      <td>3.70</td>\n",
       "      <td>98</td>\n",
       "      <td>9.46</td>\n",
       "      <td>2011-11-11 02:00:00</td>\n",
       "      <td>8.79</td>\n",
       "      <td>1016.36</td>\n",
       "      <td>7.76</td>\n",
       "      <td>3.17</td>\n",
       "      <td>rain</td>\n",
       "      <td>partly-cloudy-night</td>\n",
       "      <td>0.96</td>\n",
       "      <td>Partly Cloudy</td>\n",
       "    </tr>\n",
       "    <tr>\n",
       "      <th>3</th>\n",
       "      <td>3.12</td>\n",
       "      <td>99</td>\n",
       "      <td>9.23</td>\n",
       "      <td>2011-11-11 03:00:00</td>\n",
       "      <td>8.63</td>\n",
       "      <td>1016.28</td>\n",
       "      <td>7.44</td>\n",
       "      <td>3.25</td>\n",
       "      <td>rain</td>\n",
       "      <td>fog</td>\n",
       "      <td>0.96</td>\n",
       "      <td>Foggy</td>\n",
       "    </tr>\n",
       "    <tr>\n",
       "      <th>4</th>\n",
       "      <td>1.85</td>\n",
       "      <td>111</td>\n",
       "      <td>9.26</td>\n",
       "      <td>2011-11-11 04:00:00</td>\n",
       "      <td>9.21</td>\n",
       "      <td>1015.98</td>\n",
       "      <td>7.24</td>\n",
       "      <td>3.70</td>\n",
       "      <td>rain</td>\n",
       "      <td>fog</td>\n",
       "      <td>1.00</td>\n",
       "      <td>Foggy</td>\n",
       "    </tr>\n",
       "    <tr>\n",
       "      <th>...</th>\n",
       "      <td>...</td>\n",
       "      <td>...</td>\n",
       "      <td>...</td>\n",
       "      <td>...</td>\n",
       "      <td>...</td>\n",
       "      <td>...</td>\n",
       "      <td>...</td>\n",
       "      <td>...</td>\n",
       "      <td>...</td>\n",
       "      <td>...</td>\n",
       "      <td>...</td>\n",
       "      <td>...</td>\n",
       "    </tr>\n",
       "    <tr>\n",
       "      <th>21160</th>\n",
       "      <td>12.68</td>\n",
       "      <td>247</td>\n",
       "      <td>7.39</td>\n",
       "      <td>2014-02-15 19:00:00</td>\n",
       "      <td>3.06</td>\n",
       "      <td>997.07</td>\n",
       "      <td>3.91</td>\n",
       "      <td>6.08</td>\n",
       "      <td>rain</td>\n",
       "      <td>partly-cloudy-night</td>\n",
       "      <td>0.74</td>\n",
       "      <td>Partly Cloudy</td>\n",
       "    </tr>\n",
       "    <tr>\n",
       "      <th>21161</th>\n",
       "      <td>13.78</td>\n",
       "      <td>249</td>\n",
       "      <td>6.56</td>\n",
       "      <td>2014-02-15 20:00:00</td>\n",
       "      <td>2.76</td>\n",
       "      <td>998.15</td>\n",
       "      <td>3.03</td>\n",
       "      <td>5.61</td>\n",
       "      <td>rain</td>\n",
       "      <td>clear-night</td>\n",
       "      <td>0.77</td>\n",
       "      <td>Clear</td>\n",
       "    </tr>\n",
       "    <tr>\n",
       "      <th>21162</th>\n",
       "      <td>14.31</td>\n",
       "      <td>248</td>\n",
       "      <td>6.47</td>\n",
       "      <td>2014-02-15 21:00:00</td>\n",
       "      <td>2.71</td>\n",
       "      <td>999.28</td>\n",
       "      <td>3.06</td>\n",
       "      <td>5.25</td>\n",
       "      <td>rain</td>\n",
       "      <td>clear-night</td>\n",
       "      <td>0.77</td>\n",
       "      <td>Clear</td>\n",
       "    </tr>\n",
       "    <tr>\n",
       "      <th>21163</th>\n",
       "      <td>14.31</td>\n",
       "      <td>248</td>\n",
       "      <td>5.96</td>\n",
       "      <td>2014-02-15 22:00:00</td>\n",
       "      <td>2.69</td>\n",
       "      <td>1000.33</td>\n",
       "      <td>2.68</td>\n",
       "      <td>4.69</td>\n",
       "      <td>rain</td>\n",
       "      <td>clear-night</td>\n",
       "      <td>0.80</td>\n",
       "      <td>Clear</td>\n",
       "    </tr>\n",
       "    <tr>\n",
       "      <th>21164</th>\n",
       "      <td>14.31</td>\n",
       "      <td>246</td>\n",
       "      <td>5.38</td>\n",
       "      <td>2014-02-15 23:00:00</td>\n",
       "      <td>2.60</td>\n",
       "      <td>1001.25</td>\n",
       "      <td>1.77</td>\n",
       "      <td>5.09</td>\n",
       "      <td>rain</td>\n",
       "      <td>clear-night</td>\n",
       "      <td>0.82</td>\n",
       "      <td>Clear</td>\n",
       "    </tr>\n",
       "  </tbody>\n",
       "</table>\n",
       "<p>21165 rows × 12 columns</p>\n",
       "</div>"
      ],
      "text/plain": [
       "       visibility  windBearing  temperature                 time  dewPoint  \\\n",
       "0            5.97          104        10.24  2011-11-11 00:00:00      8.86   \n",
       "1            4.88           99         9.76  2011-11-11 01:00:00      8.83   \n",
       "2            3.70           98         9.46  2011-11-11 02:00:00      8.79   \n",
       "3            3.12           99         9.23  2011-11-11 03:00:00      8.63   \n",
       "4            1.85          111         9.26  2011-11-11 04:00:00      9.21   \n",
       "...           ...          ...          ...                  ...       ...   \n",
       "21160       12.68          247         7.39  2014-02-15 19:00:00      3.06   \n",
       "21161       13.78          249         6.56  2014-02-15 20:00:00      2.76   \n",
       "21162       14.31          248         6.47  2014-02-15 21:00:00      2.71   \n",
       "21163       14.31          248         5.96  2014-02-15 22:00:00      2.69   \n",
       "21164       14.31          246         5.38  2014-02-15 23:00:00      2.60   \n",
       "\n",
       "       pressure  apparentTemperature  windSpeed precipType  \\\n",
       "0       1016.76                10.24       2.77       rain   \n",
       "1       1016.63                 8.24       2.95       rain   \n",
       "2       1016.36                 7.76       3.17       rain   \n",
       "3       1016.28                 7.44       3.25       rain   \n",
       "4       1015.98                 7.24       3.70       rain   \n",
       "...         ...                  ...        ...        ...   \n",
       "21160    997.07                 3.91       6.08       rain   \n",
       "21161    998.15                 3.03       5.61       rain   \n",
       "21162    999.28                 3.06       5.25       rain   \n",
       "21163   1000.33                 2.68       4.69       rain   \n",
       "21164   1001.25                 1.77       5.09       rain   \n",
       "\n",
       "                      icon  humidity        summary  \n",
       "0      partly-cloudy-night      0.91  Partly Cloudy  \n",
       "1      partly-cloudy-night      0.94  Partly Cloudy  \n",
       "2      partly-cloudy-night      0.96  Partly Cloudy  \n",
       "3                      fog      0.96          Foggy  \n",
       "4                      fog      1.00          Foggy  \n",
       "...                    ...       ...            ...  \n",
       "21160  partly-cloudy-night      0.74  Partly Cloudy  \n",
       "21161          clear-night      0.77          Clear  \n",
       "21162          clear-night      0.77          Clear  \n",
       "21163          clear-night      0.80          Clear  \n",
       "21164          clear-night      0.82          Clear  \n",
       "\n",
       "[21165 rows x 12 columns]"
      ]
     },
     "execution_count": 164,
     "metadata": {},
     "output_type": "execute_result"
    }
   ],
   "source": [
    "df_weatherHourly"
   ]
  },
  {
   "cell_type": "code",
   "execution_count": 165,
   "metadata": {
    "ExecuteTime": {
     "end_time": "2020-03-23T03:16:20.981700Z",
     "start_time": "2020-03-23T03:16:20.978118Z"
    }
   },
   "outputs": [
    {
     "data": {
      "text/plain": [
       "\"\\nconnection_args = {\\n    'host': 'localhost',  # We are connecting to our _local_ version of psql\\n    'dbname': 'names',    # DB that we are connecting to\\n    'port': 5432          # port for psql\\n}\\n\\n# We will talk about this magic Python trick!\\nconnection = pg.connect(**connection_args)\\nfrom sqlalchemy import create_engine\\nengine = create_engine('postgresql://hansremy:Hryr1321@@localhost:5432/Project5')\\ndf_weatherHourly.to_sql('WeatherHourly', engine)\\n\""
      ]
     },
     "execution_count": 165,
     "metadata": {},
     "output_type": "execute_result"
    }
   ],
   "source": [
    "# Postgres info to connect\n",
    "'''\n",
    "connection_args = {\n",
    "    'host': 'localhost',  # We are connecting to our _local_ version of psql\n",
    "    'dbname': 'names',    # DB that we are connecting to\n",
    "    'port': 5432          # port for psql\n",
    "}\n",
    "\n",
    "# We will talk about this magic Python trick!\n",
    "connection = pg.connect(**connection_args)\n",
    "from sqlalchemy import create_engine\n",
    "engine = create_engine('postgresql://hansremy:Hryr1321@@localhost:5432/Project5')\n",
    "df_weatherHourly.to_sql('WeatherHourly', engine)\n",
    "'''"
   ]
  },
  {
   "cell_type": "code",
   "execution_count": 166,
   "metadata": {
    "ExecuteTime": {
     "end_time": "2020-03-23T03:16:20.987083Z",
     "start_time": "2020-03-23T03:16:20.984768Z"
    }
   },
   "outputs": [],
   "source": [
    "#df_Adversity = pd.read_pickle(('./Data/AdversityGroup.pkl') )\n",
    "#df_Affluent = pd.read_pickle(('./Data/AffluentGroup.pkl') )\n",
    "#df_Comfortable = pd.read_pickle(('./Data/ComfortableGroup.pkl') )"
   ]
  },
  {
   "cell_type": "code",
   "execution_count": 173,
   "metadata": {
    "ExecuteTime": {
     "end_time": "2020-03-23T03:19:01.632224Z",
     "start_time": "2020-03-23T03:19:01.449751Z"
    },
    "scrolled": true
   },
   "outputs": [],
   "source": [
    "df_Adversity = pd.read_sql_table('Adversity',engine)\n",
    "df_Affluent = pd.read_sql_table('Affluent',engine)\n",
    "df_Comfortable = pd.read_sql_table('Comfortable',engine)\n",
    "#df_Adversity.drop('index',axis=1,inplace=True)\n",
    "#df_Affluent.drop('index',axis=1,inplace=True)\n",
    "#df_Comfortable.drop('index',axis=1,inplace=True)"
   ]
  },
  {
   "cell_type": "code",
   "execution_count": 175,
   "metadata": {
    "ExecuteTime": {
     "end_time": "2020-03-23T03:24:33.852683Z",
     "start_time": "2020-03-23T03:24:33.829222Z"
    }
   },
   "outputs": [
    {
     "data": {
      "text/html": [
       "<div>\n",
       "<style scoped>\n",
       "    .dataframe tbody tr th:only-of-type {\n",
       "        vertical-align: middle;\n",
       "    }\n",
       "\n",
       "    .dataframe tbody tr th {\n",
       "        vertical-align: top;\n",
       "    }\n",
       "\n",
       "    .dataframe thead th {\n",
       "        text-align: right;\n",
       "    }\n",
       "</style>\n",
       "<table border=\"1\" class=\"dataframe\">\n",
       "  <thead>\n",
       "    <tr style=\"text-align: right;\">\n",
       "      <th></th>\n",
       "      <th>tstp</th>\n",
       "      <th>energy</th>\n",
       "      <th>temperature</th>\n",
       "    </tr>\n",
       "  </thead>\n",
       "  <tbody>\n",
       "    <tr>\n",
       "      <th>609</th>\n",
       "      <td>2011-11-23 09:30:00.0000000</td>\n",
       "      <td>0.41400</td>\n",
       "      <td>3.42</td>\n",
       "    </tr>\n",
       "    <tr>\n",
       "      <th>610</th>\n",
       "      <td>2011-11-23 10:30:00.0000000</td>\n",
       "      <td>0.09950</td>\n",
       "      <td>4.24</td>\n",
       "    </tr>\n",
       "    <tr>\n",
       "      <th>611</th>\n",
       "      <td>2011-11-23 11:30:00.0000000</td>\n",
       "      <td>0.13340</td>\n",
       "      <td>5.94</td>\n",
       "    </tr>\n",
       "    <tr>\n",
       "      <th>612</th>\n",
       "      <td>2011-11-23 12:30:00.0000000</td>\n",
       "      <td>0.11020</td>\n",
       "      <td>7.25</td>\n",
       "    </tr>\n",
       "    <tr>\n",
       "      <th>613</th>\n",
       "      <td>2011-11-23 13:30:00.0000000</td>\n",
       "      <td>0.18500</td>\n",
       "      <td>8.29</td>\n",
       "    </tr>\n",
       "    <tr>\n",
       "      <th>...</th>\n",
       "      <td>...</td>\n",
       "      <td>...</td>\n",
       "      <td>...</td>\n",
       "    </tr>\n",
       "    <tr>\n",
       "      <th>40327</th>\n",
       "      <td>2014-02-27 20:00:00.0000000</td>\n",
       "      <td>0.33923</td>\n",
       "      <td>3.47</td>\n",
       "    </tr>\n",
       "    <tr>\n",
       "      <th>40328</th>\n",
       "      <td>2014-02-27 21:00:00.0000000</td>\n",
       "      <td>0.32581</td>\n",
       "      <td>2.50</td>\n",
       "    </tr>\n",
       "    <tr>\n",
       "      <th>40329</th>\n",
       "      <td>2014-02-27 22:00:00.0000000</td>\n",
       "      <td>0.29109</td>\n",
       "      <td>1.41</td>\n",
       "    </tr>\n",
       "    <tr>\n",
       "      <th>40330</th>\n",
       "      <td>2014-02-27 23:00:00.0000000</td>\n",
       "      <td>0.24259</td>\n",
       "      <td>1.42</td>\n",
       "    </tr>\n",
       "    <tr>\n",
       "      <th>40331</th>\n",
       "      <td>2014-02-28 00:00:00.0000000</td>\n",
       "      <td>0.19173</td>\n",
       "      <td>1.47</td>\n",
       "    </tr>\n",
       "  </tbody>\n",
       "</table>\n",
       "<p>39723 rows × 3 columns</p>\n",
       "</div>"
      ],
      "text/plain": [
       "                              tstp   energy  temperature\n",
       "609    2011-11-23 09:30:00.0000000  0.41400         3.42\n",
       "610    2011-11-23 10:30:00.0000000  0.09950         4.24\n",
       "611    2011-11-23 11:30:00.0000000  0.13340         5.94\n",
       "612    2011-11-23 12:30:00.0000000  0.11020         7.25\n",
       "613    2011-11-23 13:30:00.0000000  0.18500         8.29\n",
       "...                            ...      ...          ...\n",
       "40327  2014-02-27 20:00:00.0000000  0.33923         3.47\n",
       "40328  2014-02-27 21:00:00.0000000  0.32581         2.50\n",
       "40329  2014-02-27 22:00:00.0000000  0.29109         1.41\n",
       "40330  2014-02-27 23:00:00.0000000  0.24259         1.42\n",
       "40331  2014-02-28 00:00:00.0000000  0.19173         1.47\n",
       "\n",
       "[39723 rows x 3 columns]"
      ]
     },
     "execution_count": 175,
     "metadata": {},
     "output_type": "execute_result"
    }
   ],
   "source": [
    "df_Affluent.dropna()\n",
    "df_Adversity.dropna()\n",
    "df_Comfortable.dropna()"
   ]
  },
  {
   "cell_type": "code",
   "execution_count": 168,
   "metadata": {
    "ExecuteTime": {
     "end_time": "2020-03-23T03:16:56.094274Z",
     "start_time": "2020-03-23T03:16:56.083200Z"
    }
   },
   "outputs": [
    {
     "data": {
      "text/html": [
       "<div>\n",
       "<style scoped>\n",
       "    .dataframe tbody tr th:only-of-type {\n",
       "        vertical-align: middle;\n",
       "    }\n",
       "\n",
       "    .dataframe tbody tr th {\n",
       "        vertical-align: top;\n",
       "    }\n",
       "\n",
       "    .dataframe thead th {\n",
       "        text-align: right;\n",
       "    }\n",
       "</style>\n",
       "<table border=\"1\" class=\"dataframe\">\n",
       "  <thead>\n",
       "    <tr style=\"text-align: right;\">\n",
       "      <th></th>\n",
       "      <th>tstp</th>\n",
       "      <th>energy</th>\n",
       "      <th>temperature</th>\n",
       "    </tr>\n",
       "  </thead>\n",
       "  <tbody>\n",
       "    <tr>\n",
       "      <th>0</th>\n",
       "      <td>2012-12-18 15:13:26.0000000</td>\n",
       "      <td>NaN</td>\n",
       "      <td>NaN</td>\n",
       "    </tr>\n",
       "    <tr>\n",
       "      <th>1</th>\n",
       "      <td>2012-12-18 15:13:27.0000000</td>\n",
       "      <td>NaN</td>\n",
       "      <td>NaN</td>\n",
       "    </tr>\n",
       "    <tr>\n",
       "      <th>2</th>\n",
       "      <td>2012-12-18 15:13:28.0000000</td>\n",
       "      <td>NaN</td>\n",
       "      <td>NaN</td>\n",
       "    </tr>\n",
       "    <tr>\n",
       "      <th>3</th>\n",
       "      <td>2012-12-18 15:13:29.0000000</td>\n",
       "      <td>NaN</td>\n",
       "      <td>NaN</td>\n",
       "    </tr>\n",
       "    <tr>\n",
       "      <th>4</th>\n",
       "      <td>2012-12-18 15:13:30.0000000</td>\n",
       "      <td>NaN</td>\n",
       "      <td>NaN</td>\n",
       "    </tr>\n",
       "    <tr>\n",
       "      <th>...</th>\n",
       "      <td>...</td>\n",
       "      <td>...</td>\n",
       "      <td>...</td>\n",
       "    </tr>\n",
       "    <tr>\n",
       "      <th>40327</th>\n",
       "      <td>2014-02-27 20:00:00.0000000</td>\n",
       "      <td>0.33923</td>\n",
       "      <td>3.47</td>\n",
       "    </tr>\n",
       "    <tr>\n",
       "      <th>40328</th>\n",
       "      <td>2014-02-27 21:00:00.0000000</td>\n",
       "      <td>0.32581</td>\n",
       "      <td>2.50</td>\n",
       "    </tr>\n",
       "    <tr>\n",
       "      <th>40329</th>\n",
       "      <td>2014-02-27 22:00:00.0000000</td>\n",
       "      <td>0.29109</td>\n",
       "      <td>1.41</td>\n",
       "    </tr>\n",
       "    <tr>\n",
       "      <th>40330</th>\n",
       "      <td>2014-02-27 23:00:00.0000000</td>\n",
       "      <td>0.24259</td>\n",
       "      <td>1.42</td>\n",
       "    </tr>\n",
       "    <tr>\n",
       "      <th>40331</th>\n",
       "      <td>2014-02-28 00:00:00.0000000</td>\n",
       "      <td>0.19173</td>\n",
       "      <td>1.47</td>\n",
       "    </tr>\n",
       "  </tbody>\n",
       "</table>\n",
       "<p>40332 rows × 3 columns</p>\n",
       "</div>"
      ],
      "text/plain": [
       "                              tstp   energy  temperature\n",
       "0      2012-12-18 15:13:26.0000000      NaN          NaN\n",
       "1      2012-12-18 15:13:27.0000000      NaN          NaN\n",
       "2      2012-12-18 15:13:28.0000000      NaN          NaN\n",
       "3      2012-12-18 15:13:29.0000000      NaN          NaN\n",
       "4      2012-12-18 15:13:30.0000000      NaN          NaN\n",
       "...                            ...      ...          ...\n",
       "40327  2014-02-27 20:00:00.0000000  0.33923         3.47\n",
       "40328  2014-02-27 21:00:00.0000000  0.32581         2.50\n",
       "40329  2014-02-27 22:00:00.0000000  0.29109         1.41\n",
       "40330  2014-02-27 23:00:00.0000000  0.24259         1.42\n",
       "40331  2014-02-28 00:00:00.0000000  0.19173         1.47\n",
       "\n",
       "[40332 rows x 3 columns]"
      ]
     },
     "execution_count": 168,
     "metadata": {},
     "output_type": "execute_result"
    }
   ],
   "source": [
    "df_Comfortable"
   ]
  },
  {
   "cell_type": "code",
   "execution_count": null,
   "metadata": {},
   "outputs": [],
   "source": []
  },
  {
   "cell_type": "code",
   "execution_count": null,
   "metadata": {
    "ExecuteTime": {
     "end_time": "2020-03-23T03:16:21.216021Z",
     "start_time": "2020-03-23T03:16:20.901Z"
    }
   },
   "outputs": [],
   "source": [
    "df_ukHoliday = pd.read_sql_table('UKHoliday',engine)"
   ]
  },
  {
   "cell_type": "code",
   "execution_count": null,
   "metadata": {},
   "outputs": [],
   "source": []
  },
  {
   "cell_type": "code",
   "execution_count": null,
   "metadata": {
    "ExecuteTime": {
     "end_time": "2020-03-23T03:16:21.217257Z",
     "start_time": "2020-03-23T03:16:20.903Z"
    }
   },
   "outputs": [],
   "source": [
    "df_ukHoliday"
   ]
  },
  {
   "cell_type": "code",
   "execution_count": null,
   "metadata": {
    "ExecuteTime": {
     "end_time": "2020-03-23T03:16:21.218758Z",
     "start_time": "2020-03-23T03:16:20.905Z"
    }
   },
   "outputs": [],
   "source": [
    "df_ukHoliday['Date'] = pd.to_datetime(df_ukHoliday['Date'])"
   ]
  },
  {
   "cell_type": "code",
   "execution_count": null,
   "metadata": {
    "ExecuteTime": {
     "end_time": "2020-03-23T03:16:21.220075Z",
     "start_time": "2020-03-23T03:16:20.906Z"
    }
   },
   "outputs": [],
   "source": [
    "df_ukHoliday"
   ]
  },
  {
   "cell_type": "code",
   "execution_count": null,
   "metadata": {
    "ExecuteTime": {
     "end_time": "2020-03-23T03:16:21.221368Z",
     "start_time": "2020-03-23T03:16:20.908Z"
    }
   },
   "outputs": [],
   "source": [
    "def makeHolidayDFProphet(df_Holiday):\n",
    "    df = df_Holiday.groupby('Description')['Date'].apply(list)\n",
    "    df = df_Holiday.groupby('Description')['Date'].apply(list).reset_index(name='ds')\n",
    "    \n",
    "  \n",
    "    return df"
   ]
  },
  {
   "cell_type": "code",
   "execution_count": null,
   "metadata": {
    "ExecuteTime": {
     "end_time": "2020-03-23T03:16:21.222560Z",
     "start_time": "2020-03-23T03:16:20.909Z"
    }
   },
   "outputs": [],
   "source": [
    "df_Holidays = makeHolidayDFProphet(df_ukHoliday)"
   ]
  },
  {
   "cell_type": "code",
   "execution_count": null,
   "metadata": {
    "ExecuteTime": {
     "end_time": "2020-03-23T03:16:21.223820Z",
     "start_time": "2020-03-23T03:16:20.910Z"
    }
   },
   "outputs": [],
   "source": [
    "df_Holidays"
   ]
  },
  {
   "cell_type": "code",
   "execution_count": null,
   "metadata": {},
   "outputs": [],
   "source": []
  },
  {
   "cell_type": "code",
   "execution_count": null,
   "metadata": {
    "ExecuteTime": {
     "end_time": "2020-03-23T03:16:21.225026Z",
     "start_time": "2020-03-23T03:16:20.913Z"
    }
   },
   "outputs": [],
   "source": [
    "df_Holidays.columns = ['holiday', 'ds']"
   ]
  },
  {
   "cell_type": "code",
   "execution_count": 170,
   "metadata": {
    "ExecuteTime": {
     "end_time": "2020-03-23T03:18:19.377861Z",
     "start_time": "2020-03-23T03:18:19.353435Z"
    }
   },
   "outputs": [],
   "source": [
    "#df_Adversity = df_Adversity.set_index(\"tstp\")\n",
    "#df_Affluent = df_Affluent.set_index(\"tstp\")\n",
    "#df_Comfortable = df_Comfortable.set_index(\"tstp\")\n",
    "df_Adversity.index = df_Adversity.tstp.astype('datetime64[ns]')\n",
    "df_Affluent.index = df_Affluent.tstp.astype('datetime64[ns]')\n",
    "df_Comfortable.index = df_Comfortable.tstp.astype('datetime64[ns]')\n"
   ]
  },
  {
   "cell_type": "code",
   "execution_count": 171,
   "metadata": {
    "ExecuteTime": {
     "end_time": "2020-03-23T03:18:21.710302Z",
     "start_time": "2020-03-23T03:18:21.698737Z"
    }
   },
   "outputs": [
    {
     "name": "stderr",
     "output_type": "stream",
     "text": [
      "/Users/hansremy/opt/anaconda3/envs/metis/lib/python3.7/site-packages/pandas/core/ops/array_ops.py:253: FutureWarning:\n",
      "\n",
      "elementwise comparison failed; returning scalar instead, but in the future will perform elementwise comparison\n",
      "\n"
     ]
    }
   ],
   "source": [
    "df_Adversity = df_Adversity[df_Adversity[\"energy\"] != \"Null\"]\n",
    "df_Adversity[\"energy\"] = df_Adversity[\"energy\"].astype(\"float64\")\n",
    "df_Affluent = df_Affluent[df_Affluent[\"energy\"] != \"Null\"]\n",
    "df_Affluent[\"energy\"] = df_Affluent[\"energy\"].astype(\"float64\")\n",
    "df_Comfortable = df_Comfortable[df_Comfortable[\"energy\"] != \"Null\"]\n",
    "df_Comfortable[\"energy\"] = df_Comfortable[\"energy\"].astype(\"float64\")\n"
   ]
  },
  {
   "cell_type": "code",
   "execution_count": 172,
   "metadata": {
    "ExecuteTime": {
     "end_time": "2020-03-23T03:18:28.774751Z",
     "start_time": "2020-03-23T03:18:28.764777Z"
    }
   },
   "outputs": [
    {
     "data": {
      "text/html": [
       "<div>\n",
       "<style scoped>\n",
       "    .dataframe tbody tr th:only-of-type {\n",
       "        vertical-align: middle;\n",
       "    }\n",
       "\n",
       "    .dataframe tbody tr th {\n",
       "        vertical-align: top;\n",
       "    }\n",
       "\n",
       "    .dataframe thead th {\n",
       "        text-align: right;\n",
       "    }\n",
       "</style>\n",
       "<table border=\"1\" class=\"dataframe\">\n",
       "  <thead>\n",
       "    <tr style=\"text-align: right;\">\n",
       "      <th></th>\n",
       "      <th>tstp</th>\n",
       "      <th>energy</th>\n",
       "      <th>temperature</th>\n",
       "    </tr>\n",
       "    <tr>\n",
       "      <th>tstp</th>\n",
       "      <th></th>\n",
       "      <th></th>\n",
       "      <th></th>\n",
       "    </tr>\n",
       "  </thead>\n",
       "  <tbody>\n",
       "    <tr>\n",
       "      <th>2012-12-18 15:13:26</th>\n",
       "      <td>2012-12-18 15:13:26.0000000</td>\n",
       "      <td>NaN</td>\n",
       "      <td>NaN</td>\n",
       "    </tr>\n",
       "    <tr>\n",
       "      <th>2012-12-18 15:13:27</th>\n",
       "      <td>2012-12-18 15:13:27.0000000</td>\n",
       "      <td>NaN</td>\n",
       "      <td>NaN</td>\n",
       "    </tr>\n",
       "    <tr>\n",
       "      <th>2012-12-18 15:13:28</th>\n",
       "      <td>2012-12-18 15:13:28.0000000</td>\n",
       "      <td>NaN</td>\n",
       "      <td>NaN</td>\n",
       "    </tr>\n",
       "    <tr>\n",
       "      <th>2012-12-18 15:13:29</th>\n",
       "      <td>2012-12-18 15:13:29.0000000</td>\n",
       "      <td>NaN</td>\n",
       "      <td>NaN</td>\n",
       "    </tr>\n",
       "    <tr>\n",
       "      <th>2012-12-18 15:13:30</th>\n",
       "      <td>2012-12-18 15:13:30.0000000</td>\n",
       "      <td>NaN</td>\n",
       "      <td>NaN</td>\n",
       "    </tr>\n",
       "    <tr>\n",
       "      <th>...</th>\n",
       "      <td>...</td>\n",
       "      <td>...</td>\n",
       "      <td>...</td>\n",
       "    </tr>\n",
       "    <tr>\n",
       "      <th>2014-02-27 20:00:00</th>\n",
       "      <td>2014-02-27 20:00:00.0000000</td>\n",
       "      <td>0.33923</td>\n",
       "      <td>3.47</td>\n",
       "    </tr>\n",
       "    <tr>\n",
       "      <th>2014-02-27 21:00:00</th>\n",
       "      <td>2014-02-27 21:00:00.0000000</td>\n",
       "      <td>0.32581</td>\n",
       "      <td>2.50</td>\n",
       "    </tr>\n",
       "    <tr>\n",
       "      <th>2014-02-27 22:00:00</th>\n",
       "      <td>2014-02-27 22:00:00.0000000</td>\n",
       "      <td>0.29109</td>\n",
       "      <td>1.41</td>\n",
       "    </tr>\n",
       "    <tr>\n",
       "      <th>2014-02-27 23:00:00</th>\n",
       "      <td>2014-02-27 23:00:00.0000000</td>\n",
       "      <td>0.24259</td>\n",
       "      <td>1.42</td>\n",
       "    </tr>\n",
       "    <tr>\n",
       "      <th>2014-02-28 00:00:00</th>\n",
       "      <td>2014-02-28 00:00:00.0000000</td>\n",
       "      <td>0.19173</td>\n",
       "      <td>1.47</td>\n",
       "    </tr>\n",
       "  </tbody>\n",
       "</table>\n",
       "<p>40332 rows × 3 columns</p>\n",
       "</div>"
      ],
      "text/plain": [
       "                                            tstp   energy  temperature\n",
       "tstp                                                                  \n",
       "2012-12-18 15:13:26  2012-12-18 15:13:26.0000000      NaN          NaN\n",
       "2012-12-18 15:13:27  2012-12-18 15:13:27.0000000      NaN          NaN\n",
       "2012-12-18 15:13:28  2012-12-18 15:13:28.0000000      NaN          NaN\n",
       "2012-12-18 15:13:29  2012-12-18 15:13:29.0000000      NaN          NaN\n",
       "2012-12-18 15:13:30  2012-12-18 15:13:30.0000000      NaN          NaN\n",
       "...                                          ...      ...          ...\n",
       "2014-02-27 20:00:00  2014-02-27 20:00:00.0000000  0.33923         3.47\n",
       "2014-02-27 21:00:00  2014-02-27 21:00:00.0000000  0.32581         2.50\n",
       "2014-02-27 22:00:00  2014-02-27 22:00:00.0000000  0.29109         1.41\n",
       "2014-02-27 23:00:00  2014-02-27 23:00:00.0000000  0.24259         1.42\n",
       "2014-02-28 00:00:00  2014-02-28 00:00:00.0000000  0.19173         1.47\n",
       "\n",
       "[40332 rows x 3 columns]"
      ]
     },
     "execution_count": 172,
     "metadata": {},
     "output_type": "execute_result"
    }
   ],
   "source": [
    "df_Comfortable"
   ]
  },
  {
   "cell_type": "code",
   "execution_count": null,
   "metadata": {
    "ExecuteTime": {
     "end_time": "2020-03-23T03:16:21.228586Z",
     "start_time": "2020-03-23T03:16:20.918Z"
    }
   },
   "outputs": [],
   "source": [
    "df_Adversity.plot(y=\"energy\", figsize=(12, 4))"
   ]
  },
  {
   "cell_type": "code",
   "execution_count": null,
   "metadata": {
    "ExecuteTime": {
     "end_time": "2020-03-23T03:16:21.229723Z",
     "start_time": "2020-03-23T03:16:20.919Z"
    }
   },
   "outputs": [],
   "source": [
    "df_Affluent.plot(y=\"energy\", figsize=(12, 4))"
   ]
  },
  {
   "cell_type": "code",
   "execution_count": null,
   "metadata": {
    "ExecuteTime": {
     "end_time": "2020-03-23T03:16:21.230843Z",
     "start_time": "2020-03-23T03:16:20.921Z"
    }
   },
   "outputs": [],
   "source": [
    "df_Comfortable.plot(y=\"energy\", figsize=(12, 4))"
   ]
  },
  {
   "cell_type": "code",
   "execution_count": 157,
   "metadata": {
    "ExecuteTime": {
     "end_time": "2020-03-23T03:15:56.937307Z",
     "start_time": "2020-03-23T03:15:56.924275Z"
    }
   },
   "outputs": [
    {
     "data": {
      "text/html": [
       "<div>\n",
       "<style scoped>\n",
       "    .dataframe tbody tr th:only-of-type {\n",
       "        vertical-align: middle;\n",
       "    }\n",
       "\n",
       "    .dataframe tbody tr th {\n",
       "        vertical-align: top;\n",
       "    }\n",
       "\n",
       "    .dataframe thead th {\n",
       "        text-align: right;\n",
       "    }\n",
       "</style>\n",
       "<table border=\"1\" class=\"dataframe\">\n",
       "  <thead>\n",
       "    <tr style=\"text-align: right;\">\n",
       "      <th></th>\n",
       "      <th>y</th>\n",
       "      <th>temperature</th>\n",
       "    </tr>\n",
       "    <tr>\n",
       "      <th>tstp</th>\n",
       "      <th></th>\n",
       "      <th></th>\n",
       "    </tr>\n",
       "  </thead>\n",
       "  <tbody>\n",
       "    <tr>\n",
       "      <th>2011-11-24 00:30:00</th>\n",
       "      <td>0.16757</td>\n",
       "      <td>7.37</td>\n",
       "    </tr>\n",
       "    <tr>\n",
       "      <th>2011-11-24 01:30:00</th>\n",
       "      <td>0.15543</td>\n",
       "      <td>7.51</td>\n",
       "    </tr>\n",
       "    <tr>\n",
       "      <th>2011-11-24 02:30:00</th>\n",
       "      <td>0.13329</td>\n",
       "      <td>7.01</td>\n",
       "    </tr>\n",
       "    <tr>\n",
       "      <th>2011-11-24 03:30:00</th>\n",
       "      <td>0.10229</td>\n",
       "      <td>7.32</td>\n",
       "    </tr>\n",
       "    <tr>\n",
       "      <th>2011-11-24 04:30:00</th>\n",
       "      <td>0.08714</td>\n",
       "      <td>7.01</td>\n",
       "    </tr>\n",
       "    <tr>\n",
       "      <th>...</th>\n",
       "      <td>...</td>\n",
       "      <td>...</td>\n",
       "    </tr>\n",
       "    <tr>\n",
       "      <th>2014-02-27 20:00:00</th>\n",
       "      <td>0.33923</td>\n",
       "      <td>3.47</td>\n",
       "    </tr>\n",
       "    <tr>\n",
       "      <th>2014-02-27 21:00:00</th>\n",
       "      <td>0.32581</td>\n",
       "      <td>2.50</td>\n",
       "    </tr>\n",
       "    <tr>\n",
       "      <th>2014-02-27 22:00:00</th>\n",
       "      <td>0.29109</td>\n",
       "      <td>1.41</td>\n",
       "    </tr>\n",
       "    <tr>\n",
       "      <th>2014-02-27 23:00:00</th>\n",
       "      <td>0.24259</td>\n",
       "      <td>1.42</td>\n",
       "    </tr>\n",
       "    <tr>\n",
       "      <th>2014-02-28 00:00:00</th>\n",
       "      <td>0.19173</td>\n",
       "      <td>1.47</td>\n",
       "    </tr>\n",
       "  </tbody>\n",
       "</table>\n",
       "<p>40332 rows × 2 columns</p>\n",
       "</div>"
      ],
      "text/plain": [
       "                           y  temperature\n",
       "tstp                                     \n",
       "2011-11-24 00:30:00  0.16757         7.37\n",
       "2011-11-24 01:30:00  0.15543         7.51\n",
       "2011-11-24 02:30:00  0.13329         7.01\n",
       "2011-11-24 03:30:00  0.10229         7.32\n",
       "2011-11-24 04:30:00  0.08714         7.01\n",
       "...                      ...          ...\n",
       "2014-02-27 20:00:00  0.33923         3.47\n",
       "2014-02-27 21:00:00  0.32581         2.50\n",
       "2014-02-27 22:00:00  0.29109         1.41\n",
       "2014-02-27 23:00:00  0.24259         1.42\n",
       "2014-02-28 00:00:00  0.19173         1.47\n",
       "\n",
       "[40332 rows x 2 columns]"
      ]
     },
     "execution_count": 157,
     "metadata": {},
     "output_type": "execute_result"
    }
   ],
   "source": [
    "df_Comfortable.loc[:, df_Comfortable.isna().any()]"
   ]
  },
  {
   "cell_type": "code",
   "execution_count": 153,
   "metadata": {
    "ExecuteTime": {
     "end_time": "2020-03-23T02:50:53.100965Z",
     "start_time": "2020-03-23T02:50:53.095286Z"
    }
   },
   "outputs": [
    {
     "name": "stdout",
     "output_type": "stream",
     "text": [
      "                                            tstp   energy  temperature\n",
      "tstp                                                                  \n",
      "2011-11-23 09:30:00  2011-11-23 09:30:00.0000000  0.14700         3.42\n",
      "2011-11-23 10:30:00  2011-11-23 10:30:00.0000000  0.06300         4.24\n",
      "2011-11-23 11:30:00  2011-11-23 11:30:00.0000000  0.12000         5.94\n",
      "2011-11-23 12:30:00  2011-11-23 12:30:00.0000000  0.08950         7.25\n",
      "2011-11-23 13:30:00  2011-11-23 13:30:00.0000000  0.34500         8.29\n",
      "...                                          ...      ...          ...\n",
      "2014-02-27 20:00:00  2014-02-27 20:00:00.0000000  0.27816         3.47\n",
      "2014-02-27 21:00:00  2014-02-27 21:00:00.0000000  0.26860         2.50\n",
      "2014-02-27 22:00:00  2014-02-27 22:00:00.0000000  0.23544         1.41\n",
      "2014-02-27 23:00:00  2014-02-27 23:00:00.0000000  0.20078         1.42\n",
      "2014-02-28 00:00:00  2014-02-28 00:00:00.0000000  0.17575         1.47\n",
      "\n",
      "[40359 rows x 3 columns]\n"
     ]
    }
   ],
   "source": [
    "print(df_Adversity)"
   ]
  },
  {
   "cell_type": "code",
   "execution_count": null,
   "metadata": {},
   "outputs": [],
   "source": []
  },
  {
   "cell_type": "code",
   "execution_count": 154,
   "metadata": {
    "ExecuteTime": {
     "end_time": "2020-03-23T02:51:18.377795Z",
     "start_time": "2020-03-23T02:51:18.372307Z"
    }
   },
   "outputs": [],
   "source": [
    "def MakeProphetModel(df):\n",
    "   \n",
    "    train_size = int(0.8 * len(df))\n",
    "    dfy = df['energy']\n",
    "    print(df)\n",
    "    df.columns = ['ds','y','temperature']\n",
    "    print(df)\n",
    "    X_train, X_test, y_train, y_test = train_test_split(df, dfy, test_size=0.8)\n",
    "    \n",
    "    model = Prophet(yearly_seasonality=True)\n",
    "    \n",
    "    model.add_seasonality(name=\"monthly\", period=30.5, fourier_order=5)\n",
    "    model.add_regressor('temperature')\n",
    "    model.fit(X_train)\n",
    "    \n",
    "    return model,X_train, X_test"
   ]
  },
  {
   "cell_type": "code",
   "execution_count": 155,
   "metadata": {
    "ExecuteTime": {
     "end_time": "2020-03-23T02:51:18.761378Z",
     "start_time": "2020-03-23T02:51:18.757632Z"
    },
    "code_folding": []
   },
   "outputs": [
    {
     "data": {
      "text/plain": [
       "'\\ndef MakeProphetModelBack(df):\\n    train_size = int(0.8 * len(df))\\n    dfy = df[\\'energy\\']\\n    dfX = df.drop(\\'energy\\',1)\\n    #X_train, X_test, y_train, y_test = train_test_split(dfX, dfy, test_size=0.8)\\n    X_train, X_test = df[:train_size].drop(\\'energy\\',1), df[train_size:].drop(\\'energy\\',1)\\n    \\n    y_train, y_test = df[:train_size][\"energy\"].values, df[train_size:][\"energy\"].values\\n    #train_df = pd.concat([pd.Series(X_train), pd.Series(y_train)], axis=1, keys=[\"ds\", \"y\",\"temperature\"])\\n    #test_df = pd.concat([pd.Series(X_test), pd.Series([0]*len(y_test))], axis=1, keys=[\"ds\", \"y\",\"temperature\"])\\n    train_df = pd.concat([pd.Series(X_train), pd.Series(y_train)], axis=1)\\n    test_df = pd.concat([pd.Series(X_test), pd.Series([0]*len(y_test))], axis=1)\\n    answer_df = pd.concat([pd.Series(X_test), pd.Series(y_test)], axis=1, keys=[\"ds\", \"y\"])\\n    model = Prophet(yearly_seasonality=True)\\n    print(X_train)\\n    print(train_df)\\n    model.add_seasonality(name=\"monthly\", period=30.5, fourier_order=5)\\n    model.add_regressor(\\'temperature\\')\\n    model.fit(train_df)\\n    \\n    return model,train_df,test_df,answer_df\\n'"
      ]
     },
     "execution_count": 155,
     "metadata": {},
     "output_type": "execute_result"
    }
   ],
   "source": [
    "'''\n",
    "def MakeProphetModelBack(df):\n",
    "    train_size = int(0.8 * len(df))\n",
    "    dfy = df['energy']\n",
    "    dfX = df.drop('energy',1)\n",
    "    #X_train, X_test, y_train, y_test = train_test_split(dfX, dfy, test_size=0.8)\n",
    "    X_train, X_test = df[:train_size].drop('energy',1), df[train_size:].drop('energy',1)\n",
    "    \n",
    "    y_train, y_test = df[:train_size][\"energy\"].values, df[train_size:][\"energy\"].values\n",
    "    #train_df = pd.concat([pd.Series(X_train), pd.Series(y_train)], axis=1, keys=[\"ds\", \"y\",\"temperature\"])\n",
    "    #test_df = pd.concat([pd.Series(X_test), pd.Series([0]*len(y_test))], axis=1, keys=[\"ds\", \"y\",\"temperature\"])\n",
    "    train_df = pd.concat([pd.Series(X_train), pd.Series(y_train)], axis=1)\n",
    "    test_df = pd.concat([pd.Series(X_test), pd.Series([0]*len(y_test))], axis=1)\n",
    "    answer_df = pd.concat([pd.Series(X_test), pd.Series(y_test)], axis=1, keys=[\"ds\", \"y\"])\n",
    "    model = Prophet(yearly_seasonality=True)\n",
    "    print(X_train)\n",
    "    print(train_df)\n",
    "    model.add_seasonality(name=\"monthly\", period=30.5, fourier_order=5)\n",
    "    model.add_regressor('temperature')\n",
    "    model.fit(train_df)\n",
    "    \n",
    "    return model,train_df,test_df,answer_df\n",
    "'''"
   ]
  },
  {
   "cell_type": "code",
   "execution_count": 156,
   "metadata": {
    "ExecuteTime": {
     "end_time": "2020-03-23T02:51:27.466184Z",
     "start_time": "2020-03-23T02:51:19.675800Z"
    }
   },
   "outputs": [
    {
     "name": "stdout",
     "output_type": "stream",
     "text": [
      "                                            tstp   energy  temperature\n",
      "tstp                                                                  \n",
      "2011-11-23 09:30:00  2011-11-23 09:30:00.0000000  0.14700         3.42\n",
      "2011-11-23 10:30:00  2011-11-23 10:30:00.0000000  0.06300         4.24\n",
      "2011-11-23 11:30:00  2011-11-23 11:30:00.0000000  0.12000         5.94\n",
      "2011-11-23 12:30:00  2011-11-23 12:30:00.0000000  0.08950         7.25\n",
      "2011-11-23 13:30:00  2011-11-23 13:30:00.0000000  0.34500         8.29\n",
      "...                                          ...      ...          ...\n",
      "2014-02-27 20:00:00  2014-02-27 20:00:00.0000000  0.27816         3.47\n",
      "2014-02-27 21:00:00  2014-02-27 21:00:00.0000000  0.26860         2.50\n",
      "2014-02-27 22:00:00  2014-02-27 22:00:00.0000000  0.23544         1.41\n",
      "2014-02-27 23:00:00  2014-02-27 23:00:00.0000000  0.20078         1.42\n",
      "2014-02-28 00:00:00  2014-02-28 00:00:00.0000000  0.17575         1.47\n",
      "\n",
      "[40359 rows x 3 columns]\n",
      "                                              ds        y  temperature\n",
      "tstp                                                                  \n",
      "2011-11-23 09:30:00  2011-11-23 09:30:00.0000000  0.14700         3.42\n",
      "2011-11-23 10:30:00  2011-11-23 10:30:00.0000000  0.06300         4.24\n",
      "2011-11-23 11:30:00  2011-11-23 11:30:00.0000000  0.12000         5.94\n",
      "2011-11-23 12:30:00  2011-11-23 12:30:00.0000000  0.08950         7.25\n",
      "2011-11-23 13:30:00  2011-11-23 13:30:00.0000000  0.34500         8.29\n",
      "...                                          ...      ...          ...\n",
      "2014-02-27 20:00:00  2014-02-27 20:00:00.0000000  0.27816         3.47\n",
      "2014-02-27 21:00:00  2014-02-27 21:00:00.0000000  0.26860         2.50\n",
      "2014-02-27 22:00:00  2014-02-27 22:00:00.0000000  0.23544         1.41\n",
      "2014-02-27 23:00:00  2014-02-27 23:00:00.0000000  0.20078         1.42\n",
      "2014-02-28 00:00:00  2014-02-28 00:00:00.0000000  0.17575         1.47\n",
      "\n",
      "[40359 rows x 3 columns]\n",
      "                                            tstp   energy  temperature\n",
      "tstp                                                                  \n",
      "2011-11-24 00:30:00  2011-11-24 00:30:00.0000000  0.16757         7.37\n",
      "2011-11-24 01:30:00  2011-11-24 01:30:00.0000000  0.15543         7.51\n",
      "2011-11-24 02:30:00  2011-11-24 02:30:00.0000000  0.13329         7.01\n",
      "2011-11-24 03:30:00  2011-11-24 03:30:00.0000000  0.10229         7.32\n",
      "2011-11-24 04:30:00  2011-11-24 04:30:00.0000000  0.08714         7.01\n",
      "...                                          ...      ...          ...\n",
      "2014-02-27 20:00:00  2014-02-27 20:00:00.0000000  0.33923         3.47\n",
      "2014-02-27 21:00:00  2014-02-27 21:00:00.0000000  0.32581         2.50\n",
      "2014-02-27 22:00:00  2014-02-27 22:00:00.0000000  0.29109         1.41\n",
      "2014-02-27 23:00:00  2014-02-27 23:00:00.0000000  0.24259         1.42\n",
      "2014-02-28 00:00:00  2014-02-28 00:00:00.0000000  0.19173         1.47\n",
      "\n",
      "[40332 rows x 3 columns]\n",
      "                                              ds        y  temperature\n",
      "tstp                                                                  \n",
      "2011-11-24 00:30:00  2011-11-24 00:30:00.0000000  0.16757         7.37\n",
      "2011-11-24 01:30:00  2011-11-24 01:30:00.0000000  0.15543         7.51\n",
      "2011-11-24 02:30:00  2011-11-24 02:30:00.0000000  0.13329         7.01\n",
      "2011-11-24 03:30:00  2011-11-24 03:30:00.0000000  0.10229         7.32\n",
      "2011-11-24 04:30:00  2011-11-24 04:30:00.0000000  0.08714         7.01\n",
      "...                                          ...      ...          ...\n",
      "2014-02-27 20:00:00  2014-02-27 20:00:00.0000000  0.33923         3.47\n",
      "2014-02-27 21:00:00  2014-02-27 21:00:00.0000000  0.32581         2.50\n",
      "2014-02-27 22:00:00  2014-02-27 22:00:00.0000000  0.29109         1.41\n",
      "2014-02-27 23:00:00  2014-02-27 23:00:00.0000000  0.24259         1.42\n",
      "2014-02-28 00:00:00  2014-02-28 00:00:00.0000000  0.19173         1.47\n",
      "\n",
      "[40332 rows x 3 columns]\n"
     ]
    },
    {
     "ename": "ValueError",
     "evalue": "Found NaN in column 'temperature'",
     "output_type": "error",
     "traceback": [
      "\u001b[0;31m---------------------------------------------------------------------------\u001b[0m",
      "\u001b[0;31mValueError\u001b[0m                                Traceback (most recent call last)",
      "\u001b[0;32m<ipython-input-156-78286fefe0e7>\u001b[0m in \u001b[0;36m<module>\u001b[0;34m\u001b[0m\n\u001b[1;32m      1\u001b[0m \u001b[0mmodelAdv\u001b[0m\u001b[0;34m,\u001b[0m \u001b[0mtrain_dfAdv\u001b[0m\u001b[0;34m,\u001b[0m\u001b[0mtest_dfAdv\u001b[0m \u001b[0;34m=\u001b[0m \u001b[0mMakeProphetModel\u001b[0m\u001b[0;34m(\u001b[0m\u001b[0mdf_Adversity\u001b[0m\u001b[0;34m)\u001b[0m\u001b[0;34m\u001b[0m\u001b[0;34m\u001b[0m\u001b[0m\n\u001b[0;32m----> 2\u001b[0;31m \u001b[0mmodelComf\u001b[0m\u001b[0;34m,\u001b[0m \u001b[0mtrain_dfComf\u001b[0m\u001b[0;34m,\u001b[0m\u001b[0mtest_dfComf\u001b[0m \u001b[0;34m=\u001b[0m \u001b[0mMakeProphetModel\u001b[0m\u001b[0;34m(\u001b[0m\u001b[0mdf_Comfortable\u001b[0m\u001b[0;34m)\u001b[0m\u001b[0;34m\u001b[0m\u001b[0;34m\u001b[0m\u001b[0m\n\u001b[0m\u001b[1;32m      3\u001b[0m \u001b[0mmodelAffl\u001b[0m\u001b[0;34m,\u001b[0m \u001b[0mtrain_dfAffl\u001b[0m\u001b[0;34m,\u001b[0m\u001b[0mtest_dfAffl\u001b[0m\u001b[0;34m=\u001b[0m \u001b[0mMakeProphetModel\u001b[0m\u001b[0;34m(\u001b[0m\u001b[0mdf_Affluent\u001b[0m\u001b[0;34m)\u001b[0m\u001b[0;34m\u001b[0m\u001b[0;34m\u001b[0m\u001b[0m\n",
      "\u001b[0;32m<ipython-input-154-7eeb5f574993>\u001b[0m in \u001b[0;36mMakeProphetModel\u001b[0;34m(df)\u001b[0m\n\u001b[1;32m     12\u001b[0m     \u001b[0mmodel\u001b[0m\u001b[0;34m.\u001b[0m\u001b[0madd_seasonality\u001b[0m\u001b[0;34m(\u001b[0m\u001b[0mname\u001b[0m\u001b[0;34m=\u001b[0m\u001b[0;34m\"monthly\"\u001b[0m\u001b[0;34m,\u001b[0m \u001b[0mperiod\u001b[0m\u001b[0;34m=\u001b[0m\u001b[0;36m30.5\u001b[0m\u001b[0;34m,\u001b[0m \u001b[0mfourier_order\u001b[0m\u001b[0;34m=\u001b[0m\u001b[0;36m5\u001b[0m\u001b[0;34m)\u001b[0m\u001b[0;34m\u001b[0m\u001b[0;34m\u001b[0m\u001b[0m\n\u001b[1;32m     13\u001b[0m     \u001b[0mmodel\u001b[0m\u001b[0;34m.\u001b[0m\u001b[0madd_regressor\u001b[0m\u001b[0;34m(\u001b[0m\u001b[0;34m'temperature'\u001b[0m\u001b[0;34m)\u001b[0m\u001b[0;34m\u001b[0m\u001b[0;34m\u001b[0m\u001b[0m\n\u001b[0;32m---> 14\u001b[0;31m     \u001b[0mmodel\u001b[0m\u001b[0;34m.\u001b[0m\u001b[0mfit\u001b[0m\u001b[0;34m(\u001b[0m\u001b[0mX_train\u001b[0m\u001b[0;34m)\u001b[0m\u001b[0;34m\u001b[0m\u001b[0;34m\u001b[0m\u001b[0m\n\u001b[0m\u001b[1;32m     15\u001b[0m \u001b[0;34m\u001b[0m\u001b[0m\n\u001b[1;32m     16\u001b[0m     \u001b[0;32mreturn\u001b[0m \u001b[0mmodel\u001b[0m\u001b[0;34m,\u001b[0m\u001b[0mX_train\u001b[0m\u001b[0;34m,\u001b[0m \u001b[0mX_test\u001b[0m\u001b[0;34m\u001b[0m\u001b[0;34m\u001b[0m\u001b[0m\n",
      "\u001b[0;32m~/opt/anaconda3/envs/metis/lib/python3.7/site-packages/fbprophet/forecaster.py\u001b[0m in \u001b[0;36mfit\u001b[0;34m(self, df, **kwargs)\u001b[0m\n\u001b[1;32m   1088\u001b[0m         \u001b[0mself\u001b[0m\u001b[0;34m.\u001b[0m\u001b[0mhistory_dates\u001b[0m \u001b[0;34m=\u001b[0m \u001b[0mpd\u001b[0m\u001b[0;34m.\u001b[0m\u001b[0mto_datetime\u001b[0m\u001b[0;34m(\u001b[0m\u001b[0mdf\u001b[0m\u001b[0;34m[\u001b[0m\u001b[0;34m'ds'\u001b[0m\u001b[0;34m]\u001b[0m\u001b[0;34m)\u001b[0m\u001b[0;34m.\u001b[0m\u001b[0msort_values\u001b[0m\u001b[0;34m(\u001b[0m\u001b[0;34m)\u001b[0m\u001b[0;34m\u001b[0m\u001b[0;34m\u001b[0m\u001b[0m\n\u001b[1;32m   1089\u001b[0m \u001b[0;34m\u001b[0m\u001b[0m\n\u001b[0;32m-> 1090\u001b[0;31m         \u001b[0mhistory\u001b[0m \u001b[0;34m=\u001b[0m \u001b[0mself\u001b[0m\u001b[0;34m.\u001b[0m\u001b[0msetup_dataframe\u001b[0m\u001b[0;34m(\u001b[0m\u001b[0mhistory\u001b[0m\u001b[0;34m,\u001b[0m \u001b[0minitialize_scales\u001b[0m\u001b[0;34m=\u001b[0m\u001b[0;32mTrue\u001b[0m\u001b[0;34m)\u001b[0m\u001b[0;34m\u001b[0m\u001b[0;34m\u001b[0m\u001b[0m\n\u001b[0m\u001b[1;32m   1091\u001b[0m         \u001b[0mself\u001b[0m\u001b[0;34m.\u001b[0m\u001b[0mhistory\u001b[0m \u001b[0;34m=\u001b[0m \u001b[0mhistory\u001b[0m\u001b[0;34m\u001b[0m\u001b[0;34m\u001b[0m\u001b[0m\n\u001b[1;32m   1092\u001b[0m         \u001b[0mself\u001b[0m\u001b[0;34m.\u001b[0m\u001b[0mset_auto_seasonalities\u001b[0m\u001b[0;34m(\u001b[0m\u001b[0;34m)\u001b[0m\u001b[0;34m\u001b[0m\u001b[0;34m\u001b[0m\u001b[0m\n",
      "\u001b[0;32m~/opt/anaconda3/envs/metis/lib/python3.7/site-packages/fbprophet/forecaster.py\u001b[0m in \u001b[0;36msetup_dataframe\u001b[0;34m(self, df, initialize_scales)\u001b[0m\n\u001b[1;32m    277\u001b[0m             \u001b[0;32mif\u001b[0m \u001b[0mdf\u001b[0m\u001b[0;34m[\u001b[0m\u001b[0mname\u001b[0m\u001b[0;34m]\u001b[0m\u001b[0;34m.\u001b[0m\u001b[0misnull\u001b[0m\u001b[0;34m(\u001b[0m\u001b[0;34m)\u001b[0m\u001b[0;34m.\u001b[0m\u001b[0many\u001b[0m\u001b[0;34m(\u001b[0m\u001b[0;34m)\u001b[0m\u001b[0;34m:\u001b[0m\u001b[0;34m\u001b[0m\u001b[0;34m\u001b[0m\u001b[0m\n\u001b[1;32m    278\u001b[0m                 raise ValueError(\n\u001b[0;32m--> 279\u001b[0;31m                     \u001b[0;34m'Found NaN in column {name!r}'\u001b[0m\u001b[0;34m.\u001b[0m\u001b[0mformat\u001b[0m\u001b[0;34m(\u001b[0m\u001b[0mname\u001b[0m\u001b[0;34m=\u001b[0m\u001b[0mname\u001b[0m\u001b[0;34m)\u001b[0m\u001b[0;34m\u001b[0m\u001b[0;34m\u001b[0m\u001b[0m\n\u001b[0m\u001b[1;32m    280\u001b[0m                 )\n\u001b[1;32m    281\u001b[0m         \u001b[0;32mfor\u001b[0m \u001b[0mprops\u001b[0m \u001b[0;32min\u001b[0m \u001b[0mself\u001b[0m\u001b[0;34m.\u001b[0m\u001b[0mseasonalities\u001b[0m\u001b[0;34m.\u001b[0m\u001b[0mvalues\u001b[0m\u001b[0;34m(\u001b[0m\u001b[0;34m)\u001b[0m\u001b[0;34m:\u001b[0m\u001b[0;34m\u001b[0m\u001b[0;34m\u001b[0m\u001b[0m\n",
      "\u001b[0;31mValueError\u001b[0m: Found NaN in column 'temperature'"
     ]
    }
   ],
   "source": [
    "modelAdv, train_dfAdv,test_dfAdv = MakeProphetModel(df_Adversity)\n",
    "modelComf, train_dfComf,test_dfComf = MakeProphetModel(df_Comfortable)\n",
    "modelAffl, train_dfAffl,test_dfAffl= MakeProphetModel(df_Affluent)"
   ]
  },
  {
   "cell_type": "code",
   "execution_count": null,
   "metadata": {
    "ExecuteTime": {
     "end_time": "2020-03-20T18:45:18.506267Z",
     "start_time": "2020-03-20T18:43:28.574274Z"
    }
   },
   "outputs": [],
   "source": []
  },
  {
   "cell_type": "code",
   "execution_count": null,
   "metadata": {
    "ExecuteTime": {
     "end_time": "2020-03-16T02:19:36.826200Z",
     "start_time": "2020-03-16T02:19:22.236583Z"
    }
   },
   "outputs": [],
   "source": []
  },
  {
   "cell_type": "code",
   "execution_count": null,
   "metadata": {
    "ExecuteTime": {
     "end_time": "2020-03-16T02:19:40.893240Z",
     "start_time": "2020-03-16T02:19:36.827928Z"
    }
   },
   "outputs": [],
   "source": [
    "forecast = model.predict(test_df)"
   ]
  },
  {
   "cell_type": "code",
   "execution_count": null,
   "metadata": {
    "ExecuteTime": {
     "end_time": "2020-03-16T02:19:40.917560Z",
     "start_time": "2020-03-16T02:19:40.896888Z"
    }
   },
   "outputs": [],
   "source": [
    "forecast.head()\n"
   ]
  },
  {
   "cell_type": "code",
   "execution_count": null,
   "metadata": {
    "ExecuteTime": {
     "end_time": "2020-03-16T02:19:41.866222Z",
     "start_time": "2020-03-16T02:19:40.919661Z"
    }
   },
   "outputs": [],
   "source": [
    "model.plot(forecast)\n",
    "\n",
    "model.plot(forecast).savefig('./Graphs/mvpforcast.png');"
   ]
  },
  {
   "cell_type": "code",
   "execution_count": null,
   "metadata": {
    "ExecuteTime": {
     "end_time": "2020-03-16T02:19:43.221502Z",
     "start_time": "2020-03-16T02:19:41.867835Z"
    }
   },
   "outputs": [],
   "source": [
    "model.plot_components(forecast)\n",
    "model.plot_components(forecast).savefig('./Graphs/mvpcompforcast.png');"
   ]
  },
  {
   "cell_type": "code",
   "execution_count": null,
   "metadata": {
    "ExecuteTime": {
     "end_time": "2020-03-16T02:21:52.605718Z",
     "start_time": "2020-03-16T02:19:43.223469Z"
    }
   },
   "outputs": [],
   "source": [
    "df_cv = cross_validation(model, horizon=\"60 days\")\n",
    "df_cv.head()"
   ]
  },
  {
   "cell_type": "code",
   "execution_count": null,
   "metadata": {
    "ExecuteTime": {
     "end_time": "2020-03-16T02:22:07.382789Z",
     "start_time": "2020-03-16T02:21:52.608162Z"
    }
   },
   "outputs": [],
   "source": [
    "df_p = performance_metrics(df_cv)\n",
    "df_p"
   ]
  },
  {
   "cell_type": "code",
   "execution_count": null,
   "metadata": {
    "ExecuteTime": {
     "end_time": "2020-03-16T02:22:07.577623Z",
     "start_time": "2020-03-16T02:22:07.384393Z"
    }
   },
   "outputs": [],
   "source": [
    "plt.plot(answer_df[\"ds\"], answer_df[\"y\"])\n",
    "plt.plot(forecast[\"ds\"], forecast[\"yhat\"])"
   ]
  },
  {
   "cell_type": "code",
   "execution_count": null,
   "metadata": {
    "ExecuteTime": {
     "end_time": "2020-03-16T02:33:37.916468Z",
     "start_time": "2020-03-16T02:33:23.321759Z"
    }
   },
   "outputs": [],
   "source": [
    "# We have to add week and month seasonality\n",
    "model = Prophet(weekly_seasonality=True)\n",
    "model.add_seasonality(name=\"monthly\", period=30.5, fourier_order=5)\n",
    "model.fit(train_df)"
   ]
  },
  {
   "cell_type": "code",
   "execution_count": null,
   "metadata": {
    "ExecuteTime": {
     "end_time": "2020-03-16T02:33:55.965027Z",
     "start_time": "2020-03-16T02:33:52.302744Z"
    }
   },
   "outputs": [],
   "source": [
    "forecast = model.predict(test_df)\n",
    "forecast.head()"
   ]
  },
  {
   "cell_type": "code",
   "execution_count": null,
   "metadata": {
    "ExecuteTime": {
     "end_time": "2020-03-16T02:34:05.868076Z",
     "start_time": "2020-03-16T02:34:05.187600Z"
    }
   },
   "outputs": [],
   "source": [
    "model.plot(forecast)"
   ]
  },
  {
   "cell_type": "code",
   "execution_count": null,
   "metadata": {
    "ExecuteTime": {
     "end_time": "2020-03-16T02:34:29.693341Z",
     "start_time": "2020-03-16T02:34:28.370756Z"
    }
   },
   "outputs": [],
   "source": [
    "model.plot_components(forecast)\n"
   ]
  },
  {
   "cell_type": "code",
   "execution_count": null,
   "metadata": {},
   "outputs": [],
   "source": [
    "\n"
   ]
  }
 ],
 "metadata": {
  "kernelspec": {
   "display_name": "Python 3.7.4 64-bit ('metis': conda)",
   "language": "python",
   "name": "python37464bitmetisconda238ccafe89084589a4e0136e24be1a37"
  },
  "language_info": {
   "codemirror_mode": {
    "name": "ipython",
    "version": 3
   },
   "file_extension": ".py",
   "mimetype": "text/x-python",
   "name": "python",
   "nbconvert_exporter": "python",
   "pygments_lexer": "ipython3",
   "version": "3.7.4"
  }
 },
 "nbformat": 4,
 "nbformat_minor": 2
}
