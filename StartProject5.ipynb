{
 "cells": [
  {
   "cell_type": "code",
   "execution_count": 1,
   "metadata": {
    "ExecuteTime": {
     "end_time": "2020-03-23T03:30:24.372350Z",
     "start_time": "2020-03-23T03:30:05.546669Z"
    }
   },
   "outputs": [],
   "source": [
    "import pyspark\n",
    "import pandas as pd\n",
    "import numpy as np\n",
    "import importlib\n",
    "\n",
    "spark = pyspark.sql.SparkSession.builder.getOrCreate()"
   ]
  },
  {
   "cell_type": "code",
   "execution_count": 2,
   "metadata": {
    "ExecuteTime": {
     "end_time": "2020-03-23T03:30:24.376464Z",
     "start_time": "2020-03-23T03:30:24.374254Z"
    }
   },
   "outputs": [],
   "source": [
    "rootPathSourceData = './Data/smart-meters-in-london/'"
   ]
  },
  {
   "cell_type": "code",
   "execution_count": 3,
   "metadata": {
    "ExecuteTime": {
     "end_time": "2020-03-23T03:30:28.648399Z",
     "start_time": "2020-03-23T03:30:24.378416Z"
    }
   },
   "outputs": [],
   "source": [
    "weatherHourlyPath = rootPathSourceData + 'weather_hourly_darksky.csv'\n",
    "weatherHourly = spark.read.csv(weatherHourlyPath, header='true', inferSchema='true', sep=',')"
   ]
  },
  {
   "cell_type": "code",
   "execution_count": 4,
   "metadata": {
    "ExecuteTime": {
     "end_time": "2020-03-23T03:30:28.673325Z",
     "start_time": "2020-03-23T03:30:28.650234Z"
    }
   },
   "outputs": [
    {
     "name": "stdout",
     "output_type": "stream",
     "text": [
      "root\n",
      " |-- visibility: double (nullable = true)\n",
      " |-- windBearing: integer (nullable = true)\n",
      " |-- temperature: double (nullable = true)\n",
      " |-- time: timestamp (nullable = true)\n",
      " |-- dewPoint: double (nullable = true)\n",
      " |-- pressure: double (nullable = true)\n",
      " |-- apparentTemperature: double (nullable = true)\n",
      " |-- windSpeed: double (nullable = true)\n",
      " |-- precipType: string (nullable = true)\n",
      " |-- icon: string (nullable = true)\n",
      " |-- humidity: double (nullable = true)\n",
      " |-- summary: string (nullable = true)\n",
      "\n"
     ]
    }
   ],
   "source": [
    "weatherHourly.printSchema()"
   ]
  },
  {
   "cell_type": "code",
   "execution_count": 5,
   "metadata": {
    "ExecuteTime": {
     "end_time": "2020-03-23T03:30:28.940441Z",
     "start_time": "2020-03-23T03:30:28.675164Z"
    }
   },
   "outputs": [
    {
     "name": "stdout",
     "output_type": "stream",
     "text": [
      "+----------+-----------+-----------+-------------------+--------+--------+-------------------+---------+----------+-------------------+--------+-------------+\n",
      "|visibility|windBearing|temperature|               time|dewPoint|pressure|apparentTemperature|windSpeed|precipType|               icon|humidity|      summary|\n",
      "+----------+-----------+-----------+-------------------+--------+--------+-------------------+---------+----------+-------------------+--------+-------------+\n",
      "|      5.97|        104|      10.24|2011-11-11 00:00:00|    8.86| 1016.76|              10.24|     2.77|      rain|partly-cloudy-night|    0.91|Partly Cloudy|\n",
      "|      4.88|         99|       9.76|2011-11-11 01:00:00|    8.83| 1016.63|               8.24|     2.95|      rain|partly-cloudy-night|    0.94|Partly Cloudy|\n",
      "|       3.7|         98|       9.46|2011-11-11 02:00:00|    8.79| 1016.36|               7.76|     3.17|      rain|partly-cloudy-night|    0.96|Partly Cloudy|\n",
      "|      3.12|         99|       9.23|2011-11-11 03:00:00|    8.63| 1016.28|               7.44|     3.25|      rain|                fog|    0.96|        Foggy|\n",
      "|      1.85|        111|       9.26|2011-11-11 04:00:00|    9.21| 1015.98|               7.24|      3.7|      rain|                fog|     1.0|        Foggy|\n",
      "+----------+-----------+-----------+-------------------+--------+--------+-------------------+---------+----------+-------------------+--------+-------------+\n",
      "only showing top 5 rows\n",
      "\n"
     ]
    }
   ],
   "source": [
    "weatherHourly.show(5)"
   ]
  },
  {
   "cell_type": "code",
   "execution_count": 6,
   "metadata": {
    "ExecuteTime": {
     "end_time": "2020-03-23T03:30:29.231487Z",
     "start_time": "2020-03-23T03:30:28.942513Z"
    }
   },
   "outputs": [],
   "source": [
    "householdInfoPath = rootPathSourceData + 'informations_households.csv'\n",
    "householdInfo = spark.read.csv(householdInfoPath, header='true', inferSchema='true', sep=',')\n"
   ]
  },
  {
   "cell_type": "code",
   "execution_count": 7,
   "metadata": {
    "ExecuteTime": {
     "end_time": "2020-03-23T03:30:29.237337Z",
     "start_time": "2020-03-23T03:30:29.233427Z"
    }
   },
   "outputs": [
    {
     "name": "stdout",
     "output_type": "stream",
     "text": [
      "root\n",
      " |-- LCLid: string (nullable = true)\n",
      " |-- stdorToU: string (nullable = true)\n",
      " |-- Acorn: string (nullable = true)\n",
      " |-- Acorn_grouped: string (nullable = true)\n",
      " |-- file: string (nullable = true)\n",
      "\n"
     ]
    }
   ],
   "source": [
    "householdInfo.printSchema()"
   ]
  },
  {
   "cell_type": "code",
   "execution_count": 8,
   "metadata": {
    "ExecuteTime": {
     "end_time": "2020-03-23T03:30:29.360200Z",
     "start_time": "2020-03-23T03:30:29.241084Z"
    }
   },
   "outputs": [
    {
     "name": "stdout",
     "output_type": "stream",
     "text": [
      "+---------+--------+-------+-------------+-------+\n",
      "|    LCLid|stdorToU|  Acorn|Acorn_grouped|   file|\n",
      "+---------+--------+-------+-------------+-------+\n",
      "|MAC005492|     ToU| ACORN-|       ACORN-|block_0|\n",
      "|MAC001074|     ToU| ACORN-|       ACORN-|block_0|\n",
      "|MAC000002|     Std|ACORN-A|     Affluent|block_0|\n",
      "|MAC003613|     Std|ACORN-A|     Affluent|block_0|\n",
      "|MAC003597|     Std|ACORN-A|     Affluent|block_0|\n",
      "+---------+--------+-------+-------------+-------+\n",
      "only showing top 5 rows\n",
      "\n"
     ]
    }
   ],
   "source": [
    "householdInfo.show(5)"
   ]
  },
  {
   "cell_type": "code",
   "execution_count": 9,
   "metadata": {
    "ExecuteTime": {
     "end_time": "2020-03-23T03:30:29.708169Z",
     "start_time": "2020-03-23T03:30:29.363869Z"
    }
   },
   "outputs": [
    {
     "name": "stdout",
     "output_type": "stream",
     "text": [
      "root\n",
      " |-- temperatureMax: double (nullable = true)\n",
      " |-- temperatureMaxTime: timestamp (nullable = true)\n",
      " |-- windBearing: integer (nullable = true)\n",
      " |-- icon: string (nullable = true)\n",
      " |-- dewPoint: double (nullable = true)\n",
      " |-- temperatureMinTime: timestamp (nullable = true)\n",
      " |-- cloudCover: double (nullable = true)\n",
      " |-- windSpeed: double (nullable = true)\n",
      " |-- pressure: double (nullable = true)\n",
      " |-- apparentTemperatureMinTime: timestamp (nullable = true)\n",
      " |-- apparentTemperatureHigh: double (nullable = true)\n",
      " |-- precipType: string (nullable = true)\n",
      " |-- visibility: double (nullable = true)\n",
      " |-- humidity: double (nullable = true)\n",
      " |-- apparentTemperatureHighTime: timestamp (nullable = true)\n",
      " |-- apparentTemperatureLow: double (nullable = true)\n",
      " |-- apparentTemperatureMax: double (nullable = true)\n",
      " |-- uvIndex: double (nullable = true)\n",
      " |-- time: timestamp (nullable = true)\n",
      " |-- sunsetTime: timestamp (nullable = true)\n",
      " |-- temperatureLow: double (nullable = true)\n",
      " |-- temperatureMin: double (nullable = true)\n",
      " |-- temperatureHigh: double (nullable = true)\n",
      " |-- sunriseTime: timestamp (nullable = true)\n",
      " |-- temperatureHighTime: timestamp (nullable = true)\n",
      " |-- uvIndexTime: timestamp (nullable = true)\n",
      " |-- summary: string (nullable = true)\n",
      " |-- temperatureLowTime: timestamp (nullable = true)\n",
      " |-- apparentTemperatureMin: double (nullable = true)\n",
      " |-- apparentTemperatureMaxTime: timestamp (nullable = true)\n",
      " |-- apparentTemperatureLowTime: timestamp (nullable = true)\n",
      " |-- moonPhase: double (nullable = true)\n",
      "\n"
     ]
    }
   ],
   "source": [
    "weatherDailyPath = rootPathSourceData + 'weather_daily_darksky.csv'\n",
    "weatherDaily = spark.read.csv(weatherDailyPath, header='true', inferSchema='true', sep=',')\n",
    "weatherDaily.printSchema()\n"
   ]
  },
  {
   "cell_type": "code",
   "execution_count": 10,
   "metadata": {
    "ExecuteTime": {
     "end_time": "2020-03-23T03:30:29.915468Z",
     "start_time": "2020-03-23T03:30:29.709705Z"
    }
   },
   "outputs": [
    {
     "name": "stdout",
     "output_type": "stream",
     "text": [
      "+--------------+-------------------+-----------+-------------------+--------+-------------------+----------+---------+--------+--------------------------+-----------------------+----------+----------+--------+---------------------------+----------------------+----------------------+-------+-------------------+-------------------+--------------+--------------+---------------+-------------------+-------------------+-------------------+--------------------+-------------------+----------------------+--------------------------+--------------------------+---------+\n",
      "|temperatureMax| temperatureMaxTime|windBearing|               icon|dewPoint| temperatureMinTime|cloudCover|windSpeed|pressure|apparentTemperatureMinTime|apparentTemperatureHigh|precipType|visibility|humidity|apparentTemperatureHighTime|apparentTemperatureLow|apparentTemperatureMax|uvIndex|               time|         sunsetTime|temperatureLow|temperatureMin|temperatureHigh|        sunriseTime|temperatureHighTime|        uvIndexTime|             summary| temperatureLowTime|apparentTemperatureMin|apparentTemperatureMaxTime|apparentTemperatureLowTime|moonPhase|\n",
      "+--------------+-------------------+-----------+-------------------+--------+-------------------+----------+---------+--------+--------------------------+-----------------------+----------+----------+--------+---------------------------+----------------------+----------------------+-------+-------------------+-------------------+--------------+--------------+---------------+-------------------+-------------------+-------------------+--------------------+-------------------+----------------------+--------------------------+--------------------------+---------+\n",
      "|         11.96|2011-11-11 23:00:00|        123|                fog|     9.4|2011-11-11 07:00:00|      0.79|     3.88| 1016.08|       2011-11-11 07:00:00|                  10.87|      rain|       3.3|    0.95|        2011-11-11 19:00:00|                 10.87|                 11.96|    1.0|2011-11-11 00:00:00|2011-11-11 16:19:21|         10.87|          8.85|          10.87|2011-11-11 07:12:14|2011-11-11 19:00:00|2011-11-11 11:00:00|Foggy until after...|2011-11-11 19:00:00|                  6.48|       2011-11-11 23:00:00|       2011-11-11 19:00:00|     0.52|\n",
      "|          8.59|2011-12-11 14:00:00|        198|  partly-cloudy-day|    4.49|2011-12-11 01:00:00|      0.56|     3.94| 1007.71|       2011-12-11 02:00:00|                   5.62|      rain|     12.09|    0.88|        2011-12-11 19:00:00|                 -0.64|                  5.72|    1.0|2011-12-11 00:00:00|2011-12-11 15:52:53|          3.09|          2.48|           8.59|2011-12-11 07:57:02|2011-12-11 14:00:00|2011-12-11 12:00:00|Partly cloudy thr...|2011-12-12 07:00:00|                  0.11|       2011-12-11 20:00:00|       2011-12-12 08:00:00|     0.53|\n",
      "|         10.33|2011-12-27 02:00:00|        225|  partly-cloudy-day|    5.47|2011-12-27 23:00:00|      0.85|     3.54| 1032.76|       2011-12-27 22:00:00|                  10.33|      rain|     13.39|    0.74|        2011-12-27 14:00:00|                  5.52|                 10.33|    0.0|2011-12-27 00:00:00|2011-12-27 15:57:56|          8.03|          8.03|          10.33|2011-12-27 08:07:06|2011-12-27 14:00:00|2011-12-27 00:00:00|Mostly cloudy thr...|2011-12-27 23:00:00|                  5.59|       2011-12-27 02:00:00|       2011-12-28 00:00:00|      0.1|\n",
      "|          8.07|2011-12-02 23:00:00|        232|               wind|    3.69|2011-12-02 07:00:00|      0.32|      3.0| 1012.12|       2011-12-02 07:00:00|                   5.33|      rain|     11.89|    0.87|        2011-12-02 12:00:00|                  3.26|                  5.33|    1.0|2011-12-02 00:00:00|2011-12-02 15:56:17|          6.33|          2.56|           7.36|2011-12-02 07:46:09|2011-12-02 12:00:00|2011-12-02 10:00:00|Partly cloudy thr...|2011-12-02 19:00:00|                  0.46|       2011-12-02 12:00:00|       2011-12-02 19:00:00|     0.25|\n",
      "|          8.22|2011-12-24 23:00:00|        252|partly-cloudy-night|    2.79|2011-12-24 07:00:00|      0.37|     4.46| 1028.17|       2011-12-24 07:00:00|                   5.02|      rain|     13.16|     0.8|        2011-12-24 15:00:00|                  4.37|                  5.32|    1.0|2011-12-24 00:00:00|2011-12-24 15:55:55|          7.45|          3.17|           7.93|2011-12-24 08:06:15|2011-12-24 15:00:00|2011-12-24 13:00:00|Mostly cloudy thr...|2011-12-24 19:00:00|                 -0.51|       2011-12-24 23:00:00|       2011-12-24 20:00:00|     0.99|\n",
      "+--------------+-------------------+-----------+-------------------+--------+-------------------+----------+---------+--------+--------------------------+-----------------------+----------+----------+--------+---------------------------+----------------------+----------------------+-------+-------------------+-------------------+--------------+--------------+---------------+-------------------+-------------------+-------------------+--------------------+-------------------+----------------------+--------------------------+--------------------------+---------+\n",
      "only showing top 5 rows\n",
      "\n"
     ]
    }
   ],
   "source": [
    "weatherDaily.show(5)"
   ]
  },
  {
   "cell_type": "code",
   "execution_count": 11,
   "metadata": {
    "ExecuteTime": {
     "end_time": "2020-03-23T03:30:30.740460Z",
     "start_time": "2020-03-23T03:30:29.917583Z"
    }
   },
   "outputs": [],
   "source": [
    "\n",
    "df_tariffs = pd.read_excel('Tariffs.xlsx')"
   ]
  },
  {
   "cell_type": "code",
   "execution_count": 12,
   "metadata": {
    "ExecuteTime": {
     "end_time": "2020-03-23T03:30:30.757806Z",
     "start_time": "2020-03-23T03:30:30.742539Z"
    }
   },
   "outputs": [
    {
     "data": {
      "text/html": [
       "<div>\n",
       "<style scoped>\n",
       "    .dataframe tbody tr th:only-of-type {\n",
       "        vertical-align: middle;\n",
       "    }\n",
       "\n",
       "    .dataframe tbody tr th {\n",
       "        vertical-align: top;\n",
       "    }\n",
       "\n",
       "    .dataframe thead th {\n",
       "        text-align: right;\n",
       "    }\n",
       "</style>\n",
       "<table border=\"1\" class=\"dataframe\">\n",
       "  <thead>\n",
       "    <tr style=\"text-align: right;\">\n",
       "      <th></th>\n",
       "      <th>TariffDateTime</th>\n",
       "      <th>Tariff</th>\n",
       "    </tr>\n",
       "  </thead>\n",
       "  <tbody>\n",
       "    <tr>\n",
       "      <th>0</th>\n",
       "      <td>2013-01-01 00:00:00</td>\n",
       "      <td>Normal</td>\n",
       "    </tr>\n",
       "    <tr>\n",
       "      <th>1</th>\n",
       "      <td>2013-01-01 00:30:00</td>\n",
       "      <td>Normal</td>\n",
       "    </tr>\n",
       "    <tr>\n",
       "      <th>2</th>\n",
       "      <td>2013-01-01 01:00:00</td>\n",
       "      <td>Normal</td>\n",
       "    </tr>\n",
       "    <tr>\n",
       "      <th>3</th>\n",
       "      <td>2013-01-01 01:30:00</td>\n",
       "      <td>Normal</td>\n",
       "    </tr>\n",
       "    <tr>\n",
       "      <th>4</th>\n",
       "      <td>2013-01-01 02:00:00</td>\n",
       "      <td>Normal</td>\n",
       "    </tr>\n",
       "    <tr>\n",
       "      <th>...</th>\n",
       "      <td>...</td>\n",
       "      <td>...</td>\n",
       "    </tr>\n",
       "    <tr>\n",
       "      <th>17515</th>\n",
       "      <td>2013-12-31 21:30:00</td>\n",
       "      <td>Normal</td>\n",
       "    </tr>\n",
       "    <tr>\n",
       "      <th>17516</th>\n",
       "      <td>2013-12-31 22:00:00</td>\n",
       "      <td>Normal</td>\n",
       "    </tr>\n",
       "    <tr>\n",
       "      <th>17517</th>\n",
       "      <td>2013-12-31 22:30:00</td>\n",
       "      <td>Normal</td>\n",
       "    </tr>\n",
       "    <tr>\n",
       "      <th>17518</th>\n",
       "      <td>2013-12-31 23:00:00</td>\n",
       "      <td>Normal</td>\n",
       "    </tr>\n",
       "    <tr>\n",
       "      <th>17519</th>\n",
       "      <td>2013-12-31 23:30:00</td>\n",
       "      <td>Normal</td>\n",
       "    </tr>\n",
       "  </tbody>\n",
       "</table>\n",
       "<p>17520 rows × 2 columns</p>\n",
       "</div>"
      ],
      "text/plain": [
       "           TariffDateTime  Tariff\n",
       "0     2013-01-01 00:00:00  Normal\n",
       "1     2013-01-01 00:30:00  Normal\n",
       "2     2013-01-01 01:00:00  Normal\n",
       "3     2013-01-01 01:30:00  Normal\n",
       "4     2013-01-01 02:00:00  Normal\n",
       "...                   ...     ...\n",
       "17515 2013-12-31 21:30:00  Normal\n",
       "17516 2013-12-31 22:00:00  Normal\n",
       "17517 2013-12-31 22:30:00  Normal\n",
       "17518 2013-12-31 23:00:00  Normal\n",
       "17519 2013-12-31 23:30:00  Normal\n",
       "\n",
       "[17520 rows x 2 columns]"
      ]
     },
     "execution_count": 12,
     "metadata": {},
     "output_type": "execute_result"
    }
   ],
   "source": [
    "df_tariffs"
   ]
  },
  {
   "cell_type": "code",
   "execution_count": 13,
   "metadata": {
    "ExecuteTime": {
     "end_time": "2020-03-23T03:30:31.399346Z",
     "start_time": "2020-03-23T03:30:30.759266Z"
    }
   },
   "outputs": [],
   "source": [
    "\n",
    "#df_dailyReading = spark.read.options(Map(\"header\"->\"true\"))\n",
    "#  .csv(rootPathSourceData + \"daily_dataset/daily_dataset/\")\n",
    "\n",
    "df_dailyReading = spark.read.csv(rootPathSourceData + \"daily_dataset/daily_dataset/\",header = True)"
   ]
  },
  {
   "cell_type": "code",
   "execution_count": 14,
   "metadata": {
    "ExecuteTime": {
     "end_time": "2020-03-23T03:30:31.509220Z",
     "start_time": "2020-03-23T03:30:31.401054Z"
    }
   },
   "outputs": [
    {
     "name": "stdout",
     "output_type": "stream",
     "text": [
      "+---------+----------+-------------------+-------------------+------------------+------------+-------------------+-----------------+-------------------+\n",
      "|    LCLid|       day|      energy_median|        energy_mean|        energy_max|energy_count|         energy_std|       energy_sum|         energy_min|\n",
      "+---------+----------+-------------------+-------------------+------------------+------------+-------------------+-----------------+-------------------+\n",
      "|MAC000048|2011-12-08|              0.107|0.15921739130434787|0.5760000000000001|          23|0.11802116779387856|3.662000000000001|              0.087|\n",
      "|MAC000048|2011-12-09|              0.092|            0.12575|              0.57|          48|0.08927664391617872|            6.036|              0.087|\n",
      "|MAC000048|2011-12-10|             0.0925|0.20964583541666668|1.3219999999999998|          48| 0.2882244672915173|       10.0630001|              0.087|\n",
      "|MAC000048|2011-12-11|0.11599999999999999| 0.2451874979166667|         2.0009999|          48|0.32513993587499834|       11.7689999|0.08800000000000001|\n",
      "|MAC000048|2011-12-12|              0.095|0.12318750000000002|             0.326|          48|0.05794665788097247|5.913000000000001|              0.087|\n",
      "+---------+----------+-------------------+-------------------+------------------+------------+-------------------+-----------------+-------------------+\n",
      "only showing top 5 rows\n",
      "\n"
     ]
    }
   ],
   "source": [
    "df_dailyReading.show(5)"
   ]
  },
  {
   "cell_type": "code",
   "execution_count": 15,
   "metadata": {
    "ExecuteTime": {
     "end_time": "2020-03-23T03:30:31.756803Z",
     "start_time": "2020-03-23T03:30:31.511319Z"
    }
   },
   "outputs": [],
   "source": [
    "df_dailyDataSet = spark.read.csv(rootPathSourceData + \"daily_dataset.csv/\",header = True)"
   ]
  },
  {
   "cell_type": "code",
   "execution_count": 16,
   "metadata": {
    "ExecuteTime": {
     "end_time": "2020-03-23T03:30:31.870450Z",
     "start_time": "2020-03-23T03:30:31.758926Z"
    }
   },
   "outputs": [
    {
     "name": "stdout",
     "output_type": "stream",
     "text": [
      "+---------+----------+-------------+-------------------+------------------+------------+-------------------+------------------+-------------------+\n",
      "|    LCLid|       day|energy_median|        energy_mean|        energy_max|energy_count|         energy_std|        energy_sum|         energy_min|\n",
      "+---------+----------+-------------+-------------------+------------------+------------+-------------------+------------------+-------------------+\n",
      "|MAC000131|2011-12-15|        0.485|0.43204545454545457|             0.868|          22|0.23914579678767536|             9.505|0.07200000000000001|\n",
      "|MAC000131|2011-12-16|       0.1415|0.29616666875000003|         1.1160001|          48| 0.2814713178628203|14.216000100000002|              0.031|\n",
      "|MAC000131|2011-12-17|       0.1015|          0.1898125|             0.685|          48| 0.1884046862418033|             9.111|              0.064|\n",
      "|MAC000131|2011-12-18|        0.114| 0.2189791666666666|0.6759999999999999|          48|0.20291927853038208|10.510999999999996|              0.065|\n",
      "|MAC000131|2011-12-19|        0.191|0.32597916666666665|0.7879999999999999|          48| 0.2592049619947409|15.646999999999998|              0.066|\n",
      "+---------+----------+-------------+-------------------+------------------+------------+-------------------+------------------+-------------------+\n",
      "only showing top 5 rows\n",
      "\n"
     ]
    }
   ],
   "source": [
    "df_dailyDataSet.show(5)"
   ]
  },
  {
   "cell_type": "code",
   "execution_count": 17,
   "metadata": {
    "ExecuteTime": {
     "end_time": "2020-03-23T03:30:32.377485Z",
     "start_time": "2020-03-23T03:30:31.872790Z"
    }
   },
   "outputs": [],
   "source": [
    "df_hhDataSet = spark.read.csv(rootPathSourceData + \"halfhourly_dataset/halfhourly_dataset/\",header = True)"
   ]
  },
  {
   "cell_type": "code",
   "execution_count": 18,
   "metadata": {
    "ExecuteTime": {
     "end_time": "2020-03-23T03:30:32.784897Z",
     "start_time": "2020-03-23T03:30:32.379214Z"
    }
   },
   "outputs": [],
   "source": [
    "df_hhBlock = spark.read.csv(rootPathSourceData + \"hhblock_dataset/hhblock_dataset/\",header = True)"
   ]
  },
  {
   "cell_type": "code",
   "execution_count": 19,
   "metadata": {
    "ExecuteTime": {
     "end_time": "2020-03-23T03:30:34.886188Z",
     "start_time": "2020-03-23T03:30:32.786737Z"
    },
    "scrolled": true
   },
   "outputs": [
    {
     "data": {
      "text/plain": [
       "3469352"
      ]
     },
     "execution_count": 19,
     "metadata": {},
     "output_type": "execute_result"
    }
   ],
   "source": [
    "df_hhBlock.count()"
   ]
  },
  {
   "cell_type": "code",
   "execution_count": 20,
   "metadata": {
    "ExecuteTime": {
     "end_time": "2020-03-23T03:30:49.717155Z",
     "start_time": "2020-03-23T03:30:34.887618Z"
    }
   },
   "outputs": [
    {
     "data": {
      "text/plain": [
       "167817021"
      ]
     },
     "execution_count": 20,
     "metadata": {},
     "output_type": "execute_result"
    }
   ],
   "source": [
    "df_hhDataSet.count()"
   ]
  },
  {
   "cell_type": "markdown",
   "metadata": {},
   "source": [
    "\n",
    "mode = \"overwrite\"\n",
    "url = \"jdbc:postgresql://localhost:5432/project5\"\n",
    "properties = {\"user\": \"hansremy\",\"password\": \"Hryr1321\",\"driver\": \"org.postgresql.Driver\"}\n",
    "weatherHourly.write.jdbc(url=url, table=\"test_result\", mode=mode, properties=properties)"
   ]
  },
  {
   "cell_type": "markdown",
   "metadata": {},
   "source": [
    "weatherHourly.write \\\n",
    "    .format(\"jdbc\") \\\n",
    "    .option(\"url\", \"project5:postgresql:localhost\") \\\n",
    "    .option(\"dbtable\", \"schema.weatherHourly\") \\\n",
    "    .option(\"user\", \"hansremy\") \\\n",
    "    .option(\"password\", \"Hryr1321@\") \\\n",
    "    .save()"
   ]
  },
  {
   "cell_type": "markdown",
   "metadata": {},
   "source": [
    "from pyspark.sql import SparkSession\n",
    "\n",
    "spark2 = SparkSession \\\n",
    "    .builder \\\n",
    "    .appName(\"Python Spark SQL basic example\") \\\n",
    "    .config(\"spark.jars\", \"/Users/hansremy/Bootcamp/postgresql-42.2.10.jar\") \\\n",
    "    .getOrCreate()\n",
    "\n",
    "df = spark2.read \\\n",
    "    .format(\"jdbc\") \\\n",
    "    .option(\"url\", \"jdbc:postgresql://localhost:5432/project5%\") \\\n",
    "    .option(\"dbtable\", \"Test\") \\\n",
    "    .option(\"user\", \"hansremy\") \\\n",
    "    .option(\"password\", \"Hryr1321@\") \\\n",
    "    .option(\"driver\", \"org.postgresql.Driver\") \\\n",
    "    .load()\n",
    "\n",
    "df.printSchema()"
   ]
  },
  {
   "cell_type": "code",
   "execution_count": 21,
   "metadata": {
    "ExecuteTime": {
     "end_time": "2020-03-23T03:30:49.721184Z",
     "start_time": "2020-03-23T03:30:49.719204Z"
    }
   },
   "outputs": [],
   "source": [
    "#df_dailyReading_pd = df_dailyReading.toPandas()"
   ]
  },
  {
   "cell_type": "code",
   "execution_count": 22,
   "metadata": {
    "ExecuteTime": {
     "end_time": "2020-03-23T03:30:50.232530Z",
     "start_time": "2020-03-23T03:30:49.723420Z"
    }
   },
   "outputs": [
    {
     "data": {
      "text/plain": [
       "3510433"
      ]
     },
     "execution_count": 22,
     "metadata": {},
     "output_type": "execute_result"
    }
   ],
   "source": [
    "df_dailyReading.count()"
   ]
  },
  {
   "cell_type": "code",
   "execution_count": 23,
   "metadata": {
    "ExecuteTime": {
     "end_time": "2020-03-23T03:30:50.248455Z",
     "start_time": "2020-03-23T03:30:50.244366Z"
    }
   },
   "outputs": [
    {
     "name": "stdout",
     "output_type": "stream",
     "text": [
      "root\n",
      " |-- LCLid: string (nullable = true)\n",
      " |-- day: string (nullable = true)\n",
      " |-- energy_median: string (nullable = true)\n",
      " |-- energy_mean: string (nullable = true)\n",
      " |-- energy_max: string (nullable = true)\n",
      " |-- energy_count: string (nullable = true)\n",
      " |-- energy_std: string (nullable = true)\n",
      " |-- energy_sum: string (nullable = true)\n",
      " |-- energy_min: string (nullable = true)\n",
      "\n"
     ]
    }
   ],
   "source": [
    "df_dailyReading.printSchema()"
   ]
  },
  {
   "cell_type": "code",
   "execution_count": 24,
   "metadata": {
    "ExecuteTime": {
     "end_time": "2020-03-23T03:30:50.342679Z",
     "start_time": "2020-03-23T03:30:50.254055Z"
    }
   },
   "outputs": [
    {
     "name": "stdout",
     "output_type": "stream",
     "text": [
      "+---------+----------+-------------------+-------------------+------------------+------------+-------------------+-----------------+-------------------+\n",
      "|    LCLid|       day|      energy_median|        energy_mean|        energy_max|energy_count|         energy_std|       energy_sum|         energy_min|\n",
      "+---------+----------+-------------------+-------------------+------------------+------------+-------------------+-----------------+-------------------+\n",
      "|MAC000048|2011-12-08|              0.107|0.15921739130434787|0.5760000000000001|          23|0.11802116779387856|3.662000000000001|              0.087|\n",
      "|MAC000048|2011-12-09|              0.092|            0.12575|              0.57|          48|0.08927664391617872|            6.036|              0.087|\n",
      "|MAC000048|2011-12-10|             0.0925|0.20964583541666668|1.3219999999999998|          48| 0.2882244672915173|       10.0630001|              0.087|\n",
      "|MAC000048|2011-12-11|0.11599999999999999| 0.2451874979166667|         2.0009999|          48|0.32513993587499834|       11.7689999|0.08800000000000001|\n",
      "|MAC000048|2011-12-12|              0.095|0.12318750000000002|             0.326|          48|0.05794665788097247|5.913000000000001|              0.087|\n",
      "+---------+----------+-------------------+-------------------+------------------+------------+-------------------+-----------------+-------------------+\n",
      "only showing top 5 rows\n",
      "\n"
     ]
    }
   ],
   "source": [
    "df_dailyReading.show(5)"
   ]
  },
  {
   "cell_type": "code",
   "execution_count": 25,
   "metadata": {
    "ExecuteTime": {
     "end_time": "2020-03-23T03:30:50.429799Z",
     "start_time": "2020-03-23T03:30:50.345114Z"
    }
   },
   "outputs": [
    {
     "data": {
      "text/plain": [
       "5566"
      ]
     },
     "execution_count": 25,
     "metadata": {},
     "output_type": "execute_result"
    }
   ],
   "source": [
    "householdInfo.count()"
   ]
  },
  {
   "cell_type": "code",
   "execution_count": 26,
   "metadata": {
    "ExecuteTime": {
     "end_time": "2020-03-23T03:30:50.703536Z",
     "start_time": "2020-03-23T03:30:50.433283Z"
    }
   },
   "outputs": [],
   "source": [
    "pdf_householdInfo = householdInfo.toPandas()"
   ]
  },
  {
   "cell_type": "code",
   "execution_count": 27,
   "metadata": {
    "ExecuteTime": {
     "end_time": "2020-03-23T03:30:50.716043Z",
     "start_time": "2020-03-23T03:30:50.705367Z"
    }
   },
   "outputs": [
    {
     "data": {
      "text/html": [
       "<div>\n",
       "<style scoped>\n",
       "    .dataframe tbody tr th:only-of-type {\n",
       "        vertical-align: middle;\n",
       "    }\n",
       "\n",
       "    .dataframe tbody tr th {\n",
       "        vertical-align: top;\n",
       "    }\n",
       "\n",
       "    .dataframe thead th {\n",
       "        text-align: right;\n",
       "    }\n",
       "</style>\n",
       "<table border=\"1\" class=\"dataframe\">\n",
       "  <thead>\n",
       "    <tr style=\"text-align: right;\">\n",
       "      <th></th>\n",
       "      <th>LCLid</th>\n",
       "      <th>stdorToU</th>\n",
       "      <th>Acorn</th>\n",
       "      <th>Acorn_grouped</th>\n",
       "      <th>file</th>\n",
       "    </tr>\n",
       "  </thead>\n",
       "  <tbody>\n",
       "    <tr>\n",
       "      <th>0</th>\n",
       "      <td>MAC005492</td>\n",
       "      <td>ToU</td>\n",
       "      <td>ACORN-</td>\n",
       "      <td>ACORN-</td>\n",
       "      <td>block_0</td>\n",
       "    </tr>\n",
       "    <tr>\n",
       "      <th>1</th>\n",
       "      <td>MAC001074</td>\n",
       "      <td>ToU</td>\n",
       "      <td>ACORN-</td>\n",
       "      <td>ACORN-</td>\n",
       "      <td>block_0</td>\n",
       "    </tr>\n",
       "    <tr>\n",
       "      <th>2</th>\n",
       "      <td>MAC000002</td>\n",
       "      <td>Std</td>\n",
       "      <td>ACORN-A</td>\n",
       "      <td>Affluent</td>\n",
       "      <td>block_0</td>\n",
       "    </tr>\n",
       "    <tr>\n",
       "      <th>3</th>\n",
       "      <td>MAC003613</td>\n",
       "      <td>Std</td>\n",
       "      <td>ACORN-A</td>\n",
       "      <td>Affluent</td>\n",
       "      <td>block_0</td>\n",
       "    </tr>\n",
       "    <tr>\n",
       "      <th>4</th>\n",
       "      <td>MAC003597</td>\n",
       "      <td>Std</td>\n",
       "      <td>ACORN-A</td>\n",
       "      <td>Affluent</td>\n",
       "      <td>block_0</td>\n",
       "    </tr>\n",
       "    <tr>\n",
       "      <th>...</th>\n",
       "      <td>...</td>\n",
       "      <td>...</td>\n",
       "      <td>...</td>\n",
       "      <td>...</td>\n",
       "      <td>...</td>\n",
       "    </tr>\n",
       "    <tr>\n",
       "      <th>5561</th>\n",
       "      <td>MAC002056</td>\n",
       "      <td>Std</td>\n",
       "      <td>ACORN-U</td>\n",
       "      <td>ACORN-U</td>\n",
       "      <td>block_111</td>\n",
       "    </tr>\n",
       "    <tr>\n",
       "      <th>5562</th>\n",
       "      <td>MAC004587</td>\n",
       "      <td>Std</td>\n",
       "      <td>ACORN-U</td>\n",
       "      <td>ACORN-U</td>\n",
       "      <td>block_111</td>\n",
       "    </tr>\n",
       "    <tr>\n",
       "      <th>5563</th>\n",
       "      <td>MAC004828</td>\n",
       "      <td>Std</td>\n",
       "      <td>ACORN-U</td>\n",
       "      <td>ACORN-U</td>\n",
       "      <td>block_111</td>\n",
       "    </tr>\n",
       "    <tr>\n",
       "      <th>5564</th>\n",
       "      <td>MAC001704</td>\n",
       "      <td>ToU</td>\n",
       "      <td>ACORN-U</td>\n",
       "      <td>ACORN-U</td>\n",
       "      <td>block_111</td>\n",
       "    </tr>\n",
       "    <tr>\n",
       "      <th>5565</th>\n",
       "      <td>MAC002774</td>\n",
       "      <td>ToU</td>\n",
       "      <td>ACORN-U</td>\n",
       "      <td>ACORN-U</td>\n",
       "      <td>block_111</td>\n",
       "    </tr>\n",
       "  </tbody>\n",
       "</table>\n",
       "<p>5566 rows × 5 columns</p>\n",
       "</div>"
      ],
      "text/plain": [
       "          LCLid stdorToU    Acorn Acorn_grouped       file\n",
       "0     MAC005492      ToU   ACORN-        ACORN-    block_0\n",
       "1     MAC001074      ToU   ACORN-        ACORN-    block_0\n",
       "2     MAC000002      Std  ACORN-A      Affluent    block_0\n",
       "3     MAC003613      Std  ACORN-A      Affluent    block_0\n",
       "4     MAC003597      Std  ACORN-A      Affluent    block_0\n",
       "...         ...      ...      ...           ...        ...\n",
       "5561  MAC002056      Std  ACORN-U       ACORN-U  block_111\n",
       "5562  MAC004587      Std  ACORN-U       ACORN-U  block_111\n",
       "5563  MAC004828      Std  ACORN-U       ACORN-U  block_111\n",
       "5564  MAC001704      ToU  ACORN-U       ACORN-U  block_111\n",
       "5565  MAC002774      ToU  ACORN-U       ACORN-U  block_111\n",
       "\n",
       "[5566 rows x 5 columns]"
      ]
     },
     "execution_count": 27,
     "metadata": {},
     "output_type": "execute_result"
    }
   ],
   "source": [
    "pdf_householdInfo"
   ]
  },
  {
   "cell_type": "code",
   "execution_count": 28,
   "metadata": {
    "ExecuteTime": {
     "end_time": "2020-03-23T03:30:50.723494Z",
     "start_time": "2020-03-23T03:30:50.717832Z"
    }
   },
   "outputs": [],
   "source": [
    "pdf_block90 = pdf_householdInfo[pdf_householdInfo['file'] =='block_90']"
   ]
  },
  {
   "cell_type": "code",
   "execution_count": 29,
   "metadata": {
    "ExecuteTime": {
     "end_time": "2020-03-23T03:30:50.734184Z",
     "start_time": "2020-03-23T03:30:50.725632Z"
    }
   },
   "outputs": [
    {
     "name": "stdout",
     "output_type": "stream",
     "text": [
      "          LCLid stdorToU    Acorn Acorn_grouped      file\n",
      "4500  MAC003296      Std  ACORN-O     Adversity  block_90\n",
      "4501  MAC003301      Std  ACORN-O     Adversity  block_90\n",
      "4502  MAC003988      ToU  ACORN-O     Adversity  block_90\n",
      "4503  MAC001639      Std  ACORN-O     Adversity  block_90\n",
      "4504  MAC000786      Std  ACORN-O     Adversity  block_90\n",
      "4505  MAC002770      Std  ACORN-O     Adversity  block_90\n",
      "4506  MAC002734      Std  ACORN-O     Adversity  block_90\n",
      "4507  MAC000474      Std  ACORN-O     Adversity  block_90\n",
      "4508  MAC003373      Std  ACORN-O     Adversity  block_90\n",
      "4509  MAC003929      Std  ACORN-O     Adversity  block_90\n",
      "4510  MAC000757      Std  ACORN-O     Adversity  block_90\n",
      "4511  MAC003376      Std  ACORN-O     Adversity  block_90\n",
      "4512  MAC004479      Std  ACORN-O     Adversity  block_90\n",
      "4513  MAC001762      Std  ACORN-O     Adversity  block_90\n",
      "4514  MAC001775      Std  ACORN-O     Adversity  block_90\n",
      "4515  MAC000491      Std  ACORN-O     Adversity  block_90\n",
      "4516  MAC003433      Std  ACORN-O     Adversity  block_90\n",
      "4517  MAC004021      ToU  ACORN-O     Adversity  block_90\n",
      "4518  MAC003883      Std  ACORN-O     Adversity  block_90\n",
      "4519  MAC004873      Std  ACORN-O     Adversity  block_90\n",
      "4520  MAC002893      Std  ACORN-O     Adversity  block_90\n",
      "4521  MAC005049      Std  ACORN-O     Adversity  block_90\n",
      "4522  MAC001468      Std  ACORN-O     Adversity  block_90\n",
      "4523  MAC003136      Std  ACORN-O     Adversity  block_90\n",
      "4524  MAC003062      Std  ACORN-O     Adversity  block_90\n",
      "4525  MAC004085      Std  ACORN-O     Adversity  block_90\n",
      "4526  MAC005089      Std  ACORN-O     Adversity  block_90\n",
      "4527  MAC001530      Std  ACORN-O     Adversity  block_90\n",
      "4528  MAC002167      ToU  ACORN-O     Adversity  block_90\n",
      "4529  MAC002463      ToU  ACORN-O     Adversity  block_90\n",
      "4530  MAC003207      Std  ACORN-O     Adversity  block_90\n",
      "4531  MAC005140      Std  ACORN-O     Adversity  block_90\n",
      "4532  MAC000427      Std  ACORN-O     Adversity  block_90\n",
      "4533  MAC005153      Std  ACORN-O     Adversity  block_90\n",
      "4534  MAC004017      Std  ACORN-O     Adversity  block_90\n",
      "4535  MAC004011      Std  ACORN-O     Adversity  block_90\n",
      "4536  MAC004076      ToU  ACORN-O     Adversity  block_90\n",
      "4537  MAC000929      Std  ACORN-O     Adversity  block_90\n",
      "4538  MAC002870      Std  ACORN-O     Adversity  block_90\n",
      "4539  MAC002547      Std  ACORN-O     Adversity  block_90\n",
      "4540  MAC004165      Std  ACORN-O     Adversity  block_90\n",
      "4541  MAC000514      Std  ACORN-O     Adversity  block_90\n",
      "4542  MAC003379      ToU  ACORN-O     Adversity  block_90\n",
      "4543  MAC000363      Std  ACORN-O     Adversity  block_90\n",
      "4544  MAC002299      Std  ACORN-O     Adversity  block_90\n",
      "4545  MAC002387      Std  ACORN-O     Adversity  block_90\n",
      "4546  MAC005520      Std  ACORN-O     Adversity  block_90\n",
      "4547  MAC001887      Std  ACORN-O     Adversity  block_90\n",
      "4548  MAC000213      Std  ACORN-O     Adversity  block_90\n",
      "4549  MAC003516      Std  ACORN-O     Adversity  block_90\n"
     ]
    }
   ],
   "source": [
    "print(pdf_block90)"
   ]
  },
  {
   "cell_type": "code",
   "execution_count": 30,
   "metadata": {
    "ExecuteTime": {
     "end_time": "2020-03-23T03:30:50.740713Z",
     "start_time": "2020-03-23T03:30:50.736569Z"
    }
   },
   "outputs": [
    {
     "data": {
      "text/plain": [
       "array(['ACORN-', 'Affluent', 'Comfortable', 'Adversity', 'ACORN-U'],\n",
       "      dtype=object)"
      ]
     },
     "execution_count": 30,
     "metadata": {},
     "output_type": "execute_result"
    }
   ],
   "source": [
    "pdf_householdInfo['Acorn_grouped'].unique() "
   ]
  },
  {
   "cell_type": "code",
   "execution_count": 31,
   "metadata": {
    "ExecuteTime": {
     "end_time": "2020-03-23T03:30:50.746964Z",
     "start_time": "2020-03-23T03:30:50.742521Z"
    }
   },
   "outputs": [
    {
     "data": {
      "text/plain": [
       "array(['ACORN-', 'ACORN-A', 'ACORN-B', 'ACORN-C', 'ACORN-D', 'ACORN-E',\n",
       "       'ACORN-F', 'ACORN-G', 'ACORN-H', 'ACORN-I', 'ACORN-J', 'ACORN-K',\n",
       "       'ACORN-L', 'ACORN-M', 'ACORN-N', 'ACORN-O', 'ACORN-P', 'ACORN-Q',\n",
       "       'ACORN-U'], dtype=object)"
      ]
     },
     "execution_count": 31,
     "metadata": {},
     "output_type": "execute_result"
    }
   ],
   "source": [
    "pdf_householdInfo['Acorn'].unique() "
   ]
  },
  {
   "cell_type": "code",
   "execution_count": 32,
   "metadata": {
    "ExecuteTime": {
     "end_time": "2020-03-23T03:30:50.757616Z",
     "start_time": "2020-03-23T03:30:50.748851Z"
    }
   },
   "outputs": [
    {
     "data": {
      "text/html": [
       "<div>\n",
       "<style scoped>\n",
       "    .dataframe tbody tr th:only-of-type {\n",
       "        vertical-align: middle;\n",
       "    }\n",
       "\n",
       "    .dataframe tbody tr th {\n",
       "        vertical-align: top;\n",
       "    }\n",
       "\n",
       "    .dataframe thead th {\n",
       "        text-align: right;\n",
       "    }\n",
       "</style>\n",
       "<table border=\"1\" class=\"dataframe\">\n",
       "  <thead>\n",
       "    <tr style=\"text-align: right;\">\n",
       "      <th></th>\n",
       "      <th>LCLid</th>\n",
       "      <th>stdorToU</th>\n",
       "      <th>Acorn</th>\n",
       "      <th>Acorn_grouped</th>\n",
       "      <th>file</th>\n",
       "    </tr>\n",
       "  </thead>\n",
       "  <tbody>\n",
       "    <tr>\n",
       "      <th>0</th>\n",
       "      <td>MAC005492</td>\n",
       "      <td>ToU</td>\n",
       "      <td>ACORN-</td>\n",
       "      <td>ACORN-</td>\n",
       "      <td>block_0</td>\n",
       "    </tr>\n",
       "    <tr>\n",
       "      <th>1</th>\n",
       "      <td>MAC001074</td>\n",
       "      <td>ToU</td>\n",
       "      <td>ACORN-</td>\n",
       "      <td>ACORN-</td>\n",
       "      <td>block_0</td>\n",
       "    </tr>\n",
       "  </tbody>\n",
       "</table>\n",
       "</div>"
      ],
      "text/plain": [
       "       LCLid stdorToU   Acorn Acorn_grouped     file\n",
       "0  MAC005492      ToU  ACORN-        ACORN-  block_0\n",
       "1  MAC001074      ToU  ACORN-        ACORN-  block_0"
      ]
     },
     "execution_count": 32,
     "metadata": {},
     "output_type": "execute_result"
    }
   ],
   "source": [
    "pdf_householdInfo[pdf_householdInfo['Acorn']=='ACORN-']"
   ]
  },
  {
   "cell_type": "code",
   "execution_count": 33,
   "metadata": {
    "ExecuteTime": {
     "end_time": "2020-03-23T03:30:50.772869Z",
     "start_time": "2020-03-23T03:30:50.759444Z"
    }
   },
   "outputs": [
    {
     "data": {
      "text/html": [
       "<div>\n",
       "<style scoped>\n",
       "    .dataframe tbody tr th:only-of-type {\n",
       "        vertical-align: middle;\n",
       "    }\n",
       "\n",
       "    .dataframe tbody tr th {\n",
       "        vertical-align: top;\n",
       "    }\n",
       "\n",
       "    .dataframe thead th {\n",
       "        text-align: right;\n",
       "    }\n",
       "</style>\n",
       "<table border=\"1\" class=\"dataframe\">\n",
       "  <thead>\n",
       "    <tr style=\"text-align: right;\">\n",
       "      <th></th>\n",
       "      <th>LCLid</th>\n",
       "      <th>stdorToU</th>\n",
       "      <th>Acorn</th>\n",
       "      <th>Acorn_grouped</th>\n",
       "      <th>file</th>\n",
       "    </tr>\n",
       "  </thead>\n",
       "  <tbody>\n",
       "    <tr>\n",
       "      <th>2194</th>\n",
       "      <td>MAC003957</td>\n",
       "      <td>Std</td>\n",
       "      <td>ACORN-F</td>\n",
       "      <td>Comfortable</td>\n",
       "      <td>block_43</td>\n",
       "    </tr>\n",
       "    <tr>\n",
       "      <th>2195</th>\n",
       "      <td>MAC004059</td>\n",
       "      <td>Std</td>\n",
       "      <td>ACORN-F</td>\n",
       "      <td>Comfortable</td>\n",
       "      <td>block_43</td>\n",
       "    </tr>\n",
       "    <tr>\n",
       "      <th>2196</th>\n",
       "      <td>MAC001028</td>\n",
       "      <td>Std</td>\n",
       "      <td>ACORN-F</td>\n",
       "      <td>Comfortable</td>\n",
       "      <td>block_43</td>\n",
       "    </tr>\n",
       "    <tr>\n",
       "      <th>2197</th>\n",
       "      <td>MAC004777</td>\n",
       "      <td>Std</td>\n",
       "      <td>ACORN-F</td>\n",
       "      <td>Comfortable</td>\n",
       "      <td>block_43</td>\n",
       "    </tr>\n",
       "    <tr>\n",
       "      <th>2198</th>\n",
       "      <td>MAC004812</td>\n",
       "      <td>Std</td>\n",
       "      <td>ACORN-F</td>\n",
       "      <td>Comfortable</td>\n",
       "      <td>block_43</td>\n",
       "    </tr>\n",
       "    <tr>\n",
       "      <th>...</th>\n",
       "      <td>...</td>\n",
       "      <td>...</td>\n",
       "      <td>...</td>\n",
       "      <td>...</td>\n",
       "      <td>...</td>\n",
       "    </tr>\n",
       "    <tr>\n",
       "      <th>3696</th>\n",
       "      <td>MAC003461</td>\n",
       "      <td>ToU</td>\n",
       "      <td>ACORN-J</td>\n",
       "      <td>Comfortable</td>\n",
       "      <td>block_73</td>\n",
       "    </tr>\n",
       "    <tr>\n",
       "      <th>3697</th>\n",
       "      <td>MAC002273</td>\n",
       "      <td>Std</td>\n",
       "      <td>ACORN-J</td>\n",
       "      <td>Comfortable</td>\n",
       "      <td>block_73</td>\n",
       "    </tr>\n",
       "    <tr>\n",
       "      <th>3698</th>\n",
       "      <td>MAC005559</td>\n",
       "      <td>Std</td>\n",
       "      <td>ACORN-J</td>\n",
       "      <td>Comfortable</td>\n",
       "      <td>block_73</td>\n",
       "    </tr>\n",
       "    <tr>\n",
       "      <th>3699</th>\n",
       "      <td>MAC004901</td>\n",
       "      <td>Std</td>\n",
       "      <td>ACORN-J</td>\n",
       "      <td>Comfortable</td>\n",
       "      <td>block_73</td>\n",
       "    </tr>\n",
       "    <tr>\n",
       "      <th>3700</th>\n",
       "      <td>MAC001246</td>\n",
       "      <td>ToU</td>\n",
       "      <td>ACORN-J</td>\n",
       "      <td>Comfortable</td>\n",
       "      <td>block_74</td>\n",
       "    </tr>\n",
       "  </tbody>\n",
       "</table>\n",
       "<p>1507 rows × 5 columns</p>\n",
       "</div>"
      ],
      "text/plain": [
       "          LCLid stdorToU    Acorn Acorn_grouped      file\n",
       "2194  MAC003957      Std  ACORN-F   Comfortable  block_43\n",
       "2195  MAC004059      Std  ACORN-F   Comfortable  block_43\n",
       "2196  MAC001028      Std  ACORN-F   Comfortable  block_43\n",
       "2197  MAC004777      Std  ACORN-F   Comfortable  block_43\n",
       "2198  MAC004812      Std  ACORN-F   Comfortable  block_43\n",
       "...         ...      ...      ...           ...       ...\n",
       "3696  MAC003461      ToU  ACORN-J   Comfortable  block_73\n",
       "3697  MAC002273      Std  ACORN-J   Comfortable  block_73\n",
       "3698  MAC005559      Std  ACORN-J   Comfortable  block_73\n",
       "3699  MAC004901      Std  ACORN-J   Comfortable  block_73\n",
       "3700  MAC001246      ToU  ACORN-J   Comfortable  block_74\n",
       "\n",
       "[1507 rows x 5 columns]"
      ]
     },
     "execution_count": 33,
     "metadata": {},
     "output_type": "execute_result"
    }
   ],
   "source": [
    "pdf_householdInfo[pdf_householdInfo['Acorn_grouped'] == 'Comfortable']"
   ]
  },
  {
   "cell_type": "code",
   "execution_count": 34,
   "metadata": {
    "ExecuteTime": {
     "end_time": "2020-03-23T03:30:50.784049Z",
     "start_time": "2020-03-23T03:30:50.775351Z"
    }
   },
   "outputs": [],
   "source": [
    "LClidListMVP = []\n",
    "for index, row in pdf_block90.iterrows():\n",
    "    LClidListMVP.append(row['LCLid'])\n",
    "    "
   ]
  },
  {
   "cell_type": "code",
   "execution_count": 35,
   "metadata": {
    "ExecuteTime": {
     "end_time": "2020-03-23T03:30:50.789103Z",
     "start_time": "2020-03-23T03:30:50.786299Z"
    }
   },
   "outputs": [
    {
     "name": "stdout",
     "output_type": "stream",
     "text": [
      "['MAC003296', 'MAC003301', 'MAC003988', 'MAC001639', 'MAC000786', 'MAC002770', 'MAC002734', 'MAC000474', 'MAC003373', 'MAC003929', 'MAC000757', 'MAC003376', 'MAC004479', 'MAC001762', 'MAC001775', 'MAC000491', 'MAC003433', 'MAC004021', 'MAC003883', 'MAC004873', 'MAC002893', 'MAC005049', 'MAC001468', 'MAC003136', 'MAC003062', 'MAC004085', 'MAC005089', 'MAC001530', 'MAC002167', 'MAC002463', 'MAC003207', 'MAC005140', 'MAC000427', 'MAC005153', 'MAC004017', 'MAC004011', 'MAC004076', 'MAC000929', 'MAC002870', 'MAC002547', 'MAC004165', 'MAC000514', 'MAC003379', 'MAC000363', 'MAC002299', 'MAC002387', 'MAC005520', 'MAC001887', 'MAC000213', 'MAC003516']\n"
     ]
    }
   ],
   "source": [
    "print(LClidListMVP)"
   ]
  },
  {
   "cell_type": "code",
   "execution_count": null,
   "metadata": {},
   "outputs": [],
   "source": []
  },
  {
   "cell_type": "code",
   "execution_count": 36,
   "metadata": {
    "ExecuteTime": {
     "end_time": "2020-03-23T03:30:50.806924Z",
     "start_time": "2020-03-23T03:30:50.791157Z"
    }
   },
   "outputs": [
    {
     "data": {
      "text/html": [
       "<div>\n",
       "<style scoped>\n",
       "    .dataframe tbody tr th:only-of-type {\n",
       "        vertical-align: middle;\n",
       "    }\n",
       "\n",
       "    .dataframe tbody tr th {\n",
       "        vertical-align: top;\n",
       "    }\n",
       "\n",
       "    .dataframe thead th {\n",
       "        text-align: right;\n",
       "    }\n",
       "</style>\n",
       "<table border=\"1\" class=\"dataframe\">\n",
       "  <thead>\n",
       "    <tr style=\"text-align: right;\">\n",
       "      <th></th>\n",
       "      <th>LCLid</th>\n",
       "      <th>stdorToU</th>\n",
       "      <th>Acorn</th>\n",
       "      <th>Acorn_grouped</th>\n",
       "      <th>file</th>\n",
       "    </tr>\n",
       "  </thead>\n",
       "  <tbody>\n",
       "    <tr>\n",
       "      <th>4500</th>\n",
       "      <td>MAC003296</td>\n",
       "      <td>Std</td>\n",
       "      <td>ACORN-O</td>\n",
       "      <td>Adversity</td>\n",
       "      <td>block_90</td>\n",
       "    </tr>\n",
       "    <tr>\n",
       "      <th>4501</th>\n",
       "      <td>MAC003301</td>\n",
       "      <td>Std</td>\n",
       "      <td>ACORN-O</td>\n",
       "      <td>Adversity</td>\n",
       "      <td>block_90</td>\n",
       "    </tr>\n",
       "    <tr>\n",
       "      <th>4502</th>\n",
       "      <td>MAC003988</td>\n",
       "      <td>ToU</td>\n",
       "      <td>ACORN-O</td>\n",
       "      <td>Adversity</td>\n",
       "      <td>block_90</td>\n",
       "    </tr>\n",
       "    <tr>\n",
       "      <th>4503</th>\n",
       "      <td>MAC001639</td>\n",
       "      <td>Std</td>\n",
       "      <td>ACORN-O</td>\n",
       "      <td>Adversity</td>\n",
       "      <td>block_90</td>\n",
       "    </tr>\n",
       "    <tr>\n",
       "      <th>4504</th>\n",
       "      <td>MAC000786</td>\n",
       "      <td>Std</td>\n",
       "      <td>ACORN-O</td>\n",
       "      <td>Adversity</td>\n",
       "      <td>block_90</td>\n",
       "    </tr>\n",
       "    <tr>\n",
       "      <th>4505</th>\n",
       "      <td>MAC002770</td>\n",
       "      <td>Std</td>\n",
       "      <td>ACORN-O</td>\n",
       "      <td>Adversity</td>\n",
       "      <td>block_90</td>\n",
       "    </tr>\n",
       "    <tr>\n",
       "      <th>4506</th>\n",
       "      <td>MAC002734</td>\n",
       "      <td>Std</td>\n",
       "      <td>ACORN-O</td>\n",
       "      <td>Adversity</td>\n",
       "      <td>block_90</td>\n",
       "    </tr>\n",
       "    <tr>\n",
       "      <th>4507</th>\n",
       "      <td>MAC000474</td>\n",
       "      <td>Std</td>\n",
       "      <td>ACORN-O</td>\n",
       "      <td>Adversity</td>\n",
       "      <td>block_90</td>\n",
       "    </tr>\n",
       "    <tr>\n",
       "      <th>4508</th>\n",
       "      <td>MAC003373</td>\n",
       "      <td>Std</td>\n",
       "      <td>ACORN-O</td>\n",
       "      <td>Adversity</td>\n",
       "      <td>block_90</td>\n",
       "    </tr>\n",
       "    <tr>\n",
       "      <th>4509</th>\n",
       "      <td>MAC003929</td>\n",
       "      <td>Std</td>\n",
       "      <td>ACORN-O</td>\n",
       "      <td>Adversity</td>\n",
       "      <td>block_90</td>\n",
       "    </tr>\n",
       "    <tr>\n",
       "      <th>4510</th>\n",
       "      <td>MAC000757</td>\n",
       "      <td>Std</td>\n",
       "      <td>ACORN-O</td>\n",
       "      <td>Adversity</td>\n",
       "      <td>block_90</td>\n",
       "    </tr>\n",
       "    <tr>\n",
       "      <th>4511</th>\n",
       "      <td>MAC003376</td>\n",
       "      <td>Std</td>\n",
       "      <td>ACORN-O</td>\n",
       "      <td>Adversity</td>\n",
       "      <td>block_90</td>\n",
       "    </tr>\n",
       "    <tr>\n",
       "      <th>4512</th>\n",
       "      <td>MAC004479</td>\n",
       "      <td>Std</td>\n",
       "      <td>ACORN-O</td>\n",
       "      <td>Adversity</td>\n",
       "      <td>block_90</td>\n",
       "    </tr>\n",
       "    <tr>\n",
       "      <th>4513</th>\n",
       "      <td>MAC001762</td>\n",
       "      <td>Std</td>\n",
       "      <td>ACORN-O</td>\n",
       "      <td>Adversity</td>\n",
       "      <td>block_90</td>\n",
       "    </tr>\n",
       "    <tr>\n",
       "      <th>4514</th>\n",
       "      <td>MAC001775</td>\n",
       "      <td>Std</td>\n",
       "      <td>ACORN-O</td>\n",
       "      <td>Adversity</td>\n",
       "      <td>block_90</td>\n",
       "    </tr>\n",
       "    <tr>\n",
       "      <th>4515</th>\n",
       "      <td>MAC000491</td>\n",
       "      <td>Std</td>\n",
       "      <td>ACORN-O</td>\n",
       "      <td>Adversity</td>\n",
       "      <td>block_90</td>\n",
       "    </tr>\n",
       "    <tr>\n",
       "      <th>4516</th>\n",
       "      <td>MAC003433</td>\n",
       "      <td>Std</td>\n",
       "      <td>ACORN-O</td>\n",
       "      <td>Adversity</td>\n",
       "      <td>block_90</td>\n",
       "    </tr>\n",
       "    <tr>\n",
       "      <th>4517</th>\n",
       "      <td>MAC004021</td>\n",
       "      <td>ToU</td>\n",
       "      <td>ACORN-O</td>\n",
       "      <td>Adversity</td>\n",
       "      <td>block_90</td>\n",
       "    </tr>\n",
       "    <tr>\n",
       "      <th>4518</th>\n",
       "      <td>MAC003883</td>\n",
       "      <td>Std</td>\n",
       "      <td>ACORN-O</td>\n",
       "      <td>Adversity</td>\n",
       "      <td>block_90</td>\n",
       "    </tr>\n",
       "    <tr>\n",
       "      <th>4519</th>\n",
       "      <td>MAC004873</td>\n",
       "      <td>Std</td>\n",
       "      <td>ACORN-O</td>\n",
       "      <td>Adversity</td>\n",
       "      <td>block_90</td>\n",
       "    </tr>\n",
       "    <tr>\n",
       "      <th>4520</th>\n",
       "      <td>MAC002893</td>\n",
       "      <td>Std</td>\n",
       "      <td>ACORN-O</td>\n",
       "      <td>Adversity</td>\n",
       "      <td>block_90</td>\n",
       "    </tr>\n",
       "    <tr>\n",
       "      <th>4521</th>\n",
       "      <td>MAC005049</td>\n",
       "      <td>Std</td>\n",
       "      <td>ACORN-O</td>\n",
       "      <td>Adversity</td>\n",
       "      <td>block_90</td>\n",
       "    </tr>\n",
       "    <tr>\n",
       "      <th>4522</th>\n",
       "      <td>MAC001468</td>\n",
       "      <td>Std</td>\n",
       "      <td>ACORN-O</td>\n",
       "      <td>Adversity</td>\n",
       "      <td>block_90</td>\n",
       "    </tr>\n",
       "    <tr>\n",
       "      <th>4523</th>\n",
       "      <td>MAC003136</td>\n",
       "      <td>Std</td>\n",
       "      <td>ACORN-O</td>\n",
       "      <td>Adversity</td>\n",
       "      <td>block_90</td>\n",
       "    </tr>\n",
       "    <tr>\n",
       "      <th>4524</th>\n",
       "      <td>MAC003062</td>\n",
       "      <td>Std</td>\n",
       "      <td>ACORN-O</td>\n",
       "      <td>Adversity</td>\n",
       "      <td>block_90</td>\n",
       "    </tr>\n",
       "    <tr>\n",
       "      <th>4525</th>\n",
       "      <td>MAC004085</td>\n",
       "      <td>Std</td>\n",
       "      <td>ACORN-O</td>\n",
       "      <td>Adversity</td>\n",
       "      <td>block_90</td>\n",
       "    </tr>\n",
       "    <tr>\n",
       "      <th>4526</th>\n",
       "      <td>MAC005089</td>\n",
       "      <td>Std</td>\n",
       "      <td>ACORN-O</td>\n",
       "      <td>Adversity</td>\n",
       "      <td>block_90</td>\n",
       "    </tr>\n",
       "    <tr>\n",
       "      <th>4527</th>\n",
       "      <td>MAC001530</td>\n",
       "      <td>Std</td>\n",
       "      <td>ACORN-O</td>\n",
       "      <td>Adversity</td>\n",
       "      <td>block_90</td>\n",
       "    </tr>\n",
       "    <tr>\n",
       "      <th>4528</th>\n",
       "      <td>MAC002167</td>\n",
       "      <td>ToU</td>\n",
       "      <td>ACORN-O</td>\n",
       "      <td>Adversity</td>\n",
       "      <td>block_90</td>\n",
       "    </tr>\n",
       "    <tr>\n",
       "      <th>4529</th>\n",
       "      <td>MAC002463</td>\n",
       "      <td>ToU</td>\n",
       "      <td>ACORN-O</td>\n",
       "      <td>Adversity</td>\n",
       "      <td>block_90</td>\n",
       "    </tr>\n",
       "    <tr>\n",
       "      <th>4530</th>\n",
       "      <td>MAC003207</td>\n",
       "      <td>Std</td>\n",
       "      <td>ACORN-O</td>\n",
       "      <td>Adversity</td>\n",
       "      <td>block_90</td>\n",
       "    </tr>\n",
       "    <tr>\n",
       "      <th>4531</th>\n",
       "      <td>MAC005140</td>\n",
       "      <td>Std</td>\n",
       "      <td>ACORN-O</td>\n",
       "      <td>Adversity</td>\n",
       "      <td>block_90</td>\n",
       "    </tr>\n",
       "    <tr>\n",
       "      <th>4532</th>\n",
       "      <td>MAC000427</td>\n",
       "      <td>Std</td>\n",
       "      <td>ACORN-O</td>\n",
       "      <td>Adversity</td>\n",
       "      <td>block_90</td>\n",
       "    </tr>\n",
       "    <tr>\n",
       "      <th>4533</th>\n",
       "      <td>MAC005153</td>\n",
       "      <td>Std</td>\n",
       "      <td>ACORN-O</td>\n",
       "      <td>Adversity</td>\n",
       "      <td>block_90</td>\n",
       "    </tr>\n",
       "    <tr>\n",
       "      <th>4534</th>\n",
       "      <td>MAC004017</td>\n",
       "      <td>Std</td>\n",
       "      <td>ACORN-O</td>\n",
       "      <td>Adversity</td>\n",
       "      <td>block_90</td>\n",
       "    </tr>\n",
       "    <tr>\n",
       "      <th>4535</th>\n",
       "      <td>MAC004011</td>\n",
       "      <td>Std</td>\n",
       "      <td>ACORN-O</td>\n",
       "      <td>Adversity</td>\n",
       "      <td>block_90</td>\n",
       "    </tr>\n",
       "    <tr>\n",
       "      <th>4536</th>\n",
       "      <td>MAC004076</td>\n",
       "      <td>ToU</td>\n",
       "      <td>ACORN-O</td>\n",
       "      <td>Adversity</td>\n",
       "      <td>block_90</td>\n",
       "    </tr>\n",
       "    <tr>\n",
       "      <th>4537</th>\n",
       "      <td>MAC000929</td>\n",
       "      <td>Std</td>\n",
       "      <td>ACORN-O</td>\n",
       "      <td>Adversity</td>\n",
       "      <td>block_90</td>\n",
       "    </tr>\n",
       "    <tr>\n",
       "      <th>4538</th>\n",
       "      <td>MAC002870</td>\n",
       "      <td>Std</td>\n",
       "      <td>ACORN-O</td>\n",
       "      <td>Adversity</td>\n",
       "      <td>block_90</td>\n",
       "    </tr>\n",
       "    <tr>\n",
       "      <th>4539</th>\n",
       "      <td>MAC002547</td>\n",
       "      <td>Std</td>\n",
       "      <td>ACORN-O</td>\n",
       "      <td>Adversity</td>\n",
       "      <td>block_90</td>\n",
       "    </tr>\n",
       "    <tr>\n",
       "      <th>4540</th>\n",
       "      <td>MAC004165</td>\n",
       "      <td>Std</td>\n",
       "      <td>ACORN-O</td>\n",
       "      <td>Adversity</td>\n",
       "      <td>block_90</td>\n",
       "    </tr>\n",
       "    <tr>\n",
       "      <th>4541</th>\n",
       "      <td>MAC000514</td>\n",
       "      <td>Std</td>\n",
       "      <td>ACORN-O</td>\n",
       "      <td>Adversity</td>\n",
       "      <td>block_90</td>\n",
       "    </tr>\n",
       "    <tr>\n",
       "      <th>4542</th>\n",
       "      <td>MAC003379</td>\n",
       "      <td>ToU</td>\n",
       "      <td>ACORN-O</td>\n",
       "      <td>Adversity</td>\n",
       "      <td>block_90</td>\n",
       "    </tr>\n",
       "    <tr>\n",
       "      <th>4543</th>\n",
       "      <td>MAC000363</td>\n",
       "      <td>Std</td>\n",
       "      <td>ACORN-O</td>\n",
       "      <td>Adversity</td>\n",
       "      <td>block_90</td>\n",
       "    </tr>\n",
       "    <tr>\n",
       "      <th>4544</th>\n",
       "      <td>MAC002299</td>\n",
       "      <td>Std</td>\n",
       "      <td>ACORN-O</td>\n",
       "      <td>Adversity</td>\n",
       "      <td>block_90</td>\n",
       "    </tr>\n",
       "    <tr>\n",
       "      <th>4545</th>\n",
       "      <td>MAC002387</td>\n",
       "      <td>Std</td>\n",
       "      <td>ACORN-O</td>\n",
       "      <td>Adversity</td>\n",
       "      <td>block_90</td>\n",
       "    </tr>\n",
       "    <tr>\n",
       "      <th>4546</th>\n",
       "      <td>MAC005520</td>\n",
       "      <td>Std</td>\n",
       "      <td>ACORN-O</td>\n",
       "      <td>Adversity</td>\n",
       "      <td>block_90</td>\n",
       "    </tr>\n",
       "    <tr>\n",
       "      <th>4547</th>\n",
       "      <td>MAC001887</td>\n",
       "      <td>Std</td>\n",
       "      <td>ACORN-O</td>\n",
       "      <td>Adversity</td>\n",
       "      <td>block_90</td>\n",
       "    </tr>\n",
       "    <tr>\n",
       "      <th>4548</th>\n",
       "      <td>MAC000213</td>\n",
       "      <td>Std</td>\n",
       "      <td>ACORN-O</td>\n",
       "      <td>Adversity</td>\n",
       "      <td>block_90</td>\n",
       "    </tr>\n",
       "    <tr>\n",
       "      <th>4549</th>\n",
       "      <td>MAC003516</td>\n",
       "      <td>Std</td>\n",
       "      <td>ACORN-O</td>\n",
       "      <td>Adversity</td>\n",
       "      <td>block_90</td>\n",
       "    </tr>\n",
       "  </tbody>\n",
       "</table>\n",
       "</div>"
      ],
      "text/plain": [
       "          LCLid stdorToU    Acorn Acorn_grouped      file\n",
       "4500  MAC003296      Std  ACORN-O     Adversity  block_90\n",
       "4501  MAC003301      Std  ACORN-O     Adversity  block_90\n",
       "4502  MAC003988      ToU  ACORN-O     Adversity  block_90\n",
       "4503  MAC001639      Std  ACORN-O     Adversity  block_90\n",
       "4504  MAC000786      Std  ACORN-O     Adversity  block_90\n",
       "4505  MAC002770      Std  ACORN-O     Adversity  block_90\n",
       "4506  MAC002734      Std  ACORN-O     Adversity  block_90\n",
       "4507  MAC000474      Std  ACORN-O     Adversity  block_90\n",
       "4508  MAC003373      Std  ACORN-O     Adversity  block_90\n",
       "4509  MAC003929      Std  ACORN-O     Adversity  block_90\n",
       "4510  MAC000757      Std  ACORN-O     Adversity  block_90\n",
       "4511  MAC003376      Std  ACORN-O     Adversity  block_90\n",
       "4512  MAC004479      Std  ACORN-O     Adversity  block_90\n",
       "4513  MAC001762      Std  ACORN-O     Adversity  block_90\n",
       "4514  MAC001775      Std  ACORN-O     Adversity  block_90\n",
       "4515  MAC000491      Std  ACORN-O     Adversity  block_90\n",
       "4516  MAC003433      Std  ACORN-O     Adversity  block_90\n",
       "4517  MAC004021      ToU  ACORN-O     Adversity  block_90\n",
       "4518  MAC003883      Std  ACORN-O     Adversity  block_90\n",
       "4519  MAC004873      Std  ACORN-O     Adversity  block_90\n",
       "4520  MAC002893      Std  ACORN-O     Adversity  block_90\n",
       "4521  MAC005049      Std  ACORN-O     Adversity  block_90\n",
       "4522  MAC001468      Std  ACORN-O     Adversity  block_90\n",
       "4523  MAC003136      Std  ACORN-O     Adversity  block_90\n",
       "4524  MAC003062      Std  ACORN-O     Adversity  block_90\n",
       "4525  MAC004085      Std  ACORN-O     Adversity  block_90\n",
       "4526  MAC005089      Std  ACORN-O     Adversity  block_90\n",
       "4527  MAC001530      Std  ACORN-O     Adversity  block_90\n",
       "4528  MAC002167      ToU  ACORN-O     Adversity  block_90\n",
       "4529  MAC002463      ToU  ACORN-O     Adversity  block_90\n",
       "4530  MAC003207      Std  ACORN-O     Adversity  block_90\n",
       "4531  MAC005140      Std  ACORN-O     Adversity  block_90\n",
       "4532  MAC000427      Std  ACORN-O     Adversity  block_90\n",
       "4533  MAC005153      Std  ACORN-O     Adversity  block_90\n",
       "4534  MAC004017      Std  ACORN-O     Adversity  block_90\n",
       "4535  MAC004011      Std  ACORN-O     Adversity  block_90\n",
       "4536  MAC004076      ToU  ACORN-O     Adversity  block_90\n",
       "4537  MAC000929      Std  ACORN-O     Adversity  block_90\n",
       "4538  MAC002870      Std  ACORN-O     Adversity  block_90\n",
       "4539  MAC002547      Std  ACORN-O     Adversity  block_90\n",
       "4540  MAC004165      Std  ACORN-O     Adversity  block_90\n",
       "4541  MAC000514      Std  ACORN-O     Adversity  block_90\n",
       "4542  MAC003379      ToU  ACORN-O     Adversity  block_90\n",
       "4543  MAC000363      Std  ACORN-O     Adversity  block_90\n",
       "4544  MAC002299      Std  ACORN-O     Adversity  block_90\n",
       "4545  MAC002387      Std  ACORN-O     Adversity  block_90\n",
       "4546  MAC005520      Std  ACORN-O     Adversity  block_90\n",
       "4547  MAC001887      Std  ACORN-O     Adversity  block_90\n",
       "4548  MAC000213      Std  ACORN-O     Adversity  block_90\n",
       "4549  MAC003516      Std  ACORN-O     Adversity  block_90"
      ]
     },
     "execution_count": 36,
     "metadata": {},
     "output_type": "execute_result"
    }
   ],
   "source": [
    "pdf_householdInfo[pdf_householdInfo['file'] =='block_90']"
   ]
  },
  {
   "cell_type": "code",
   "execution_count": null,
   "metadata": {},
   "outputs": [],
   "source": []
  },
  {
   "cell_type": "code",
   "execution_count": 37,
   "metadata": {
    "ExecuteTime": {
     "end_time": "2020-03-23T03:30:50.813768Z",
     "start_time": "2020-03-23T03:30:50.808604Z"
    }
   },
   "outputs": [],
   "source": [
    "import ProjectHelperFunctions as helper"
   ]
  },
  {
   "cell_type": "code",
   "execution_count": 38,
   "metadata": {
    "ExecuteTime": {
     "end_time": "2020-03-23T03:30:50.850951Z",
     "start_time": "2020-03-23T03:30:50.815453Z"
    }
   },
   "outputs": [
    {
     "name": "stdout",
     "output_type": "stream",
     "text": [
      "MAC003296\n",
      "MAC003301\n",
      "MAC003988\n",
      "MAC001639\n",
      "MAC000786\n",
      "MAC002770\n",
      "MAC002734\n",
      "MAC000474\n",
      "MAC003373\n",
      "MAC003929\n",
      "MAC000757\n",
      "MAC003376\n",
      "MAC004479\n",
      "MAC001762\n",
      "MAC001775\n",
      "MAC000491\n",
      "MAC003433\n",
      "MAC004021\n",
      "MAC003883\n",
      "MAC004873\n",
      "MAC002893\n",
      "MAC005049\n",
      "MAC001468\n",
      "MAC003136\n",
      "MAC003062\n",
      "MAC004085\n",
      "MAC005089\n",
      "MAC001530\n",
      "MAC002167\n",
      "MAC002463\n",
      "MAC003207\n",
      "MAC005140\n",
      "MAC000427\n",
      "MAC005153\n",
      "MAC004017\n",
      "MAC004011\n",
      "MAC004076\n",
      "MAC000929\n",
      "MAC002870\n",
      "MAC002547\n",
      "MAC004165\n",
      "MAC000514\n",
      "MAC003379\n",
      "MAC000363\n",
      "MAC002299\n",
      "MAC002387\n",
      "MAC005520\n",
      "MAC001887\n",
      "MAC000213\n",
      "MAC003516\n",
      "MAC005492\n",
      "MAC001074\n",
      "MAC000002\n",
      "MAC003613\n",
      "MAC003597\n",
      "MAC003579\n",
      "MAC003566\n",
      "MAC003557\n",
      "MAC003553\n",
      "MAC003482\n",
      "MAC003463\n",
      "MAC003449\n",
      "MAC003428\n",
      "MAC003423\n",
      "MAC003422\n",
      "MAC003400\n",
      "MAC003394\n",
      "MAC003388\n",
      "MAC003348\n",
      "MAC000246\n",
      "MAC003305\n",
      "MAC003281\n",
      "MAC003252\n",
      "MAC003239\n",
      "MAC003646\n",
      "MAC003656\n",
      "MAC003668\n",
      "MAC003680\n",
      "MAC004431\n",
      "MAC004387\n",
      "MAC004319\n",
      "MAC004247\n",
      "MAC004179\n",
      "MAC004034\n",
      "MAC003874\n",
      "MAC003863\n",
      "MAC003856\n",
      "MAC003851\n",
      "MAC003223\n",
      "MAC003844\n",
      "MAC003826\n",
      "MAC003817\n",
      "MAC003805\n",
      "MAC003775\n",
      "MAC003740\n",
      "MAC003737\n",
      "MAC003719\n",
      "MAC003718\n",
      "MAC003686\n",
      "MAC000450\n",
      "MAC001206\n",
      "MAC001756\n",
      "MAC001833\n",
      "MAC000567\n",
      "MAC001669\n",
      "MAC001772\n",
      "MAC001670\n",
      "MAC005011\n",
      "MAC005171\n",
      "MAC001678\n",
      "MAC005006\n",
      "MAC000404\n",
      "MAC002092\n",
      "MAC001202\n",
      "MAC005515\n",
      "MAC000389\n",
      "MAC001674\n",
      "MAC001676\n",
      "MAC000403\n",
      "MAC001665\n",
      "MAC000625\n",
      "MAC000400\n",
      "MAC000387\n",
      "MAC000564\n",
      "MAC005017\n",
      "MAC001855\n",
      "MAC001750\n",
      "MAC001916\n",
      "MAC000624\n",
      "MAC000422\n",
      "MAC005152\n",
      "MAC001936\n",
      "MAC000424\n",
      "MAC000345\n",
      "MAC001806\n",
      "MAC001108\n",
      "MAC001938\n",
      "MAC001849\n",
      "MAC001662\n",
      "MAC001853\n",
      "MAC001914\n",
      "MAC001182\n",
      "MAC000631\n",
      "MAC002093\n",
      "MAC003957\n",
      "MAC004059\n",
      "MAC001028\n",
      "MAC004777\n",
      "MAC004812\n",
      "MAC005002\n",
      "MAC002168\n",
      "MAC005567\n",
      "MAC002173\n",
      "MAC000031\n",
      "MAC002353\n",
      "MAC002191\n",
      "MAC002174\n",
      "MAC002175\n",
      "MAC002351\n",
      "MAC002352\n",
      "MAC002345\n",
      "MAC002328\n",
      "MAC002185\n",
      "MAC002347\n",
      "MAC000088\n",
      "MAC002331\n",
      "MAC000318\n",
      "MAC003916\n",
      "MAC004010\n",
      "MAC004788\n",
      "MAC004649\n",
      "MAC004672\n",
      "MAC002152\n",
      "MAC005363\n",
      "MAC003407\n",
      "MAC002647\n",
      "MAC002087\n",
      "MAC003328\n",
      "MAC002720\n",
      "MAC004069\n",
      "MAC003977\n",
      "MAC003992\n",
      "MAC001851\n",
      "MAC004142\n",
      "MAC003078\n",
      "MAC004323\n",
      "MAC005036\n",
      "MAC004067\n",
      "MAC003619\n",
      "MAC000099\n",
      "MAC001256\n",
      "MAC001147\n",
      "MAC003163\n",
      "MAC001795\n",
      "MAC004515\n",
      "MAC003780\n",
      "MAC004467\n",
      "MAC003218\n",
      "MAC001600\n",
      "MAC005424\n"
     ]
    }
   ],
   "source": [
    "houseHoldListSample = helper.fillMVPHouseHoldList(pdf_householdInfo)"
   ]
  },
  {
   "cell_type": "code",
   "execution_count": 39,
   "metadata": {
    "ExecuteTime": {
     "end_time": "2020-03-23T03:30:50.855522Z",
     "start_time": "2020-03-23T03:30:50.852914Z"
    }
   },
   "outputs": [
    {
     "name": "stdout",
     "output_type": "stream",
     "text": [
      "200\n"
     ]
    }
   ],
   "source": [
    "print(len(houseHoldListSample))"
   ]
  },
  {
   "cell_type": "code",
   "execution_count": 40,
   "metadata": {
    "ExecuteTime": {
     "end_time": "2020-03-23T03:30:50.861081Z",
     "start_time": "2020-03-23T03:30:50.857256Z"
    }
   },
   "outputs": [
    {
     "data": {
      "text/plain": [
       "<module 'ProjectHelperFunctions' from '/Users/hansremy/Bootcamp/Project5/ProjectHelperFunctions.py'>"
      ]
     },
     "execution_count": 40,
     "metadata": {},
     "output_type": "execute_result"
    }
   ],
   "source": [
    "importlib.reload(helper)"
   ]
  },
  {
   "cell_type": "code",
   "execution_count": 41,
   "metadata": {
    "ExecuteTime": {
     "end_time": "2020-03-23T03:30:51.371542Z",
     "start_time": "2020-03-23T03:30:50.863100Z"
    }
   },
   "outputs": [],
   "source": [
    " householdAffluent ,householdComfortable ,  householdAdversity = helper.fillHouseHoldPerIncome(pdf_householdInfo)\n"
   ]
  },
  {
   "cell_type": "code",
   "execution_count": 42,
   "metadata": {
    "ExecuteTime": {
     "end_time": "2020-03-23T03:30:51.384978Z",
     "start_time": "2020-03-23T03:30:51.373787Z"
    }
   },
   "outputs": [
    {
     "data": {
      "text/plain": [
       "['MAC000002',\n",
       " 'MAC003613',\n",
       " 'MAC003597',\n",
       " 'MAC003579',\n",
       " 'MAC003566',\n",
       " 'MAC003557',\n",
       " 'MAC003553',\n",
       " 'MAC003482',\n",
       " 'MAC003463',\n",
       " 'MAC003449',\n",
       " 'MAC003428',\n",
       " 'MAC003423',\n",
       " 'MAC003422',\n",
       " 'MAC003400',\n",
       " 'MAC003394',\n",
       " 'MAC003388',\n",
       " 'MAC003348',\n",
       " 'MAC000246',\n",
       " 'MAC003305',\n",
       " 'MAC003281',\n",
       " 'MAC003252',\n",
       " 'MAC003239',\n",
       " 'MAC003646',\n",
       " 'MAC003656',\n",
       " 'MAC003668',\n",
       " 'MAC003680',\n",
       " 'MAC004431',\n",
       " 'MAC004387',\n",
       " 'MAC004319',\n",
       " 'MAC004247',\n",
       " 'MAC004179',\n",
       " 'MAC004034',\n",
       " 'MAC003874',\n",
       " 'MAC003863',\n",
       " 'MAC003856',\n",
       " 'MAC003851',\n",
       " 'MAC003223',\n",
       " 'MAC003844',\n",
       " 'MAC003826',\n",
       " 'MAC003817',\n",
       " 'MAC003805',\n",
       " 'MAC003775',\n",
       " 'MAC003740',\n",
       " 'MAC003737',\n",
       " 'MAC003719',\n",
       " 'MAC003718',\n",
       " 'MAC003686',\n",
       " 'MAC000450',\n",
       " 'MAC003840',\n",
       " 'MAC003212',\n",
       " 'MAC003182',\n",
       " 'MAC003166',\n",
       " 'MAC001628',\n",
       " 'MAC001533',\n",
       " 'MAC001528',\n",
       " 'MAC001510',\n",
       " 'MAC001271',\n",
       " 'MAC001251',\n",
       " 'MAC001239',\n",
       " 'MAC001145',\n",
       " 'MAC000974',\n",
       " 'MAC000948',\n",
       " 'MAC001689',\n",
       " 'MAC000902',\n",
       " 'MAC000850',\n",
       " 'MAC000816',\n",
       " 'MAC000778',\n",
       " 'MAC000379',\n",
       " 'MAC000768',\n",
       " 'MAC000713',\n",
       " 'MAC000386',\n",
       " 'MAC000569',\n",
       " 'MAC000557',\n",
       " 'MAC000535',\n",
       " 'MAC000886',\n",
       " 'MAC004529',\n",
       " 'MAC001710',\n",
       " 'MAC001776',\n",
       " 'MAC003110',\n",
       " 'MAC003072',\n",
       " 'MAC002937',\n",
       " 'MAC002924',\n",
       " 'MAC002813',\n",
       " 'MAC002628',\n",
       " 'MAC002613',\n",
       " 'MAC002601',\n",
       " 'MAC002563',\n",
       " 'MAC002562',\n",
       " 'MAC001734',\n",
       " 'MAC002314',\n",
       " 'MAC002249',\n",
       " 'MAC002150',\n",
       " 'MAC002068',\n",
       " 'MAC000323',\n",
       " 'MAC002025',\n",
       " 'MAC001989',\n",
       " 'MAC001893',\n",
       " 'MAC001843',\n",
       " 'MAC001836',\n",
       " 'MAC001819',\n",
       " 'MAC002260',\n",
       " 'MAC004554',\n",
       " 'MAC003683',\n",
       " 'MAC003257',\n",
       " 'MAC000464',\n",
       " 'MAC000339',\n",
       " 'MAC004872',\n",
       " 'MAC005523',\n",
       " 'MAC004054',\n",
       " 'MAC000103',\n",
       " 'MAC000487',\n",
       " 'MAC004258',\n",
       " 'MAC003606',\n",
       " 'MAC005468',\n",
       " 'MAC000110',\n",
       " 'MAC005421',\n",
       " 'MAC000112',\n",
       " 'MAC005406',\n",
       " 'MAC004374',\n",
       " 'MAC005283',\n",
       " 'MAC000593',\n",
       " 'MAC000609',\n",
       " 'MAC003634',\n",
       " 'MAC000040',\n",
       " 'MAC002199',\n",
       " 'MAC002134',\n",
       " 'MAC002113',\n",
       " 'MAC001736',\n",
       " 'MAC003286',\n",
       " 'MAC001653',\n",
       " 'MAC003474',\n",
       " 'MAC002552',\n",
       " 'MAC003807',\n",
       " 'MAC003895',\n",
       " 'MAC000797',\n",
       " 'MAC000030',\n",
       " 'MAC003536',\n",
       " 'MAC004436',\n",
       " 'MAC002959',\n",
       " 'MAC004988',\n",
       " 'MAC005042',\n",
       " 'MAC004789',\n",
       " 'MAC003196',\n",
       " 'MAC004900',\n",
       " 'MAC005062',\n",
       " 'MAC004997',\n",
       " 'MAC004713',\n",
       " 'MAC005160',\n",
       " 'MAC004633',\n",
       " 'MAC004593',\n",
       " 'MAC004955',\n",
       " 'MAC005172',\n",
       " 'MAC005159',\n",
       " 'MAC004543',\n",
       " 'MAC003211',\n",
       " 'MAC003221',\n",
       " 'MAC004832',\n",
       " 'MAC004417',\n",
       " 'MAC004957',\n",
       " 'MAC003173',\n",
       " 'MAC003903',\n",
       " 'MAC001966',\n",
       " 'MAC002327',\n",
       " 'MAC000606',\n",
       " 'MAC004567',\n",
       " 'MAC003445',\n",
       " 'MAC003441',\n",
       " 'MAC001835',\n",
       " 'MAC003403',\n",
       " 'MAC001410',\n",
       " 'MAC003607',\n",
       " 'MAC003876',\n",
       " 'MAC001448',\n",
       " 'MAC003900',\n",
       " 'MAC004408',\n",
       " 'MAC003225',\n",
       " 'MAC003908',\n",
       " 'MAC003822',\n",
       " 'MAC000897',\n",
       " 'MAC003355',\n",
       " 'MAC004287',\n",
       " 'MAC002528',\n",
       " 'MAC003427',\n",
       " 'MAC002862',\n",
       " 'MAC002481',\n",
       " 'MAC003580',\n",
       " 'MAC002859',\n",
       " 'MAC003358',\n",
       " 'MAC002606',\n",
       " 'MAC002599',\n",
       " 'MAC002214',\n",
       " 'MAC002474',\n",
       " 'MAC003559',\n",
       " 'MAC003365',\n",
       " 'MAC002595',\n",
       " 'MAC003387',\n",
       " 'MAC002582',\n",
       " 'MAC002575',\n",
       " 'MAC002296',\n",
       " 'MAC002829',\n",
       " 'MAC003366',\n",
       " 'MAC003434',\n",
       " 'MAC002503',\n",
       " 'MAC004848',\n",
       " 'MAC002015',\n",
       " 'MAC001371',\n",
       " 'MAC001313',\n",
       " 'MAC004509',\n",
       " 'MAC001140',\n",
       " 'MAC004825',\n",
       " 'MAC000798',\n",
       " 'MAC001395',\n",
       " 'MAC004910',\n",
       " 'MAC000689',\n",
       " 'MAC000630',\n",
       " 'MAC005489',\n",
       " 'MAC000545',\n",
       " 'MAC005550',\n",
       " 'MAC000517',\n",
       " 'MAC000744',\n",
       " 'MAC002070',\n",
       " 'MAC001401',\n",
       " 'MAC001488',\n",
       " 'MAC003736',\n",
       " 'MAC001988',\n",
       " 'MAC001958',\n",
       " 'MAC003745',\n",
       " 'MAC003762',\n",
       " 'MAC003766',\n",
       " 'MAC001465',\n",
       " 'MAC003782',\n",
       " 'MAC001664',\n",
       " 'MAC001652',\n",
       " 'MAC003914',\n",
       " 'MAC001579',\n",
       " 'MAC001553',\n",
       " 'MAC001544',\n",
       " 'MAC001695',\n",
       " 'MAC001661',\n",
       " 'MAC002604',\n",
       " 'MAC003033',\n",
       " 'MAC003901',\n",
       " 'MAC003889',\n",
       " 'MAC005066',\n",
       " 'MAC005112',\n",
       " 'MAC005320',\n",
       " 'MAC003843',\n",
       " 'MAC003804',\n",
       " 'MAC003787',\n",
       " 'MAC003907',\n",
       " 'MAC003776',\n",
       " 'MAC003755',\n",
       " 'MAC003748',\n",
       " 'MAC005506',\n",
       " 'MAC003731',\n",
       " 'MAC005509',\n",
       " 'MAC000005',\n",
       " 'MAC000017',\n",
       " 'MAC003642',\n",
       " 'MAC005490',\n",
       " 'MAC003912',\n",
       " 'MAC003933',\n",
       " 'MAC004029',\n",
       " 'MAC004750',\n",
       " 'MAC004712',\n",
       " 'MAC004673',\n",
       " 'MAC004664',\n",
       " 'MAC004585',\n",
       " 'MAC004925',\n",
       " 'MAC004504',\n",
       " 'MAC004455',\n",
       " 'MAC004447',\n",
       " 'MAC004415',\n",
       " 'MAC004406',\n",
       " 'MAC004989',\n",
       " 'MAC004369',\n",
       " 'MAC004367',\n",
       " 'MAC004336',\n",
       " 'MAC004249',\n",
       " 'MAC005028',\n",
       " 'MAC004108',\n",
       " 'MAC004040',\n",
       " 'MAC003639',\n",
       " 'MAC000598',\n",
       " 'MAC003592',\n",
       " 'MAC003584',\n",
       " 'MAC003313',\n",
       " 'MAC003299',\n",
       " 'MAC003288',\n",
       " 'MAC003287',\n",
       " 'MAC003283',\n",
       " 'MAC003278',\n",
       " 'MAC003275',\n",
       " 'MAC003260',\n",
       " 'MAC002797',\n",
       " 'MAC003235',\n",
       " 'MAC003231',\n",
       " 'MAC003061',\n",
       " 'MAC003220',\n",
       " 'MAC003157',\n",
       " 'MAC003204',\n",
       " 'MAC003184',\n",
       " 'MAC003201',\n",
       " 'MAC003137',\n",
       " 'MAC003065',\n",
       " 'MAC003319',\n",
       " 'MAC003001',\n",
       " 'MAC003335',\n",
       " 'MAC003339',\n",
       " 'MAC001064',\n",
       " 'MAC003558',\n",
       " 'MAC001219',\n",
       " 'MAC003556',\n",
       " 'MAC003548',\n",
       " 'MAC003511',\n",
       " 'MAC003499',\n",
       " 'MAC003487',\n",
       " 'MAC003486',\n",
       " 'MAC001471',\n",
       " 'MAC003442',\n",
       " 'MAC001767',\n",
       " 'MAC003392',\n",
       " 'MAC002201',\n",
       " 'MAC003368',\n",
       " 'MAC003357',\n",
       " 'MAC003349',\n",
       " 'MAC002433',\n",
       " 'MAC002455',\n",
       " 'MAC003336',\n",
       " 'MAC000431',\n",
       " 'MAC005565',\n",
       " 'MAC000096',\n",
       " 'MAC000140',\n",
       " 'MAC004539',\n",
       " 'MAC000336',\n",
       " 'MAC000342',\n",
       " 'MAC001698',\n",
       " 'MAC000727',\n",
       " 'MAC002267',\n",
       " 'MAC003013',\n",
       " 'MAC002482',\n",
       " 'MAC001682',\n",
       " 'MAC000715',\n",
       " 'MAC004527',\n",
       " 'MAC002627',\n",
       " 'MAC000456',\n",
       " 'MAC001717',\n",
       " 'MAC004783',\n",
       " 'MAC004814',\n",
       " 'MAC002233',\n",
       " 'MAC000084',\n",
       " 'MAC000317',\n",
       " 'MAC001691',\n",
       " 'MAC004714',\n",
       " 'MAC001656',\n",
       " 'MAC004637',\n",
       " 'MAC000776',\n",
       " 'MAC004628',\n",
       " 'MAC003063',\n",
       " 'MAC005370',\n",
       " 'MAC003502',\n",
       " 'MAC001425',\n",
       " 'MAC000737',\n",
       " 'MAC001826',\n",
       " 'MAC000193',\n",
       " 'MAC000194',\n",
       " 'MAC001098',\n",
       " 'MAC000050',\n",
       " 'MAC003022',\n",
       " 'MAC000073',\n",
       " 'MAC003018',\n",
       " 'MAC000741',\n",
       " 'MAC001825',\n",
       " 'MAC002497',\n",
       " 'MAC002218',\n",
       " 'MAC000692',\n",
       " 'MAC002170',\n",
       " 'MAC001612',\n",
       " 'MAC004389',\n",
       " 'MAC001766',\n",
       " 'MAC004990',\n",
       " 'MAC004386',\n",
       " 'MAC004385',\n",
       " 'MAC001768',\n",
       " 'MAC000632',\n",
       " 'MAC001370',\n",
       " 'MAC000289',\n",
       " 'MAC000063',\n",
       " 'MAC003709',\n",
       " 'MAC002157',\n",
       " 'MAC002155',\n",
       " 'MAC004364',\n",
       " 'MAC000619',\n",
       " 'MAC001614',\n",
       " 'MAC002335',\n",
       " 'MAC000647',\n",
       " 'MAC004409',\n",
       " 'MAC001135',\n",
       " 'MAC004475',\n",
       " 'MAC005351',\n",
       " 'MAC002505',\n",
       " 'MAC001735',\n",
       " 'MAC002978',\n",
       " 'MAC002649',\n",
       " 'MAC000085',\n",
       " 'MAC004434',\n",
       " 'MAC002965',\n",
       " 'MAC001642',\n",
       " 'MAC004948',\n",
       " 'MAC004949',\n",
       " 'MAC002190',\n",
       " 'MAC004968',\n",
       " 'MAC001157',\n",
       " 'MAC005154',\n",
       " 'MAC002946',\n",
       " 'MAC000139',\n",
       " 'MAC004647',\n",
       " 'MAC004611',\n",
       " 'MAC001552',\n",
       " 'MAC002458',\n",
       " 'MAC004888',\n",
       " 'MAC004887',\n",
       " 'MAC001561',\n",
       " 'MAC003146',\n",
       " 'MAC002428',\n",
       " 'MAC005453',\n",
       " 'MAC002230',\n",
       " 'MAC004218',\n",
       " 'MAC005003',\n",
       " 'MAC001580',\n",
       " 'MAC002243',\n",
       " 'MAC002083',\n",
       " 'MAC004843',\n",
       " 'MAC001584',\n",
       " 'MAC000888',\n",
       " 'MAC001502',\n",
       " 'MAC004091',\n",
       " 'MAC000079',\n",
       " 'MAC001000',\n",
       " 'MAC004953',\n",
       " 'MAC000311',\n",
       " 'MAC004945',\n",
       " 'MAC001518',\n",
       " 'MAC000983',\n",
       " 'MAC002166',\n",
       " 'MAC004928',\n",
       " 'MAC004927',\n",
       " 'MAC004263',\n",
       " 'MAC000957',\n",
       " 'MAC004976',\n",
       " 'MAC001539',\n",
       " 'MAC003229',\n",
       " 'MAC004916',\n",
       " 'MAC004915',\n",
       " 'MAC004911',\n",
       " 'MAC004987',\n",
       " 'MAC002148',\n",
       " 'MAC004924',\n",
       " 'MAC000883',\n",
       " 'MAC000105',\n",
       " 'MAC002247',\n",
       " 'MAC004718',\n",
       " 'MAC003093',\n",
       " 'MAC004704',\n",
       " 'MAC005380',\n",
       " 'MAC002358',\n",
       " 'MAC000815',\n",
       " 'MAC004686',\n",
       " 'MAC001873',\n",
       " 'MAC001928',\n",
       " 'MAC000808',\n",
       " 'MAC000052',\n",
       " 'MAC004677',\n",
       " 'MAC001638',\n",
       " 'MAC004666',\n",
       " 'MAC000377',\n",
       " 'MAC001070',\n",
       " 'MAC000109',\n",
       " 'MAC004653',\n",
       " 'MAC004590',\n",
       " 'MAC004360',\n",
       " 'MAC004448',\n",
       " 'MAC004439',\n",
       " 'MAC005015',\n",
       " 'MAC005504',\n",
       " 'MAC000871',\n",
       " 'MAC004318',\n",
       " 'MAC002555',\n",
       " 'MAC000866',\n",
       " 'MAC005517',\n",
       " 'MAC000863',\n",
       " 'MAC003100',\n",
       " 'MAC003364',\n",
       " 'MAC002380',\n",
       " 'MAC004760',\n",
       " 'MAC000026',\n",
       " 'MAC002005',\n",
       " 'MAC001613',\n",
       " 'MAC002375',\n",
       " 'MAC004399',\n",
       " 'MAC004740',\n",
       " 'MAC003708',\n",
       " 'MAC002153',\n",
       " 'MAC004959',\n",
       " 'MAC002928',\n",
       " 'MAC001352',\n",
       " 'MAC002929',\n",
       " 'MAC001869',\n",
       " 'MAC002050',\n",
       " 'MAC004178',\n",
       " 'MAC002725',\n",
       " 'MAC005324',\n",
       " 'MAC001867',\n",
       " 'MAC005224',\n",
       " 'MAC002036',\n",
       " 'MAC005349',\n",
       " 'MAC002931',\n",
       " 'MAC005354',\n",
       " 'MAC001235',\n",
       " 'MAC002024',\n",
       " 'MAC005280',\n",
       " 'MAC000931',\n",
       " 'MAC000884',\n",
       " 'MAC002851',\n",
       " 'MAC001221',\n",
       " 'MAC005255',\n",
       " 'MAC005211',\n",
       " 'MAC001437',\n",
       " 'MAC000393',\n",
       " 'MAC001420',\n",
       " 'MAC000531',\n",
       " 'MAC004225',\n",
       " 'MAC000830',\n",
       " 'MAC000322',\n",
       " 'MAC000522',\n",
       " 'MAC001402',\n",
       " 'MAC004205',\n",
       " 'MAC004198',\n",
       " 'MAC002063',\n",
       " 'MAC005219',\n",
       " 'MAC004193',\n",
       " 'MAC000857',\n",
       " 'MAC002014',\n",
       " 'MAC002010',\n",
       " 'MAC000985',\n",
       " 'MAC000462',\n",
       " 'MAC002765',\n",
       " 'MAC004016',\n",
       " 'MAC005244',\n",
       " 'MAC001166',\n",
       " 'MAC005249',\n",
       " 'MAC004026',\n",
       " 'MAC001964',\n",
       " 'MAC005252',\n",
       " 'MAC005273',\n",
       " 'MAC001116',\n",
       " 'MAC005254',\n",
       " 'MAC001956',\n",
       " 'MAC004051',\n",
       " 'MAC002779',\n",
       " 'MAC004075',\n",
       " 'MAC005261',\n",
       " 'MAC004070',\n",
       " 'MAC001980',\n",
       " 'MAC004242',\n",
       " 'MAC002805',\n",
       " 'MAC004006',\n",
       " 'MAC001897',\n",
       " 'MAC003958',\n",
       " 'MAC001232',\n",
       " 'MAC000455',\n",
       " 'MAC002820',\n",
       " 'MAC005275',\n",
       " 'MAC002751',\n",
       " 'MAC001999',\n",
       " 'MAC002812',\n",
       " 'MAC003987',\n",
       " 'MAC002741',\n",
       " 'MAC001255',\n",
       " 'MAC002891',\n",
       " 'MAC000442',\n",
       " 'MAC000326',\n",
       " 'MAC001258',\n",
       " 'MAC004111',\n",
       " 'MAC004007',\n",
       " 'MAC000155',\n",
       " 'MAC000503',\n",
       " 'MAC000814',\n",
       " 'MAC005318',\n",
       " 'MAC002885',\n",
       " 'MAC004276',\n",
       " 'MAC002109',\n",
       " 'MAC001803',\n",
       " 'MAC005316',\n",
       " 'MAC001359',\n",
       " 'MAC005134',\n",
       " 'MAC002138',\n",
       " 'MAC005184',\n",
       " 'MAC005106',\n",
       " 'MAC004340',\n",
       " 'MAC002137',\n",
       " 'MAC001800',\n",
       " 'MAC005179',\n",
       " 'MAC005182',\n",
       " 'MAC004280',\n",
       " 'MAC002884',\n",
       " 'MAC004292',\n",
       " 'MAC004348',\n",
       " 'MAC001495',\n",
       " 'MAC002622',\n",
       " 'MAC005181',\n",
       " 'MAC002645',\n",
       " 'MAC005206',\n",
       " 'MAC001821',\n",
       " 'MAC005195',\n",
       " 'MAC000803',\n",
       " 'MAC004311',\n",
       " 'MAC005070',\n",
       " 'MAC000572',\n",
       " 'MAC000551',\n",
       " 'MAC005205',\n",
       " 'MAC000291',\n",
       " 'MAC002670',\n",
       " 'MAC002144',\n",
       " 'MAC001787',\n",
       " 'MAC002543',\n",
       " 'MAC002556',\n",
       " 'MAC002660',\n",
       " 'MAC005399',\n",
       " 'MAC002545',\n",
       " 'MAC005329',\n",
       " 'MAC002681',\n",
       " 'MAC002752',\n",
       " 'MAC005323',\n",
       " 'MAC002542',\n",
       " 'MAC002656',\n",
       " 'MAC002546',\n",
       " 'MAC005276',\n",
       " 'MAC005314',\n",
       " 'MAC002683',\n",
       " 'MAC005326',\n",
       " 'MAC005394',\n",
       " 'MAC005327',\n",
       " 'MAC005393',\n",
       " 'MAC005315',\n",
       " 'MAC002548',\n",
       " 'MAC002549',\n",
       " 'MAC002550',\n",
       " 'MAC002750',\n",
       " 'MAC005313',\n",
       " 'MAC005392',\n",
       " 'MAC000113',\n",
       " 'MAC002754',\n",
       " 'MAC002517',\n",
       " 'MAC005322',\n",
       " 'MAC005412',\n",
       " 'MAC005270',\n",
       " 'MAC005415',\n",
       " 'MAC002764',\n",
       " 'MAC002514',\n",
       " 'MAC002663',\n",
       " 'MAC002513',\n",
       " 'MAC002512',\n",
       " 'MAC005269',\n",
       " 'MAC005416',\n",
       " 'MAC002510',\n",
       " 'MAC002666',\n",
       " 'MAC002767',\n",
       " 'MAC002509',\n",
       " 'MAC005319',\n",
       " 'MAC002518',\n",
       " 'MAC002519',\n",
       " 'MAC002761',\n",
       " 'MAC005403',\n",
       " 'MAC002539',\n",
       " 'MAC005404',\n",
       " 'MAC005405',\n",
       " 'MAC002530',\n",
       " 'MAC002676',\n",
       " 'MAC005331',\n",
       " 'MAC005407',\n",
       " 'MAC005408',\n",
       " 'MAC002525',\n",
       " 'MAC002756',\n",
       " 'MAC005317',\n",
       " 'MAC005411',\n",
       " 'MAC002662',\n",
       " 'MAC002757',\n",
       " 'MAC005274',\n",
       " 'MAC002522',\n",
       " 'MAC005400',\n",
       " 'MAC002557',\n",
       " 'MAC000309',\n",
       " 'MAC002558',\n",
       " 'MAC002702',\n",
       " 'MAC005367',\n",
       " 'MAC000301',\n",
       " 'MAC002605',\n",
       " 'MAC002603',\n",
       " 'MAC000302',\n",
       " 'MAC005358',\n",
       " 'MAC005295',\n",
       " 'MAC005296',\n",
       " 'MAC002635',\n",
       " 'MAC002598',\n",
       " 'MAC002636',\n",
       " 'MAC002597',\n",
       " 'MAC005356',\n",
       " 'MAC005373',\n",
       " 'MAC005355',\n",
       " 'MAC005294',\n",
       " 'MAC005309',\n",
       " 'MAC000304',\n",
       " 'MAC002608',\n",
       " 'MAC002719',\n",
       " 'MAC005360',\n",
       " 'MAC002623',\n",
       " 'MAC002621',\n",
       " 'MAC005362',\n",
       " 'MAC002620',\n",
       " 'MAC005304',\n",
       " 'MAC002626',\n",
       " 'MAC005302',\n",
       " 'MAC002617',\n",
       " 'MAC005301',\n",
       " 'MAC005307',\n",
       " 'MAC005300',\n",
       " 'MAC000299',\n",
       " 'MAC002616',\n",
       " 'MAC005299',\n",
       " 'MAC005297',\n",
       " 'MAC002615',\n",
       " 'MAC000300',\n",
       " 'MAC005365',\n",
       " 'MAC002611',\n",
       " 'MAC005375',\n",
       " 'MAC005277',\n",
       " 'MAC002590',\n",
       " 'MAC005353',\n",
       " 'MAC002648',\n",
       " 'MAC002735',\n",
       " 'MAC005383',\n",
       " 'MAC005286',\n",
       " 'MAC002567',\n",
       " 'MAC005387',\n",
       " 'MAC002564',\n",
       " 'MAC002737',\n",
       " 'MAC002570',\n",
       " 'MAC000308',\n",
       " 'MAC002740',\n",
       " 'MAC005282',\n",
       " 'MAC005333',\n",
       " 'MAC002693',\n",
       " 'MAC005390',\n",
       " 'MAC002691',\n",
       " 'MAC005391',\n",
       " 'MAC002744',\n",
       " 'MAC005285',\n",
       " 'MAC002571',\n",
       " 'MAC005293',\n",
       " 'MAC005334',\n",
       " 'MAC002587',\n",
       " 'MAC002584',\n",
       " 'MAC002583',\n",
       " 'MAC002641',\n",
       " 'MAC002724',\n",
       " 'MAC000306',\n",
       " 'MAC005346',\n",
       " 'MAC002727',\n",
       " 'MAC002697',\n",
       " 'MAC005311',\n",
       " 'MAC002644',\n",
       " 'MAC002581',\n",
       " 'MAC005378',\n",
       " 'MAC002729',\n",
       " 'MAC002730',\n",
       " 'MAC005343',\n",
       " 'MAC000307',\n",
       " 'MAC002573',\n",
       " 'MAC005382',\n",
       " 'MAC002588',\n",
       " 'MAC002244',\n",
       " 'MAC002372',\n",
       " 'MAC002504',\n",
       " 'MAC002142',\n",
       " 'MAC002141',\n",
       " 'MAC000681',\n",
       " 'MAC002135',\n",
       " 'MAC002133',\n",
       " 'MAC002130',\n",
       " 'MAC000709',\n",
       " 'MAC002125',\n",
       " 'MAC000716',\n",
       " 'MAC000719',\n",
       " 'MAC002121',\n",
       " 'MAC002120',\n",
       " 'MAC002143',\n",
       " 'MAC000722',\n",
       " 'MAC002112',\n",
       " 'MAC000738',\n",
       " 'MAC000755',\n",
       " 'MAC000766',\n",
       " 'MAC002100',\n",
       " 'MAC000772',\n",
       " 'MAC002096',\n",
       " 'MAC000775',\n",
       " 'MAC000785',\n",
       " 'MAC002091',\n",
       " 'MAC000791',\n",
       " 'MAC002082',\n",
       " 'MAC002114',\n",
       " 'MAC000817',\n",
       " 'MAC002145',\n",
       " 'MAC000320',\n",
       " 'MAC002204',\n",
       " 'MAC002203',\n",
       " 'MAC002202',\n",
       " 'MAC002200',\n",
       " 'MAC000521',\n",
       " 'MAC000523',\n",
       " 'MAC000525',\n",
       " 'MAC000544',\n",
       " 'MAC000561',\n",
       " 'MAC000095',\n",
       " 'MAC002187',\n",
       " 'MAC002184',\n",
       " 'MAC000673',\n",
       " 'MAC002180',\n",
       " 'MAC000628',\n",
       " 'MAC002172',\n",
       " 'MAC002171',\n",
       " 'MAC000633',\n",
       " 'MAC002165',\n",
       " 'MAC002162',\n",
       " 'MAC000640',\n",
       " 'MAC002160',\n",
       " 'MAC000665',\n",
       " 'MAC002158',\n",
       " 'MAC000666',\n",
       " 'MAC000672',\n",
       " 'MAC002179',\n",
       " 'MAC000819',\n",
       " 'MAC002078',\n",
       " 'MAC000822',\n",
       " 'MAC000994',\n",
       " 'MAC001004',\n",
       " 'MAC001013',\n",
       " 'MAC001995',\n",
       " 'MAC001014',\n",
       " 'MAC001015',\n",
       " 'MAC001990',\n",
       " 'MAC000327',\n",
       " 'MAC001987',\n",
       " 'MAC001024',\n",
       " 'MAC001979',\n",
       " 'MAC001978',\n",
       " 'MAC002002',\n",
       " 'MAC001030',\n",
       " 'MAC001970',\n",
       " 'MAC001075',\n",
       " 'MAC001087',\n",
       " 'MAC001963',\n",
       " 'MAC001962',\n",
       " 'MAC001960',\n",
       " 'MAC000330',\n",
       " 'MAC001957',\n",
       " 'MAC001096',\n",
       " 'MAC001954',\n",
       " 'MAC001097',\n",
       " 'MAC001950',\n",
       " 'MAC001972',\n",
       " 'MAC000993',\n",
       " 'MAC000991',\n",
       " 'MAC002007',\n",
       " 'MAC000828',\n",
       " 'MAC002072',\n",
       " 'MAC000321',\n",
       " 'MAC002066',\n",
       " 'MAC002064',\n",
       " 'MAC000851',\n",
       " 'MAC002058',\n",
       " 'MAC000868',\n",
       " 'MAC000877',\n",
       " 'MAC000878',\n",
       " 'MAC000895',\n",
       " 'MAC002047',\n",
       " 'MAC000910',\n",
       " 'MAC002042',\n",
       " 'MAC000935',\n",
       " 'MAC000939',\n",
       " 'MAC000942',\n",
       " 'MAC000945',\n",
       " 'MAC002027',\n",
       " 'MAC002026',\n",
       " 'MAC000324',\n",
       " 'MAC000982',\n",
       " 'MAC002019',\n",
       " 'MAC002018',\n",
       " 'MAC002016',\n",
       " 'MAC000325',\n",
       " 'MAC002008',\n",
       " 'MAC000500',\n",
       " 'MAC002207',\n",
       " 'MAC000497',\n",
       " 'MAC002210',\n",
       " 'MAC005455',\n",
       " 'MAC005457',\n",
       " 'MAC005459',\n",
       " 'MAC005462',\n",
       " 'MAC005469',\n",
       " 'MAC005479',\n",
       " 'MAC002407',\n",
       " 'MAC005491',\n",
       " 'MAC005496',\n",
       " 'MAC002399',\n",
       " 'MAC005497',\n",
       " 'MAC002394',\n",
       " 'MAC005454',\n",
       " 'MAC005502',\n",
       " 'MAC005505',\n",
       " 'MAC005521',\n",
       " 'MAC005526',\n",
       " 'MAC005531',\n",
       " 'MAC005532',\n",
       " 'MAC002381',\n",
       " 'MAC005539',\n",
       " 'MAC002378',\n",
       " 'MAC002374',\n",
       " 'MAC005268',\n",
       " 'MAC005552',\n",
       " 'MAC002370',\n",
       " 'MAC002390',\n",
       " 'MAC005447',\n",
       " 'MAC005446',\n",
       " 'MAC002434',\n",
       " 'MAC005417',\n",
       " 'MAC002499',\n",
       " 'MAC002498',\n",
       " 'MAC002495',\n",
       " 'MAC002494',\n",
       " 'MAC005418',\n",
       " 'MAC002492',\n",
       " 'MAC005419',\n",
       " 'MAC005420',\n",
       " 'MAC000312',\n",
       " 'MAC002479',\n",
       " 'MAC002478',\n",
       " 'MAC002477',\n",
       " 'MAC005423',\n",
       " 'MAC002471',\n",
       " 'MAC002469',\n",
       " 'MAC005426',\n",
       " 'MAC005428',\n",
       " 'MAC005433',\n",
       " 'MAC002454',\n",
       " 'MAC005437',\n",
       " 'MAC002447',\n",
       " 'MAC002442',\n",
       " 'MAC002441',\n",
       " 'MAC005440',\n",
       " 'MAC005442',\n",
       " 'MAC002436',\n",
       " 'MAC005553',\n",
       " 'MAC002506',\n",
       " 'MAC005554',\n",
       " 'MAC005558',\n",
       " 'MAC000219',\n",
       " 'MAC002302',\n",
       " 'MAC000257',\n",
       " 'MAC002297',\n",
       " 'MAC002289',\n",
       " 'MAC000288',\n",
       " 'MAC000298',\n",
       " 'MAC002285',\n",
       " 'MAC002282',\n",
       " 'MAC000344',\n",
       " 'MAC002271',\n",
       " 'MAC000384',\n",
       " 'MAC002306',\n",
       " 'MAC000418',\n",
       " 'MAC000421',\n",
       " 'MAC002257',\n",
       " 'MAC002255',\n",
       " 'MAC002250',\n",
       " 'MAC002241',\n",
       " 'MAC002228',\n",
       " 'MAC002224',\n",
       " 'MAC000475',\n",
       " 'MAC002221',\n",
       " 'MAC000478',\n",
       " 'MAC002213',\n",
       " 'MAC002211',\n",
       " 'MAC002259',\n",
       " 'MAC002307',\n",
       " 'MAC002310',\n",
       " 'MAC000186',\n",
       " 'MAC005566',\n",
       " 'MAC000015',\n",
       " 'MAC002361',\n",
       " 'MAC002360',\n",
       " ...]"
      ]
     },
     "execution_count": 42,
     "metadata": {},
     "output_type": "execute_result"
    }
   ],
   "source": [
    "householdAffluent"
   ]
  },
  {
   "cell_type": "code",
   "execution_count": 43,
   "metadata": {
    "ExecuteTime": {
     "end_time": "2020-03-23T03:30:51.390485Z",
     "start_time": "2020-03-23T03:30:51.386930Z"
    }
   },
   "outputs": [
    {
     "name": "stdout",
     "output_type": "stream",
     "text": [
      "root\n",
      " |-- LCLid: string (nullable = true)\n",
      " |-- tstp: string (nullable = true)\n",
      " |-- energy(kWh/hh): string (nullable = true)\n",
      "\n"
     ]
    }
   ],
   "source": [
    "df_hhDataSet.printSchema()"
   ]
  },
  {
   "cell_type": "code",
   "execution_count": 44,
   "metadata": {
    "ExecuteTime": {
     "end_time": "2020-03-23T03:30:51.592483Z",
     "start_time": "2020-03-23T03:30:51.392829Z"
    }
   },
   "outputs": [],
   "source": [
    "df_hhDataSet.createOrReplaceTempView(\"halfhourlyData\")"
   ]
  },
  {
   "cell_type": "code",
   "execution_count": 45,
   "metadata": {
    "ExecuteTime": {
     "end_time": "2020-03-23T03:31:32.091844Z",
     "start_time": "2020-03-23T03:30:51.594413Z"
    }
   },
   "outputs": [],
   "source": [
    "df_p = df_hhDataSet.where(df_hhDataSet.LCLid == 'MAC003301').toPandas()\n",
    "\n",
    "#df_1 = spark.sql('SELECT * FROM halfhourlyData WHERE LCLID=\"MAC003301\" ').execute()"
   ]
  },
  {
   "cell_type": "code",
   "execution_count": 46,
   "metadata": {
    "ExecuteTime": {
     "end_time": "2020-03-23T03:31:32.099837Z",
     "start_time": "2020-03-23T03:31:32.093865Z"
    }
   },
   "outputs": [
    {
     "name": "stdout",
     "output_type": "stream",
     "text": [
      "           LCLid                         tstp energy(kWh/hh)\n",
      "0      MAC003301  2012-09-24 09:30:00.0000000         0.106 \n",
      "1      MAC003301  2012-09-24 10:00:00.0000000         0.089 \n",
      "2      MAC003301  2012-09-24 10:30:00.0000000         0.176 \n",
      "3      MAC003301  2012-09-24 11:00:00.0000000         0.191 \n",
      "4      MAC003301  2012-09-24 11:30:00.0000000         0.103 \n",
      "...          ...                          ...            ...\n",
      "25032  MAC003301  2014-02-27 22:00:00.0000000          0.84 \n",
      "25033  MAC003301  2014-02-27 22:30:00.0000000         0.335 \n",
      "25034  MAC003301  2014-02-27 23:00:00.0000000         0.304 \n",
      "25035  MAC003301  2014-02-27 23:30:00.0000000         0.358 \n",
      "25036  MAC003301  2014-02-28 00:00:00.0000000         0.256 \n",
      "\n",
      "[25037 rows x 3 columns]\n"
     ]
    }
   ],
   "source": [
    "print(df_p)"
   ]
  },
  {
   "cell_type": "code",
   "execution_count": 47,
   "metadata": {
    "ExecuteTime": {
     "end_time": "2020-03-23T03:31:32.105517Z",
     "start_time": "2020-03-23T03:31:32.101713Z"
    }
   },
   "outputs": [
    {
     "data": {
      "text/plain": [
       "2192"
      ]
     },
     "execution_count": 47,
     "metadata": {},
     "output_type": "execute_result"
    }
   ],
   "source": [
    "len(householdAffluent)"
   ]
  },
  {
   "cell_type": "code",
   "execution_count": 48,
   "metadata": {
    "ExecuteTime": {
     "end_time": "2020-03-23T03:31:32.118020Z",
     "start_time": "2020-03-23T03:31:32.107560Z"
    }
   },
   "outputs": [],
   "source": [
    "from pyspark.sql.functions import col\n",
    "from functools import reduce\n"
   ]
  },
  {
   "cell_type": "code",
   "execution_count": 49,
   "metadata": {
    "ExecuteTime": {
     "end_time": "2020-03-23T03:31:32.121878Z",
     "start_time": "2020-03-23T03:31:32.119782Z"
    }
   },
   "outputs": [],
   "source": [
    "#df_householdAffluent=df_householdAffluent.withColumnRenamed('energyhh)', 'energy')"
   ]
  },
  {
   "cell_type": "code",
   "execution_count": 50,
   "metadata": {
    "ExecuteTime": {
     "end_time": "2020-03-23T03:31:32.127463Z",
     "start_time": "2020-03-23T03:31:32.123586Z"
    }
   },
   "outputs": [],
   "source": [
    "def renameColumns(df):\n",
    "    newColumns = [\"LCLid\", \"tstp\",\"energy\"]\n",
    "    oldColumns = df.schema.names\n",
    "    print(oldColumns)\n",
    "    df = reduce(lambda data, idx: df.withColumnRenamed(oldColumns[idx], newColumns[idx]), range(len(oldColumns)), df)\n",
    "    df.printSchema()\n",
    "    df.show()\n",
    "    return df"
   ]
  },
  {
   "cell_type": "code",
   "execution_count": 51,
   "metadata": {
    "ExecuteTime": {
     "end_time": "2020-03-23T03:31:32.234092Z",
     "start_time": "2020-03-23T03:31:32.129387Z"
    }
   },
   "outputs": [
    {
     "name": "stdout",
     "output_type": "stream",
     "text": [
      "['LCLid', 'tstp', 'energy(kWh/hh)']\n",
      "root\n",
      " |-- LCLid: string (nullable = true)\n",
      " |-- tstp: string (nullable = true)\n",
      " |-- energy: string (nullable = true)\n",
      "\n",
      "+---------+--------------------+-------+\n",
      "|    LCLid|                tstp| energy|\n",
      "+---------+--------------------+-------+\n",
      "|MAC000048|2011-12-08 12:30:...| 0.229 |\n",
      "|MAC000048|2011-12-08 13:00:...| 0.213 |\n",
      "|MAC000048|2011-12-08 13:30:...| 0.272 |\n",
      "|MAC000048|2011-12-08 14:00:...| 0.576 |\n",
      "|MAC000048|2011-12-08 14:30:...| 0.194 |\n",
      "|MAC000048|2011-12-08 15:00:...| 0.107 |\n",
      "|MAC000048|2011-12-08 15:30:...| 0.107 |\n",
      "|MAC000048|2011-12-08 16:00:...| 0.119 |\n",
      "|MAC000048|2011-12-08 16:30:...| 0.326 |\n",
      "|MAC000048|2011-12-08 17:00:...| 0.299 |\n",
      "|MAC000048|2011-12-08 17:30:...| 0.107 |\n",
      "|MAC000048|2011-12-08 18:00:...| 0.088 |\n",
      "|MAC000048|2011-12-08 18:30:...| 0.088 |\n",
      "|MAC000048|2011-12-08 19:00:...| 0.087 |\n",
      "|MAC000048|2011-12-08 19:30:...| 0.087 |\n",
      "|MAC000048|2011-12-08 20:00:...| 0.088 |\n",
      "|MAC000048|2011-12-08 20:30:...| 0.087 |\n",
      "|MAC000048|2011-12-08 21:00:...| 0.088 |\n",
      "|MAC000048|2011-12-08 21:30:...|   0.1 |\n",
      "|MAC000048|2011-12-08 22:00:...| 0.113 |\n",
      "+---------+--------------------+-------+\n",
      "only showing top 20 rows\n",
      "\n"
     ]
    }
   ],
   "source": [
    "df_hhDataSet = renameColumns(df_hhDataSet)\n",
    "\n"
   ]
  },
  {
   "cell_type": "code",
   "execution_count": 52,
   "metadata": {
    "ExecuteTime": {
     "end_time": "2020-03-23T03:31:32.488114Z",
     "start_time": "2020-03-23T03:31:32.236591Z"
    }
   },
   "outputs": [
    {
     "ename": "NameError",
     "evalue": "name 'df_householdAffluent' is not defined",
     "output_type": "error",
     "traceback": [
      "\u001b[0;31m---------------------------------------------------------------------------\u001b[0m",
      "\u001b[0;31mNameError\u001b[0m                                 Traceback (most recent call last)",
      "\u001b[0;32m<ipython-input-52-b9cb7f02d24c>\u001b[0m in \u001b[0;36m<module>\u001b[0;34m\u001b[0m\n\u001b[0;32m----> 1\u001b[0;31m \u001b[0mdf_householdAffluent\u001b[0m\u001b[0;34m\u001b[0m\u001b[0;34m\u001b[0m\u001b[0m\n\u001b[0m",
      "\u001b[0;31mNameError\u001b[0m: name 'df_householdAffluent' is not defined"
     ]
    }
   ],
   "source": [
    "df_householdAffluent"
   ]
  },
  {
   "cell_type": "code",
   "execution_count": 53,
   "metadata": {
    "ExecuteTime": {
     "end_time": "2020-03-23T03:32:09.146347Z",
     "start_time": "2020-03-23T03:32:06.305473Z"
    }
   },
   "outputs": [],
   "source": [
    "df_householdAffluent = df_hhDataSet.where(col(\"LCLid\").isin(householdAffluent))"
   ]
  },
  {
   "cell_type": "code",
   "execution_count": 54,
   "metadata": {
    "ExecuteTime": {
     "end_time": "2020-03-23T03:32:11.228007Z",
     "start_time": "2020-03-23T03:32:09.148355Z"
    }
   },
   "outputs": [],
   "source": [
    "df_householdComfortable = df_hhDataSet.where(col(\"LCLid\").isin(householdComfortable))"
   ]
  },
  {
   "cell_type": "code",
   "execution_count": 55,
   "metadata": {
    "ExecuteTime": {
     "end_time": "2020-03-23T03:32:13.331876Z",
     "start_time": "2020-03-23T03:32:11.230124Z"
    }
   },
   "outputs": [],
   "source": [
    "df_householdAdversity = df_hhDataSet.where(col(\"LCLid\").isin(householdAdversity))"
   ]
  },
  {
   "cell_type": "code",
   "execution_count": 56,
   "metadata": {
    "ExecuteTime": {
     "end_time": "2020-03-23T03:32:13.479228Z",
     "start_time": "2020-03-23T03:32:13.333780Z"
    }
   },
   "outputs": [
    {
     "name": "stdout",
     "output_type": "stream",
     "text": [
      "+---------+--------------------+-------+\n",
      "|    LCLid|                tstp| energy|\n",
      "+---------+--------------------+-------+\n",
      "|MAC000048|2011-12-08 12:30:...| 0.229 |\n",
      "|MAC000048|2011-12-08 13:00:...| 0.213 |\n",
      "|MAC000048|2011-12-08 13:30:...| 0.272 |\n",
      "|MAC000048|2011-12-08 14:00:...| 0.576 |\n",
      "|MAC000048|2011-12-08 14:30:...| 0.194 |\n",
      "|MAC000048|2011-12-08 15:00:...| 0.107 |\n",
      "|MAC000048|2011-12-08 15:30:...| 0.107 |\n",
      "|MAC000048|2011-12-08 16:00:...| 0.119 |\n",
      "|MAC000048|2011-12-08 16:30:...| 0.326 |\n",
      "|MAC000048|2011-12-08 17:00:...| 0.299 |\n",
      "+---------+--------------------+-------+\n",
      "only showing top 10 rows\n",
      "\n"
     ]
    }
   ],
   "source": [
    "df_householdAffluent.show(10)"
   ]
  },
  {
   "cell_type": "code",
   "execution_count": 71,
   "metadata": {
    "ExecuteTime": {
     "end_time": "2020-03-23T03:48:08.480874Z",
     "start_time": "2020-03-23T03:48:08.472860Z"
    }
   },
   "outputs": [],
   "source": [
    "df_hhDataSet.createOrReplaceTempView('allHouseholds')"
   ]
  },
  {
   "cell_type": "code",
   "execution_count": 57,
   "metadata": {
    "ExecuteTime": {
     "end_time": "2020-03-23T03:32:13.503200Z",
     "start_time": "2020-03-23T03:32:13.481601Z"
    }
   },
   "outputs": [],
   "source": [
    "df_householdAffluent.createOrReplaceTempView(\"householdAffluent\")"
   ]
  },
  {
   "cell_type": "code",
   "execution_count": 58,
   "metadata": {
    "ExecuteTime": {
     "end_time": "2020-03-23T03:32:13.523161Z",
     "start_time": "2020-03-23T03:32:13.505078Z"
    }
   },
   "outputs": [],
   "source": [
    "df_householdComfortable.createOrReplaceTempView(\"householdComfortable\")"
   ]
  },
  {
   "cell_type": "code",
   "execution_count": 59,
   "metadata": {
    "ExecuteTime": {
     "end_time": "2020-03-23T03:32:13.546186Z",
     "start_time": "2020-03-23T03:32:13.525673Z"
    }
   },
   "outputs": [],
   "source": [
    "df_householdAdversity.createOrReplaceTempView(\"householdAdversity\")"
   ]
  },
  {
   "cell_type": "code",
   "execution_count": 60,
   "metadata": {
    "ExecuteTime": {
     "end_time": "2020-03-23T03:32:13.554948Z",
     "start_time": "2020-03-23T03:32:13.550406Z"
    }
   },
   "outputs": [],
   "source": [
    "def createQueryGroupByTime(table):\n",
    "    query = f'''\n",
    "        SELECT  ha.tstp, round(avg(ha.energy),5) as  energy\n",
    "            FROM {table} as ha \n",
    "        GROUP BY ha.tstp\n",
    "       ORDER BY ha.tstp ASC\n",
    "    '''\n",
    "    return query"
   ]
  },
  {
   "cell_type": "code",
   "execution_count": 72,
   "metadata": {
    "ExecuteTime": {
     "end_time": "2020-03-23T03:48:13.824396Z",
     "start_time": "2020-03-23T03:48:13.812968Z"
    }
   },
   "outputs": [],
   "source": [
    "df_AllHouseHoldsGroup = spark.sql(createQueryGroupByTime('allHouseholds'))"
   ]
  },
  {
   "cell_type": "code",
   "execution_count": 61,
   "metadata": {
    "ExecuteTime": {
     "end_time": "2020-03-23T03:32:19.685563Z",
     "start_time": "2020-03-23T03:32:19.516157Z"
    }
   },
   "outputs": [],
   "source": [
    "df_householdAffluentGroup = spark.sql(createQueryGroupByTime('householdAffluent'))"
   ]
  },
  {
   "cell_type": "code",
   "execution_count": 62,
   "metadata": {
    "ExecuteTime": {
     "end_time": "2020-03-23T03:32:20.495949Z",
     "start_time": "2020-03-23T03:32:20.471546Z"
    }
   },
   "outputs": [],
   "source": [
    "df_householdComfortableGroup = spark.sql(createQueryGroupByTime('householdComfortable'))\n",
    "df_householdAdversityGroup = spark.sql(createQueryGroupByTime('householdAdversity'))"
   ]
  },
  {
   "cell_type": "code",
   "execution_count": 73,
   "metadata": {
    "ExecuteTime": {
     "end_time": "2020-03-23T03:49:28.711992Z",
     "start_time": "2020-03-23T03:48:50.876215Z"
    }
   },
   "outputs": [
    {
     "data": {
      "text/plain": [
       "40405"
      ]
     },
     "execution_count": 73,
     "metadata": {},
     "output_type": "execute_result"
    }
   ],
   "source": [
    "df_AllHouseHoldsGroup.count()"
   ]
  },
  {
   "cell_type": "code",
   "execution_count": 63,
   "metadata": {
    "ExecuteTime": {
     "end_time": "2020-03-23T03:33:03.549536Z",
     "start_time": "2020-03-23T03:32:21.438739Z"
    },
    "scrolled": true
   },
   "outputs": [
    {
     "data": {
      "text/plain": [
       "40359"
      ]
     },
     "execution_count": 63,
     "metadata": {},
     "output_type": "execute_result"
    }
   ],
   "source": [
    "df_householdAdversityGroup.count()"
   ]
  },
  {
   "cell_type": "code",
   "execution_count": 64,
   "metadata": {
    "ExecuteTime": {
     "end_time": "2020-03-23T03:33:54.220565Z",
     "start_time": "2020-03-23T03:33:03.552930Z"
    }
   },
   "outputs": [
    {
     "data": {
      "text/plain": [
       "40332"
      ]
     },
     "execution_count": 64,
     "metadata": {},
     "output_type": "execute_result"
    }
   ],
   "source": [
    "df_householdComfortableGroup.count()"
   ]
  },
  {
   "cell_type": "code",
   "execution_count": 65,
   "metadata": {
    "ExecuteTime": {
     "end_time": "2020-03-23T03:34:42.383987Z",
     "start_time": "2020-03-23T03:33:54.223955Z"
    }
   },
   "outputs": [
    {
     "data": {
      "text/plain": [
       "40368"
      ]
     },
     "execution_count": 65,
     "metadata": {},
     "output_type": "execute_result"
    }
   ],
   "source": [
    "df_householdAffluentGroup.count()"
   ]
  },
  {
   "cell_type": "code",
   "execution_count": 66,
   "metadata": {
    "ExecuteTime": {
     "end_time": "2020-03-23T03:35:35.655687Z",
     "start_time": "2020-03-23T03:34:42.386724Z"
    }
   },
   "outputs": [],
   "source": [
    "dfp_Adversity = df_householdAdversityGroup.toPandas()  "
   ]
  },
  {
   "cell_type": "code",
   "execution_count": 67,
   "metadata": {
    "ExecuteTime": {
     "end_time": "2020-03-23T03:37:19.087334Z",
     "start_time": "2020-03-23T03:35:35.657647Z"
    }
   },
   "outputs": [],
   "source": [
    "dfp_householdComfortable = df_householdComfortableGroup.toPandas() \n",
    "dfp_householdAffluent = df_householdAffluentGroup.toPandas()"
   ]
  },
  {
   "cell_type": "code",
   "execution_count": 68,
   "metadata": {
    "ExecuteTime": {
     "end_time": "2020-03-23T03:37:19.120491Z",
     "start_time": "2020-03-23T03:37:19.089459Z"
    }
   },
   "outputs": [],
   "source": [
    "dfp_Adversity.to_pickle(\"./data/AdversityGroup.pkl\")\n",
    "dfp_householdComfortable.to_pickle(\"./data/ComfortableGroup.pkl\")\n",
    "dfp_householdAffluent.to_pickle(\"./data/AffluentGroup.pkl\")"
   ]
  },
  {
   "cell_type": "code",
   "execution_count": 69,
   "metadata": {
    "ExecuteTime": {
     "end_time": "2020-03-23T03:37:19.471068Z",
     "start_time": "2020-03-23T03:37:19.122658Z"
    }
   },
   "outputs": [],
   "source": [
    "dfp_Adversity.to_csv ('./data/AdversityGroup.csv', index = False, header=True)\n",
    "dfp_householdComfortable.to_csv ('./data/ComfortableGroup.csv', index = False, header=True)\n",
    "dfp_householdAffluent.to_csv ('./data/AffluentGroup.csv', index = False, header=True)"
   ]
  },
  {
   "cell_type": "code",
   "execution_count": 76,
   "metadata": {
    "ExecuteTime": {
     "end_time": "2020-03-23T03:53:31.193729Z",
     "start_time": "2020-03-23T03:52:41.713260Z"
    }
   },
   "outputs": [],
   "source": [
    "dfp_AllHouseHolds = df_AllHouseHoldsGroup.toPandas()"
   ]
  },
  {
   "cell_type": "code",
   "execution_count": 77,
   "metadata": {
    "ExecuteTime": {
     "end_time": "2020-03-23T03:53:31.316135Z",
     "start_time": "2020-03-23T03:53:31.195949Z"
    }
   },
   "outputs": [],
   "source": [
    "dfp_AllHouseHolds.to_csv ('./data/all.csv', index = False, header=True)"
   ]
  },
  {
   "cell_type": "code",
   "execution_count": 73,
   "metadata": {
    "ExecuteTime": {
     "end_time": "2020-03-20T05:22:25.947508Z",
     "start_time": "2020-03-20T05:22:16.406960Z"
    }
   },
   "outputs": [],
   "source": [
    "# Postgres info to connect\n",
    "import psycopg2 as pg\n",
    "\n",
    "connection_args = {\n",
    "    'host': 'localhost',  # We are connecting to our _local_ version of psql\n",
    "    'dbname': 'names',    # DB that we are connecting to\n",
    "    'port': 5432          # port for psql\n",
    "}\n",
    "\n",
    "# We will talk about this magic Python trick!\n",
    "connection = pg.connect(**connection_args)\n",
    "from sqlalchemy import create_engine\n",
    "engine = create_engine('postgresql://hansremy:Hryr1321@@localhost:5432/Project5')\n",
    "#dfp_Adversity.to_sql('Adversity', engine)\n",
    "#dfp_householdComfortable.to_sql('Comfortable', engine)\n",
    "#dfp_householdAffluent.to_sql('Affluent', engine)"
   ]
  },
  {
   "cell_type": "code",
   "execution_count": null,
   "metadata": {},
   "outputs": [],
   "source": []
  }
 ],
 "metadata": {
  "kernelspec": {
   "display_name": "Python 3.7.4 64-bit ('metis': conda)",
   "language": "python",
   "name": "python37464bitmetisconda238ccafe89084589a4e0136e24be1a37"
  },
  "language_info": {
   "codemirror_mode": {
    "name": "ipython",
    "version": 3
   },
   "file_extension": ".py",
   "mimetype": "text/x-python",
   "name": "python",
   "nbconvert_exporter": "python",
   "pygments_lexer": "ipython3",
   "version": "3.7.4"
  }
 },
 "nbformat": 4,
 "nbformat_minor": 2
}
